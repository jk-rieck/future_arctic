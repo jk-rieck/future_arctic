{
 "cells": [
  {
   "cell_type": "code",
   "execution_count": null,
   "id": "5fa607a3-8034-4776-8b7b-f936d147861e",
   "metadata": {},
   "outputs": [],
   "source": [
    "import numpy as np\n",
    "import xarray as xr\n",
    "from glob import glob\n",
    "import cftime"
   ]
  },
  {
   "cell_type": "code",
   "execution_count": null,
   "id": "997c5111-e024-4af6-871c-41008b5eafca",
   "metadata": {},
   "outputs": [],
   "source": [
    "from dask.distributed import Client, LocalCluster\n",
    "cluster = LocalCluster(n_workers=1, threads_per_worker=4, memory_limit=\"32G\")\n",
    "client = Client(cluster)\n",
    "client"
   ]
  },
  {
   "cell_type": "code",
   "execution_count": null,
   "id": "562d63f4-2414-497a-9442-34d2e605fb57",
   "metadata": {},
   "outputs": [],
   "source": [
    "for y in np.arange(1996, 2016):\n",
    "    year = str(y)\n",
    "    print(year)\n",
    "    data_filesREF_gridU = sorted(glob(\"/data0/project/drakkar/CONFIGS/CREG12.L75/CREG12.L75-REF08-S/5d/\" + year + \"/CREG12.L75-REF08_*.5d_gridU.nc\"))\n",
    "    data_filesREF_gridV = sorted(glob(\"/data0/project/drakkar/CONFIGS/CREG12.L75/CREG12.L75-REF08-S/5d/\" + year + \"/CREG12.L75-REF08_*.5d_gridV.nc\"))\n",
    "    UREF = xr.decode_cf(xr.open_mfdataset(data_filesREF_gridU, coords=\"minimal\", compat=\"override\", parallel=True, decode_cf=False))\n",
    "    VREF = xr.decode_cf(xr.open_mfdataset(data_filesREF_gridV, coords=\"minimal\", compat=\"override\", parallel=True, decode_cf=False))\n",
    "    uUREF = UREF.vozocrtx.interp(x=np.arange(0.5, 1580, 1)).rename({\"depthu\": \"deptht\"}).assign_coords({\"x\": np.arange(0, 1580), \"y\": np.arange(0, 1801)})\n",
    "    vVREF = VREF.vomecrty.interp(y=np.arange(0.5, 1801, 1)).rename({\"depthv\": \"deptht\"}).assign_coords({\"x\": np.arange(0, 1580), \"y\": np.arange(0, 1801)})\n",
    "    dudzREF = uUREF.differentiate(\"deptht\")\n",
    "    dvdzREF = vVREF.differentiate(\"deptht\")\n",
    "    shearREF = ((dudzREF**2) + (dvdzREF**2)).to_dataset(name=\"vovshear\")\n",
    "    days, datasets = zip(*shearREF.groupby(\"time_counter\"))\n",
    "    datasets = list(datasets)\n",
    "    datasets = [datasets[j].expand_dims(dim={\"time_counter\": 1}) for j in np.arange(0, len(datasets))]\n",
    "    dates = list(xr.cftime_range(start=year + \"-01-05\", end=year + \"-12-31\", freq=\"5D\", calendar=\"noleap\"))\n",
    "    if year in [\"2001\", \"2014\", \"2015\"]:\n",
    "        dates = dates[0:36] + list(xr.cftime_range(start=str(days[0].year) + \"-07-05\", end=str(days[0].year) + \"-12-31\", freq=\"5D\", calendar=\"noleap\"))\n",
    "    paths = [str(\"/data0/project/drakkar/USERS/jrieck/CREG12.L75-REF08-shear/\" + year + \"/CREG12.L75-REF08_y\" \n",
    "                 + \"%04d\" % d.year + \"m\" + \"%02d\" % d.month + \"d\" + \"%02d\" % d.day + \".5d_shear.nc\") for d in dates]\n",
    "    xr.save_mfdataset(datasets, paths, engine=\"netcdf4\", format=\"NETCDF4\")"
   ]
  },
  {
   "cell_type": "code",
   "execution_count": null,
   "id": "c8057fcb-3872-41e0-a0d0-d3d9b3a8e355",
   "metadata": {},
   "outputs": [],
   "source": [
    "print(\"clim\")\n",
    "data_filesREF_gridU = sorted(glob(\"/data0/project/drakkar/USERS/jrieck/CREG12.L75-REF08-UV_clim/CREG12.L75-REF08_m*_gridUclim.nc\"))\n",
    "data_filesREF_gridV = sorted(glob(\"/data0/project/drakkar/USERS/jrieck/CREG12.L75-REF08-UV_clim/CREG12.L75-REF08_m*_gridVclim.nc\"))\n",
    "UREF = xr.decode_cf(xr.open_mfdataset(data_filesREF_gridU, coords=\"minimal\", compat=\"override\", parallel=True, decode_cf=False, combine=\"nested\", concat_dim=\"time_counter\"))\n",
    "VREF = xr.decode_cf(xr.open_mfdataset(data_filesREF_gridV, coords=\"minimal\", compat=\"override\", parallel=True, decode_cf=False, combine=\"nested\", concat_dim=\"time_counter\"))\n",
    "uUREF = UREF.vozocrtx.interp(x=np.arange(0.5, 1580, 1)).rename({\"depthu\": \"deptht\"}).assign_coords({\"x\": np.arange(0, 1580), \"y\": np.arange(0, 1801)})\n",
    "vVREF = VREF.vomecrty.interp(y=np.arange(0.5, 1801, 1)).rename({\"depthv\": \"deptht\"}).assign_coords({\"x\": np.arange(0, 1580), \"y\": np.arange(0, 1801)})\n",
    "dudzREF = uUREF.differentiate(\"deptht\")\n",
    "dvdzREF = vVREF.differentiate(\"deptht\")\n",
    "shearREF = ((dudzREF**2) + (dvdzREF**2)).to_dataset(name=\"vovshear\")\n",
    "path = str(\"/data0/project/drakkar/USERS/jrieck/CREG12.L75-REF08-shear/clim/CREG12.L75-REF08_1996-2015_climatology_vovshear.nc\")\n",
    "shearREF.to_netcdf(path, engine=\"netcdf4\", format=\"NETCDF4\")"
   ]
  },
  {
   "cell_type": "code",
   "execution_count": null,
   "id": "1eb6c0f1-83e6-4843-8270-1fab584c7d5d",
   "metadata": {},
   "outputs": [],
   "source": [
    "for y in np.arange(2051, 2071):\n",
    "    year = str(y)\n",
    "    print(year)\n",
    "    data_filesFUT_gridU = sorted(glob(\"/data0/project/drakkar/CONFIGS/CREG12.L75/CREG12.L75-FUT08-S/5d/\" + year + \"/CREG12.L75-FUT08_*.5d_gridU.nc\"))\n",
    "    data_filesFUT_gridV = sorted(glob(\"/data0/project/drakkar/CONFIGS/CREG12.L75/CREG12.L75-FUT08-S/5d/\" + year + \"/CREG12.L75-FUT08_*.5d_gridV.nc\"))    \n",
    "    UFUT = xr.decode_cf(xr.open_mfdataset(data_filesFUT_gridU, coords=\"minimal\", compat=\"override\", parallel=True, decode_cf=False))\n",
    "    VFUT = xr.decode_cf(xr.open_mfdataset(data_filesFUT_gridV, coords=\"minimal\", compat=\"override\", parallel=True, decode_cf=False))\n",
    "    uUFUT = UFUT.vozocrtx.interp(x=np.arange(0.5, 1580, 1)).rename({\"depthu\": \"deptht\"}).assign_coords({\"x\": np.arange(0, 1580), \"y\": np.arange(0, 1801)})\n",
    "    vVFUT = VFUT.vomecrty.interp(y=np.arange(0.5, 1801, 1)).rename({\"depthv\": \"deptht\"}).assign_coords({\"x\": np.arange(0, 1580), \"y\": np.arange(0, 1801)})\n",
    "    dudzFUT = uUFUT.differentiate(\"deptht\")\n",
    "    dvdzFUT = vVFUT.differentiate(\"deptht\") \n",
    "    shearFUT = ((dudzFUT**2) + (dvdzFUT**2)).to_dataset(name=\"vovshear\")\n",
    "    days, datasets = zip(*shearFUT.groupby(\"time_counter\"))\n",
    "    datasets = list(datasets)\n",
    "    datasets = [datasets[j].expand_dims(dim={\"time_counter\": 1}) for j in np.arange(0, len(datasets))]\n",
    "    dates = list(xr.cftime_range(start=year + \"-01-05\", end=year + \"-12-31\", freq=\"5D\", calendar=\"noleap\"))\n",
    "    if year in [\"2063\"]:\n",
    "        dates = dates[0:36] + list(xr.cftime_range(start=str(days[0].year) + \"-07-05\", end=str(days[0].year) + \"-12-31\", freq=\"5D\", calendar=\"noleap\"))\n",
    "    paths = [str(\"/data0/project/drakkar/USERS/jrieck/CREG12.L75-FUT08-shear/\" + year + \"/CREG12.L75-FUT08_y\" \n",
    "                 + \"%04d\" % d.year + \"m\" + \"%02d\" % d.month + \"d\" + \"%02d\" % d.day + \".5d_shear.nc\") for d in dates]\n",
    "    xr.save_mfdataset(datasets, paths, engine=\"netcdf4\", format=\"NETCDF4\")"
   ]
  },
  {
   "cell_type": "code",
   "execution_count": null,
   "id": "61a89b37-861a-41c8-844d-df5b3a1c2746",
   "metadata": {},
   "outputs": [],
   "source": [
    "print(\"clim\")\n",
    "data_filesFUT_gridU = sorted(glob(\"/data0/project/drakkar/USERS/jrieck/CREG12.L75-FUT08-UV_clim/CREG12.L75-FUT08_m*_gridUclim.nc\"))\n",
    "data_filesFUT_gridV = sorted(glob(\"/data0/project/drakkar/USERS/jrieck/CREG12.L75-FUT08-UV_clim/CREG12.L75-FUT08_m*_gridVclim.nc\"))\n",
    "UFUT = xr.decode_cf(xr.open_mfdataset(data_filesFUT_gridU, coords=\"minimal\", compat=\"override\", parallel=True, decode_cf=False, combine=\"nested\", concat_dim=\"time_counter\"))\n",
    "VFUT = xr.decode_cf(xr.open_mfdataset(data_filesFUT_gridV, coords=\"minimal\", compat=\"override\", parallel=True, decode_cf=False, combine=\"nested\", concat_dim=\"time_counter\"))\n",
    "uUFUT = UFUT.vozocrtx.interp(x=np.arange(0.5, 1580, 1)).rename({\"depthu\": \"deptht\"}).assign_coords({\"x\": np.arange(0, 1580), \"y\": np.arange(0, 1801)})\n",
    "vVFUT = VFUT.vomecrty.interp(y=np.arange(0.5, 1801, 1)).rename({\"depthv\": \"deptht\"}).assign_coords({\"x\": np.arange(0, 1580), \"y\": np.arange(0, 1801)})\n",
    "dudzFUT = uUFUT.differentiate(\"deptht\")\n",
    "dvdzFUT = vVFUT.differentiate(\"deptht\")\n",
    "shearFUT = ((dudzFUT**2) + (dvdzFUT**2)).to_dataset(name=\"vovshear\")\n",
    "path = str(\"/data0/project/drakkar/USERS/jrieck/CREG12.L75-FUT08-shear/clim/CREG12.L75-FUT08_2051-2070_climatology_vovshear.nc\")\n",
    "shearFUT.to_netcdf(path, engine=\"netcdf4\", format=\"NETCDF4\")"
   ]
  },
  {
   "cell_type": "code",
   "execution_count": null,
   "id": "2d5d0a0c-7ad6-434f-acdf-cd465a89d500",
   "metadata": {},
   "outputs": [],
   "source": []
  },
  {
   "cell_type": "code",
   "execution_count": null,
   "id": "e15f38bd-1132-41d0-84e7-34dce14767a3",
   "metadata": {},
   "outputs": [],
   "source": []
  },
  {
   "cell_type": "code",
   "execution_count": null,
   "id": "3d676a4d-f6dd-482d-9a1f-58d98b82ae3f",
   "metadata": {},
   "outputs": [],
   "source": []
  },
  {
   "cell_type": "code",
   "execution_count": null,
   "id": "a3ab3c06-0a3e-420d-bc32-3177722a3150",
   "metadata": {},
   "outputs": [],
   "source": []
  },
  {
   "cell_type": "code",
   "execution_count": null,
   "id": "871b100c-70b7-4357-8062-489221918154",
   "metadata": {},
   "outputs": [],
   "source": []
  }
 ],
 "metadata": {
  "kernelspec": {
   "display_name": "py3_x",
   "language": "python",
   "name": "py3_x"
  },
  "language_info": {
   "codemirror_mode": {
    "name": "ipython",
    "version": 3
   },
   "file_extension": ".py",
   "mimetype": "text/x-python",
   "name": "python",
   "nbconvert_exporter": "python",
   "pygments_lexer": "ipython3",
   "version": "3.8.10"
  }
 },
 "nbformat": 4,
 "nbformat_minor": 5
}
