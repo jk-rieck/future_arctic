{
 "cells": [
  {
   "cell_type": "code",
   "execution_count": 1,
   "id": "5fa607a3-8034-4776-8b7b-f936d147861e",
   "metadata": {},
   "outputs": [],
   "source": [
    "import numpy as np\n",
    "import xarray as xr\n",
    "from glob import glob\n",
    "import cftime"
   ]
  },
  {
   "cell_type": "code",
   "execution_count": null,
   "id": "997c5111-e024-4af6-871c-41008b5eafca",
   "metadata": {},
   "outputs": [],
   "source": [
    "from dask.distributed import Client, LocalCluster\n",
    "cluster = LocalCluster(n_workers=1, threads_per_worker=4, memory_limit=\"28G\")\n",
    "client = Client(cluster)\n",
    "client"
   ]
  },
  {
   "cell_type": "code",
   "execution_count": 2,
   "id": "2eeb1136-4475-4912-87c6-100d6789bcf7",
   "metadata": {},
   "outputs": [],
   "source": [
    "dates = list(xr.cftime_range(start=\"0001-01-03T12:00:00\", end=\"0001-12-31\", freq=\"5D\", calendar=\"noleap\"))\n",
    "bounds = list(xr.cftime_range(start=\"0001-01-01T00:00:00\", end=\"0002-01-03\", freq=\"5D\", calendar=\"noleap\"))\n",
    "dates_odd = list(xr.cftime_range(\"0001-07-03T12:00:00\", end=\"0001-12-27\", freq=\"5D\", calendar=\"noleap\"))\n",
    "bounds_odd = list(xr.cftime_range(start=\"0001-07-01T00:00:00\", end=\"0001-12-31\", freq=\"5D\", calendar=\"noleap\"))"
   ]
  },
  {
   "cell_type": "markdown",
   "id": "93deda21-b93f-49e5-aec8-6bbb11066291",
   "metadata": {},
   "source": [
    "## UV"
   ]
  },
  {
   "cell_type": "code",
   "execution_count": null,
   "id": "e65ef699-81ca-4f49-a32c-3ffd31ad6379",
   "metadata": {},
   "outputs": [],
   "source": [
    "path_in = \"/data0/project/drakkar/USERS/jrieck/CREG12.L75-REF08-UV_clim/\""
   ]
  },
  {
   "cell_type": "code",
   "execution_count": null,
   "id": "5394813e-fc7e-485a-8ada-3d2f1cb99f62",
   "metadata": {},
   "outputs": [],
   "source": [
    "filesU = sorted(glob(path_in + \"CREG12.L75-REF08_m*gridUclim.nc\"))\n",
    "filesU_odd = sorted(glob(path_in + \"2001/CREG12.L75-REF08_m*gridUclim.nc\"))\n",
    "filesV = sorted(glob(path_in + \"CREG12.L75-REF08_m*gridVclim.nc\"))\n",
    "filesV_odd = sorted(glob(path_in + \"2001/CREG12.L75-REF08_m*gridVclim.nc\"))"
   ]
  },
  {
   "cell_type": "code",
   "execution_count": null,
   "id": "cc5c2cc2-ab6e-4f59-bfc9-d3fc233b4ccb",
   "metadata": {},
   "outputs": [],
   "source": [
    "for i in np.arange(0, len(filesU)):\n",
    "    print(str(i))\n",
    "    fileU = filesU[i]\n",
    "    fileV = filesV[i]\n",
    "    dsU = xr.decode_cf(xr.open_mfdataset(fileU, coords=\"minimal\", compat=\"override\", parallel=True, decode_cf=False))\n",
    "    dsV = xr.decode_cf(xr.open_mfdataset(fileV, coords=\"minimal\", compat=\"override\", parallel=True, decode_cf=False))\n",
    "    dsU[\"time_counter\"] = [dates[i]]\n",
    "    dsU[\"time_centered\"] = [dates[i]]\n",
    "    dsU[\"time_counter_bounds\"] = ([\"time_counter\", \"axis_nbounds\"], np.array([[bounds[i], bounds[i+1]]]))\n",
    "    dsU[\"time_centered_bounds\"] = ([\"time_centered\", \"axis_nbounds\"], np.array([[bounds[i], bounds[i+1]]]))\n",
    "    dsV[\"time_counter\"] = [dates[i]]\n",
    "    dsV[\"time_centered\"] = [dates[i]]\n",
    "    dsV[\"time_counter_bounds\"] = ([\"time_counter\", \"axis_nbounds\"], np.array([[bounds[i], bounds[i+1]]]))\n",
    "    dsV[\"time_centered_bounds\"] = ([\"time_centered\", \"axis_nbounds\"], np.array([[bounds[i], bounds[i+1]]]))\n",
    "    dsU.to_netcdf(fileU + \".new\", engine=\"netcdf4\", format=\"NETCDF4\")\n",
    "    dsV.to_netcdf(fileV + \".new\", engine=\"netcdf4\", format=\"NETCDF4\")"
   ]
  },
  {
   "cell_type": "code",
   "execution_count": null,
   "id": "559d4662-da3b-44a7-91ff-6639961b52ed",
   "metadata": {},
   "outputs": [],
   "source": [
    "for i in np.arange(0, len(filesU_odd)):\n",
    "    print(str(i))\n",
    "    fileU_odd = filesU_odd[i]\n",
    "    fileV_odd = filesV_odd[i]\n",
    "    dsU_odd = xr.decode_cf(xr.open_mfdataset(fileU_odd, coords=\"minimal\", compat=\"override\", parallel=True, decode_cf=False))\n",
    "    dsV_odd = xr.decode_cf(xr.open_mfdataset(fileV_odd, coords=\"minimal\", compat=\"override\", parallel=True, decode_cf=False))\n",
    "    dsU_odd[\"time_counter\"] = [dates_odd[i]]\n",
    "    dsU_odd[\"time_centered\"] = [dates_odd[i]]\n",
    "    dsU_odd[\"time_counter_bounds\"] = ([\"time_counter\", \"axis_nbounds\"], np.array([[bounds_odd[i], bounds_odd[i+1]]]))\n",
    "    dsU_odd[\"time_centered_bounds\"] = ([\"time_centered\", \"axis_nbounds\"], np.array([[bounds_odd[i], bounds_odd[i+1]]]))\n",
    "    dsV_odd[\"time_counter\"] = [dates_odd[i]]\n",
    "    dsV_odd[\"time_centered\"] = [dates_odd[i]]\n",
    "    dsV_odd[\"time_counter_bounds\"] = ([\"time_counter\", \"axis_nbounds\"], np.array([[bounds_odd[i], bounds_odd[i+1]]]))\n",
    "    dsV_odd[\"time_centered_bounds\"] = ([\"time_centered\", \"axis_nbounds\"], np.array([[bounds_odd[i], bounds_odd[i+1]]]))\n",
    "    dsU_odd.to_netcdf(fileU_odd + \".new\", engine=\"netcdf4\", format=\"NETCDF4\")\n",
    "    dsV_odd.to_netcdf(fileV_odd + \".new\", engine=\"netcdf4\", format=\"NETCDF4\")"
   ]
  },
  {
   "cell_type": "code",
   "execution_count": null,
   "id": "289d7e74-3893-4480-af9f-bb76d352e7b7",
   "metadata": {},
   "outputs": [],
   "source": [
    "path_in = \"/data0/project/drakkar/USERS/jrieck/CREG12.L75-FUT08-UV_clim/\""
   ]
  },
  {
   "cell_type": "code",
   "execution_count": null,
   "id": "d9db72a8-0eff-43a7-993d-da548ff5faa4",
   "metadata": {},
   "outputs": [],
   "source": [
    "filesU = sorted(glob(path_in + \"CREG12.L75-FUT08_m*gridUclim.nc\"))\n",
    "filesU_odd = sorted(glob(path_in + \"2063/CREG12.L75-FUT08_m*gridUclim.nc\"))\n",
    "filesV = sorted(glob(path_in + \"CREG12.L75-FUT08_m*gridVclim.nc\"))\n",
    "filesV_odd = sorted(glob(path_in + \"2063/CREG12.L75-FUT08_m*gridVclim.nc\"))"
   ]
  },
  {
   "cell_type": "code",
   "execution_count": null,
   "id": "7f55b113-b54f-48ca-8d36-e1cb7d5e346b",
   "metadata": {},
   "outputs": [],
   "source": [
    "for i in np.arange(0, len(filesU)):\n",
    "    print(str(i))\n",
    "    fileU = filesU[i]\n",
    "    fileV = filesV[i]\n",
    "    dsU = xr.decode_cf(xr.open_mfdataset(fileU, coords=\"minimal\", compat=\"override\", parallel=True, decode_cf=False))\n",
    "    dsV = xr.decode_cf(xr.open_mfdataset(fileV, coords=\"minimal\", compat=\"override\", parallel=True, decode_cf=False))\n",
    "    dsU[\"time_counter\"] = [dates[i]]\n",
    "    dsU[\"time_centered\"] = [dates[i]]\n",
    "    dsU[\"time_counter_bounds\"] = ([\"time_counter\", \"axis_nbounds\"], np.array([[bounds[i], bounds[i+1]]]))\n",
    "    dsU[\"time_centered_bounds\"] = ([\"time_centered\", \"axis_nbounds\"], np.array([[bounds[i], bounds[i+1]]]))\n",
    "    dsV[\"time_counter\"] = [dates[i]]\n",
    "    dsV[\"time_centered\"] = [dates[i]]\n",
    "    dsV[\"time_counter_bounds\"] = ([\"time_counter\", \"axis_nbounds\"], np.array([[bounds[i], bounds[i+1]]]))\n",
    "    dsV[\"time_centered_bounds\"] = ([\"time_centered\", \"axis_nbounds\"], np.array([[bounds[i], bounds[i+1]]]))\n",
    "    dsU.to_netcdf(fileU + \".new\", engine=\"netcdf4\", format=\"NETCDF4\")\n",
    "    dsV.to_netcdf(fileV + \".new\", engine=\"netcdf4\", format=\"NETCDF4\")"
   ]
  },
  {
   "cell_type": "code",
   "execution_count": null,
   "id": "edf87334-cbef-4245-afb9-4892d7e18be3",
   "metadata": {},
   "outputs": [],
   "source": [
    "for i in np.arange(0, len(filesU_odd)):\n",
    "    print(str(i))\n",
    "    fileU_odd = filesU_odd[i]\n",
    "    fileV_odd = filesV_odd[i]\n",
    "    dsU_odd = xr.decode_cf(xr.open_mfdataset(fileU_odd, coords=\"minimal\", compat=\"override\", parallel=True, decode_cf=False))\n",
    "    dsV_odd = xr.decode_cf(xr.open_mfdataset(fileV_odd, coords=\"minimal\", compat=\"override\", parallel=True, decode_cf=False))\n",
    "    dsU_odd[\"time_counter\"] = [dates_odd[i]]\n",
    "    dsU_odd[\"time_centered\"] = [dates_odd[i]]\n",
    "    dsU_odd[\"time_counter_bounds\"] = ([\"time_counter\", \"axis_nbounds\"], np.array([[bounds_odd[i], bounds_odd[i+1]]]))\n",
    "    dsU_odd[\"time_centered_bounds\"] = ([\"time_centered\", \"axis_nbounds\"], np.array([[bounds_odd[i], bounds_odd[i+1]]]))\n",
    "    dsV_odd[\"time_counter\"] = [dates_odd[i]]\n",
    "    dsV_odd[\"time_centered\"] = [dates_odd[i]]\n",
    "    dsV_odd[\"time_counter_bounds\"] = ([\"time_counter\", \"axis_nbounds\"], np.array([[bounds_odd[i], bounds_odd[i+1]]]))\n",
    "    dsV_odd[\"time_centered_bounds\"] = ([\"time_centered\", \"axis_nbounds\"], np.array([[bounds_odd[i], bounds_odd[i+1]]]))\n",
    "    dsU_odd.to_netcdf(fileU_odd + \".new\", engine=\"netcdf4\", format=\"NETCDF4\")\n",
    "    dsV_odd.to_netcdf(fileV_odd + \".new\", engine=\"netcdf4\", format=\"NETCDF4\")"
   ]
  },
  {
   "cell_type": "markdown",
   "id": "e2e4c7a1-8eda-4dda-96c1-229f18f42ad3",
   "metadata": {},
   "source": [
    "## T"
   ]
  },
  {
   "cell_type": "code",
   "execution_count": 3,
   "id": "e15f38bd-1132-41d0-84e7-34dce14767a3",
   "metadata": {},
   "outputs": [],
   "source": [
    "path_in = \"/data0/project/drakkar/USERS/jrieck/CREG12.L75-REF08-T_clim/\""
   ]
  },
  {
   "cell_type": "code",
   "execution_count": 12,
   "id": "1b28a7a0-22d8-419e-b21b-968b0afba769",
   "metadata": {},
   "outputs": [],
   "source": [
    "dates_odd = dates[0:36] + list(xr.cftime_range(\"0001-07-03T12:00:00\", end=\"0001-12-27\", freq=\"5D\", calendar=\"noleap\"))\n",
    "bounds_odd = bounds[0:36] + list(xr.cftime_range(start=\"0001-07-01T00:00:00\", end=\"0001-12-31\", freq=\"5D\", calendar=\"noleap\"))"
   ]
  },
  {
   "cell_type": "code",
   "execution_count": 16,
   "id": "3d676a4d-f6dd-482d-9a1f-58d98b82ae3f",
   "metadata": {},
   "outputs": [],
   "source": [
    "filesT = sorted(glob(path_in + \"CREG12.L75-REF08_m*gridTclim.nc\"))\n",
    "filesT_odd = sorted(glob(path_in + \"2001/CREG12.L75-REF08_m*gridTclim.nc\"))"
   ]
  },
  {
   "cell_type": "code",
   "execution_count": 6,
   "id": "a3ab3c06-0a3e-420d-bc32-3177722a3150",
   "metadata": {},
   "outputs": [],
   "source": [
    "for i in np.arange(0, len(filesT)):\n",
    "    print(str(i))\n",
    "    fileT = filesT[i]\n",
    "    dsT = xr.decode_cf(xr.open_mfdataset(fileT, coords=\"minimal\", compat=\"override\", parallel=True, decode_cf=False))\n",
    "    dsT[\"time_counter\"] = [dates[i]]\n",
    "    dsT[\"time_centered\"] = [dates[i]]\n",
    "    dsT[\"time_counter_bounds\"] = ([\"time_counter\", \"axis_nbounds\"], np.array([[bounds[i], bounds[i+1]]]))\n",
    "    dsT[\"time_centered_bounds\"] = ([\"time_centered\", \"axis_nbounds\"], np.array([[bounds[i], bounds[i+1]]]))\n",
    "    dsT.to_netcdf(fileT + \".new\", engine=\"netcdf4\", format=\"NETCDF4\")"
   ]
  },
  {
   "cell_type": "code",
   "execution_count": null,
   "id": "871b100c-70b7-4357-8062-489221918154",
   "metadata": {},
   "outputs": [],
   "source": [
    "for i in np.arange(0, len(filesT_odd)):\n",
    "    print(str(i))\n",
    "    fileT_odd = filesT_odd[i]\n",
    "    dsT_odd = xr.decode_cf(xr.open_mfdataset(fileT_odd, coords=\"minimal\", compat=\"override\", parallel=True, decode_cf=False))\n",
    "    dsT_odd[\"time_counter\"] = [dates_odd[i]]\n",
    "    dsT_odd[\"time_centered\"] = [dates_odd[i]]\n",
    "    dsT_odd[\"time_counter_bounds\"] = ([\"time_counter\", \"axis_nbounds\"], np.array([[bounds_odd[i], bounds_odd[i+1]]]))\n",
    "    dsT_odd[\"time_centered_bounds\"] = ([\"time_centered\", \"axis_nbounds\"], np.array([[bounds_odd[i], bounds_odd[i+1]]]))\n",
    "    dsT_odd.to_netcdf(fileT_odd + \".new\", engine=\"netcdf4\", format=\"NETCDF4\")"
   ]
  },
  {
   "cell_type": "code",
   "execution_count": 18,
   "id": "9ec66bec-2a5d-4698-8b32-c6ea7b57f80e",
   "metadata": {},
   "outputs": [],
   "source": [
    "path_in = \"/data0/project/drakkar/USERS/jrieck/CREG12.L75-FUT08-T_clim/\""
   ]
  },
  {
   "cell_type": "code",
   "execution_count": 19,
   "id": "f0dd37e8-969a-4846-bcf3-e53e7f7fa32d",
   "metadata": {},
   "outputs": [],
   "source": [
    "filesT = sorted(glob(path_in + \"CREG12.L75-FUT08_m*gridTclim.nc\"))\n",
    "filesT_odd = sorted(glob(path_in + \"2063/CREG12.L75-FUT08_m*gridTclim.nc\"))"
   ]
  },
  {
   "cell_type": "code",
   "execution_count": null,
   "id": "0e20a755-1ac3-48f1-af0a-e1604d7fc109",
   "metadata": {},
   "outputs": [],
   "source": [
    "for i in np.arange(0, len(filesT)):\n",
    "    print(str(i))\n",
    "    fileT = filesT[i]\n",
    "    dsT = xr.decode_cf(xr.open_mfdataset(fileT, coords=\"minimal\", compat=\"override\", parallel=True, decode_cf=False))\n",
    "    dsT[\"time_counter\"] = [dates[i]]\n",
    "    dsT[\"time_centered\"] = [dates[i]]\n",
    "    dsT[\"time_counter_bounds\"] = ([\"time_counter\", \"axis_nbounds\"], np.array([[bounds[i], bounds[i+1]]]))\n",
    "    dsT[\"time_centered_bounds\"] = ([\"time_centered\", \"axis_nbounds\"], np.array([[bounds[i], bounds[i+1]]]))\n",
    "    dsT.to_netcdf(fileT + \".new\", engine=\"netcdf4\", format=\"NETCDF4\")"
   ]
  },
  {
   "cell_type": "code",
   "execution_count": null,
   "id": "14674123-b289-47a3-8a7a-3060baf585a2",
   "metadata": {},
   "outputs": [],
   "source": [
    "for i in np.arange(0, len(filesT_odd)):\n",
    "    print(str(i))\n",
    "    fileT_odd = filesT_odd[i]\n",
    "    dsT_odd = xr.decode_cf(xr.open_mfdataset(fileT_odd, coords=\"minimal\", compat=\"override\", parallel=True, decode_cf=False))\n",
    "    dsT_odd[\"time_counter\"] = [dates_odd[i]]\n",
    "    dsT_odd[\"time_centered\"] = [dates_odd[i]]\n",
    "    dsT_odd[\"time_counter_bounds\"] = ([\"time_counter\", \"axis_nbounds\"], np.array([[bounds_odd[i], bounds_odd[i+1]]]))\n",
    "    dsT_odd[\"time_centered_bounds\"] = ([\"time_centered\", \"axis_nbounds\"], np.array([[bounds_odd[i], bounds_odd[i+1]]]))\n",
    "    dsT_odd.to_netcdf(fileT_odd + \".new\", engine=\"netcdf4\", format=\"NETCDF4\")"
   ]
  },
  {
   "cell_type": "code",
   "execution_count": null,
   "id": "0af2a91b-0e61-4923-be7c-23d5d461b130",
   "metadata": {},
   "outputs": [],
   "source": []
  }
 ],
 "metadata": {
  "kernelspec": {
   "display_name": "py3_x",
   "language": "python",
   "name": "py3_x"
  },
  "language_info": {
   "codemirror_mode": {
    "name": "ipython",
    "version": 3
   },
   "file_extension": ".py",
   "mimetype": "text/x-python",
   "name": "python",
   "nbconvert_exporter": "python",
   "pygments_lexer": "ipython3",
   "version": "3.8.10"
  }
 },
 "nbformat": 4,
 "nbformat_minor": 5
}
