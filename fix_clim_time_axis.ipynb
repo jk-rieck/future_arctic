{
 "cells": [
  {
   "cell_type": "code",
   "execution_count": 1,
   "id": "5fa607a3-8034-4776-8b7b-f936d147861e",
   "metadata": {},
   "outputs": [],
   "source": [
    "import numpy as np\n",
    "import xarray as xr\n",
    "from glob import glob\n",
    "import cftime"
   ]
  },
  {
   "cell_type": "code",
   "execution_count": 2,
   "id": "997c5111-e024-4af6-871c-41008b5eafca",
   "metadata": {},
   "outputs": [],
   "source": [
    "#from dask.distributed import Client, LocalCluster\n",
    "#cluster = LocalCluster(n_workers=1, threads_per_worker=4, memory_limit=\"28G\")\n",
    "#client = Client(cluster)\n",
    "#client"
   ]
  },
  {
   "cell_type": "code",
   "execution_count": 3,
   "id": "2eeb1136-4475-4912-87c6-100d6789bcf7",
   "metadata": {},
   "outputs": [],
   "source": [
    "dates = list(xr.cftime_range(start=\"0001-01-03T12:00:00\", end=\"0001-12-31\", freq=\"5D\", calendar=\"noleap\"))\n",
    "bounds = list(xr.cftime_range(start=\"0001-01-01T00:00:00\", end=\"0002-01-03\", freq=\"5D\", calendar=\"noleap\"))"
   ]
  },
  {
   "cell_type": "code",
   "execution_count": 4,
   "id": "69f2cb52-8047-4e77-8036-7f506654b9a1",
   "metadata": {},
   "outputs": [],
   "source": [
    "def fix_time(path, file_names, time_centered=True):\n",
    "    files = sorted(glob(path + file_names))\n",
    "    for i in np.arange(0, len(files)):\n",
    "        file = files[i]\n",
    "        ds = xr.decode_cf(xr.open_mfdataset(file, coords=\"minimal\", compat=\"override\", parallel=True, decode_cf=False))\n",
    "        ds[\"time_counter\"] = [dates[i]]\n",
    "        ds[\"time_counter_bounds\"] = ([\"time_counter\", \"axis_nbounds\"], np.array([[bounds[i], bounds[i+1]]]))\n",
    "        if time_centered:\n",
    "            ds[\"time_centered\"].data = [dates[i]]\n",
    "            ds[\"time_centered_bounds\"] = ([\"time_counter\", \"axis_nbounds\"], np.array([[bounds[i], bounds[i+1]]]))\n",
    "        ds.to_netcdf(file + \".new\", engine=\"netcdf4\", format=\"NETCDF4\")"
   ]
  },
  {
   "cell_type": "markdown",
   "id": "93deda21-b93f-49e5-aec8-6bbb11066291",
   "metadata": {},
   "source": [
    "## apply to all climatological fields"
   ]
  },
  {
   "cell_type": "code",
   "execution_count": 31,
   "id": "e65ef699-81ca-4f49-a32c-3ffd31ad6379",
   "metadata": {},
   "outputs": [],
   "source": [
    "paths_in = [\"/data0/project/drakkar/USERS/jrieck/CREG12.L75-REF08-UV_clim/\",\n",
    "            \"/data0/project/drakkar/USERS/jrieck/CREG12.L75-FUT08-UV_clim/\",\n",
    "            \"/data0/project/drakkar/USERS/jrieck/CREG12.L75-REF08-UV_clim/\",\n",
    "            \"/data0/project/drakkar/USERS/jrieck/CREG12.L75-FUT08-UV_clim/\",\n",
    "            \"/data0/project/drakkar/USERS/jrieck/CREG12.L75-REF08-T_clim/\",\n",
    "            \"/data0/project/drakkar/USERS/jrieck/CREG12.L75-FUT08-T_clim/\",\n",
    "            \"/data0/project/drakkar/USERS/jrieck/CREG12.L75-REF08-FLX_clim/\",\n",
    "            \"/data0/project/drakkar/USERS/jrieck/CREG12.L75-FUT08-FLX_clim/\",\n",
    "            \"/data0/project/drakkar/USERS/jrieck/CREG12.L75-REF08-icemod_clim/\",\n",
    "            \"/data0/project/drakkar/USERS/jrieck/CREG12.L75-FUT08-icemod_clim/\",\n",
    "            \"/data0/project/drakkar/USERS/jrieck/CREG12.L75-REF08-UV_clim/\",\n",
    "            \"/data0/project/drakkar/USERS/jrieck/CREG12.L75-FUT08-UV_clim/\",\n",
    "            \"/data0/project/drakkar/USERS/jrieck/CREG12.L75-REF08-UV_clim/\",\n",
    "            \"/data0/project/drakkar/USERS/jrieck/CREG12.L75-FUT08-UV_clim/\",\n",
    "            \"/data0/project/drakkar/USERS/jrieck/CREG12.L75-REF08-SSH_clim/\",\n",
    "            \"/data0/project/drakkar/USERS/jrieck/CREG12.L75-FUT08-SSH_clim/\",\n",
    "            \"/data0/project/drakkar/USERS/jrieck/CREG12.L75-REF08-PSI_clim/\",\n",
    "            \"/data0/project/drakkar/USERS/jrieck/CREG12.L75-FUT08-PSI_clim/\"]"
   ]
  },
  {
   "cell_type": "code",
   "execution_count": 5,
   "id": "46cf171f-b854-4f4c-bf65-5f4a2424b39b",
   "metadata": {},
   "outputs": [],
   "source": [
    "paths_in2 = [\"/data0/project/drakkar/USERS/jrieck/CREG12.L75-REF08-KE/clim/\",\n",
    "             \"/data0/project/drakkar/USERS/jrieck/CREG12.L75-FUT08-KE/clim/\",\n",
    "             \"/data0/project/drakkar/USERS/jrieck/CREG12.L75-REF08-EKE/clim/\",\n",
    "             \"/data0/project/drakkar/USERS/jrieck/CREG12.L75-FUT08-EKE/clim/\",\n",
    "             \"/data0/project/drakkar/USERS/jrieck/CREG12.L75-REF08-MKE/clim/\",\n",
    "             \"/data0/project/drakkar/USERS/jrieck/CREG12.L75-FUT08-MKE/clim/\",\n",
    "             \"/data0/project/drakkar/USERS/jrieck/CREG12.L75-REF08-PVORT_clim/\",\n",
    "             \"/data0/project/drakkar/USERS/jrieck/CREG12.L75-FUT08-PVORT_clim/\",\n",
    "             \"/data0/project/drakkar/USERS/jrieck/CREG12.L75-REF08-Nsquared/clim/\",\n",
    "             \"/data0/project/drakkar/USERS/jrieck/CREG12.L75-FUT08-Nsquared/clim/\"]"
   ]
  },
  {
   "cell_type": "code",
   "execution_count": 33,
   "id": "1f02e0cf-d3fd-425b-9c66-5435f4923367",
   "metadata": {},
   "outputs": [],
   "source": [
    "file_names = [\"CREG12.L75-REF08_m*gridUclim.nc\",\n",
    "              \"CREG12.L75-FUT08_m*gridUclim.nc\",\n",
    "              \"CREG12.L75-REF08_m*gridVclim.nc\",\n",
    "              \"CREG12.L75-FUT08_m*gridVclim.nc\",\n",
    "              \"CREG12.L75-REF08_m*gridTclim.nc\",\n",
    "              \"CREG12.L75-FUT08_m*gridTclim.nc\",\n",
    "              \"CREG12.L75-REF08_m*flxTclim.nc\",\n",
    "              \"CREG12.L75-FUT08_m*flxTclim.nc\",\n",
    "              \"CREG12.L75-REF08_m*icemodclim.nc\",\n",
    "              \"CREG12.L75-FUT08_m*icemodclim.nc\",\n",
    "              \"CREG12.L75-REF08_m*U2Dclim.nc\",\n",
    "              \"CREG12.L75-FUT08_m*U2Dclim.nc\",\n",
    "              \"CREG12.L75-REF08_m*V2Dclim.nc\",\n",
    "              \"CREG12.L75-FUT08_m*V2Dclim.nc\",\n",
    "              \"CREG12.L75-REF08_m*SSHclim.nc\",\n",
    "              \"CREG12.L75-FUT08_m*SSHclim.nc\",\n",
    "              \"CREG12.L75-REF08_m*PSIclim.nc\",\n",
    "              \"CREG12.L75-FUT08_m*PSIclim.nc\"]"
   ]
  },
  {
   "cell_type": "code",
   "execution_count": 6,
   "id": "2f5c7dce-bf31-4b6d-a6c4-e4c82cd5a4d7",
   "metadata": {},
   "outputs": [],
   "source": [
    "file_names2 = [\"CREG12.L75-REF08_m*KEclim.nc\",\n",
    "               \"CREG12.L75-FUT08_m*KEclim.nc\",\n",
    "               \"CREG12.L75-REF08_m*EKEclim.nc\",\n",
    "               \"CREG12.L75-FUT08_m*EKEclim.nc\",\n",
    "               \"CREG12.L75-REF08_m*MKE.nc\",\n",
    "               \"CREG12.L75-FUT08_m*MKE.nc\",\n",
    "               \"CREG12.L75-REF08_m*PVORTclim.nc\",\n",
    "               \"CREG12.L75-FUT08_m*PVORTclim.nc\",\n",
    "               \"CREG12.L75-REF08_m*Nsquared.nc\",\n",
    "               \"CREG12.L75-FUT08_m*Nsquared.nc\"]"
   ]
  },
  {
   "cell_type": "code",
   "execution_count": 35,
   "id": "b4181828-228e-49aa-8e39-7e2f396f7131",
   "metadata": {},
   "outputs": [
    {
     "name": "stdout",
     "output_type": "stream",
     "text": [
      "/data0/project/drakkar/USERS/jrieck/CREG12.L75-REF08-UV_clim/\n",
      "/data0/project/drakkar/USERS/jrieck/CREG12.L75-FUT08-UV_clim/\n",
      "/data0/project/drakkar/USERS/jrieck/CREG12.L75-REF08-UV_clim/\n",
      "/data0/project/drakkar/USERS/jrieck/CREG12.L75-FUT08-UV_clim/\n"
     ]
    }
   ],
   "source": [
    "for p, f in zip(paths_in, file_names):\n",
    "    print(p)\n",
    "    fix_time(p, f, time_centered=True)"
   ]
  },
  {
   "cell_type": "code",
   "execution_count": null,
   "id": "7b2b1694-057d-4a0f-9c23-a4e3f5538057",
   "metadata": {},
   "outputs": [
    {
     "name": "stdout",
     "output_type": "stream",
     "text": [
      "/data0/project/drakkar/USERS/jrieck/CREG12.L75-REF08-KE/clim/\n",
      "/data0/project/drakkar/USERS/jrieck/CREG12.L75-FUT08-KE/clim/\n"
     ]
    }
   ],
   "source": [
    "for p, f in zip(paths_in2, file_names2):\n",
    "    print(p)\n",
    "    fix_time(p, f, time_centered=False)"
   ]
  },
  {
   "cell_type": "markdown",
   "id": "20668988-b677-4af6-9d61-c7e7a512ffe3",
   "metadata": {},
   "source": [
    "##### special treatment for shear"
   ]
  },
  {
   "cell_type": "code",
   "execution_count": 4,
   "id": "29df3983-f6a0-4856-9e83-11412a810ece",
   "metadata": {},
   "outputs": [],
   "source": [
    "shearfileREF = str(\"/data0/project/drakkar/USERS/jrieck/CREG12.L75-REF08-shear/\" \n",
    "                   + \"clim/CREG12.L75-REF08_1996-2015_climatology_vovshear.nc\")\n",
    "shearfileFUT = str(\"/data0/project/drakkar/USERS/jrieck/CREG12.L75-FUT08-shear/\" \n",
    "                   + \"clim/CREG12.L75-FUT08_2051-2070_climatology_vovshear.nc\")"
   ]
  },
  {
   "cell_type": "code",
   "execution_count": 5,
   "id": "28fc71ca-af3a-4aab-8d2e-c8c91de9e09b",
   "metadata": {},
   "outputs": [],
   "source": [
    "shearREF = xr.open_mfdataset(shearfileREF, parallel=True)\n",
    "shearFUT = xr.open_mfdataset(shearfileFUT, parallel=True)"
   ]
  },
  {
   "cell_type": "code",
   "execution_count": 6,
   "id": "ca012135-c558-486e-8f94-89a61ca9c091",
   "metadata": {},
   "outputs": [],
   "source": [
    "shearREF[\"time_counter\"] = dates\n",
    "shearFUT[\"time_counter\"] = dates\n",
    "shearREF[\"time_counter_bounds\"] = ([\"time_counter\", \"axis_nbounds\"], np.array([[bounds[0:-1], bounds[1::]]]).squeeze().T)\n",
    "shearFUT[\"time_counter_bounds\"] = ([\"time_counter\", \"axis_nbounds\"], np.array([[bounds[0:-1], bounds[1::]]]).squeeze().T)\n",
    "shearREF[\"time_centered\"].data = dates\n",
    "shearFUT[\"time_centered\"].data = dates\n",
    "shearREF[\"time_centered_bounds\"] = ([\"time_counter\", \"axis_nbounds\"], np.array([[bounds[0:-1], bounds[1::]]]).squeeze().T)\n",
    "shearFUT[\"time_centered_bounds\"] = ([\"time_counter\", \"axis_nbounds\"], np.array([[bounds[0:-1], bounds[1::]]]).squeeze().T)"
   ]
  },
  {
   "cell_type": "code",
   "execution_count": 13,
   "id": "e06e6ca9-7f07-4964-9611-50ddacd3fd4f",
   "metadata": {},
   "outputs": [],
   "source": [
    "REFdays, REFdatasets = zip(*shearREF.groupby(\"time_counter\"))\n",
    "REFdatasets = list(REFdatasets)\n",
    "REFdatasets = [REFdatasets[j].expand_dims(dim={\"time_counter\": 1}) for j in np.arange(0, len(REFdatasets))]\n",
    "REFdates = list(xr.cftime_range(start=\"0001-01-05\", end=\"0001-12-31\", freq=\"5D\", calendar=\"noleap\"))\n",
    "REFpaths = [str(\"/data0/project/drakkar/USERS/jrieck/CREG12.L75-REF08-shear/clim/CREG12.L75-REF08_m\" \n",
    "             + \"%02d\" % d.month + \"d\" + \"%02d\" % d.day + \".5d_shear.nc\") for d in REFdates]\n",
    "FUTdays, FUTdatasets = zip(*shearFUT.groupby(\"time_counter\"))\n",
    "FUTdatasets = list(FUTdatasets)\n",
    "FUTdatasets = [FUTdatasets[j].expand_dims(dim={\"time_counter\": 1}) for j in np.arange(0, len(FUTdatasets))]\n",
    "FUTdates = list(xr.cftime_range(start=\"0001-01-05\", end=\"0001-12-31\", freq=\"5D\", calendar=\"noleap\"))\n",
    "FUTpaths = [str(\"/data0/project/drakkar/USERS/jrieck/CREG12.L75-FUT08-shear/clim/CREG12.L75-FUT08_m\" \n",
    "             + \"%02d\" % d.month + \"d\" + \"%02d\" % d.day + \".5d_shear.nc\") for d in REFdates]    "
   ]
  },
  {
   "cell_type": "code",
   "execution_count": 14,
   "id": "370ff62d-18b1-49ef-979d-5e2ce29f996d",
   "metadata": {},
   "outputs": [],
   "source": [
    "xr.save_mfdataset(REFdatasets, REFpaths, engine=\"netcdf4\", format=\"NETCDF4\")\n",
    "xr.save_mfdataset(FUTdatasets, FUTpaths, engine=\"netcdf4\", format=\"NETCDF4\")"
   ]
  },
  {
   "cell_type": "code",
   "execution_count": null,
   "id": "ed5f77db-a596-4feb-9b72-062df06ffc62",
   "metadata": {},
   "outputs": [],
   "source": []
  }
 ],
 "metadata": {
  "kernelspec": {
   "display_name": "py3_x",
   "language": "python",
   "name": "py3_x"
  },
  "language_info": {
   "codemirror_mode": {
    "name": "ipython",
    "version": 3
   },
   "file_extension": ".py",
   "mimetype": "text/x-python",
   "name": "python",
   "nbconvert_exporter": "python",
   "pygments_lexer": "ipython3",
   "version": "3.8.10"
  }
 },
 "nbformat": 4,
 "nbformat_minor": 5
}
