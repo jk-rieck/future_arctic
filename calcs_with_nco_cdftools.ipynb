{
 "cells": [
  {
   "cell_type": "markdown",
   "id": "2d3bf960-d50a-4787-bcb2-ce02cea7ce5c",
   "metadata": {},
   "source": [
    "### bash script to calculate KE\n",
    "To find the files:  \n",
    "\n",
    "REF08 = /data0/project/drakkar/CONFIGS/CREG12.L75/CREG12.L75-REF08-S/5d/  \n",
    "FUT08 = /data0/project/drakkar/CONFIGS/CREG12.L75/CREG12.L75-FUT08-S/5d/  \n",
    "WORK = /data0/project/drakkar/USERS/jrieck/  \n",
    "\n",
    "And CDFTOOLS are here\n",
    "\n",
    "CDF = /home/ctalandi/TOOLS/CDFTOOLS/bin"
   ]
  },
  {
   "cell_type": "code",
   "execution_count": null,
   "id": "c33387ea-5f59-4fc1-9396-3adf28d913dc",
   "metadata": {},
   "outputs": [],
   "source": [
    "#%%bash \n",
    "\n",
    "cd $REF08\n",
    "for yyyy in {1996..2015}; do     \n",
    "    echo ${yyyy};     \n",
    "    for fileU in ${yyyy}/CREG12.L75-REF08_y${yyyy}*.5d_gridU.nc; do         \n",
    "        fileV=${fileU/gridU/gridV};         \n",
    "        fileT=${fileU/gridU/gridT};                \n",
    "        fileK=${fileU/gridU/KE};         \n",
    "        $CDF/cdfeke -u ${fileU} -v ${fileV} -t ${fileT} -mke -nc4 -o $WORK/CREG12.L75-REF08-KE/${fileK};       \n",
    "        ncrename -O -v vomke,voke $WORK/CREG12.L75-REF08-KE/${fileK} $WORK/CREG12.L75-REF08-KE/${fileK};            \n",
    "    done; \n",
    "done\n",
    "\n",
    "cd $FUT08\n",
    "for yyyy in {2051..2070}; do     \n",
    "    echo ${yyyy};     \n",
    "    for fileU in ${yyyy}/CREG12.L75-FUT08_y${yyyy}*.5d_gridU.nc; do         \n",
    "        fileV=${fileU/gridU/gridV};         \n",
    "        fileT=${fileU/gridU/gridT};               \n",
    "        fileK=${fileU/gridU/KE};         \n",
    "        $CDF/cdfeke -u ${fileU} -v ${fileV} -t ${fileT} -mke -nc4 -o $WORK/CREG12.L75-FUT08-KE/${fileK};       \n",
    "        ncrename -O -v vomke,voke $WORK/CREG12.L75-FUT08-KE/${fileK} $WORK/CREG12.L75-FUT08-KE/${fileK};     \n",
    "    done; \n",
    "done"
   ]
  },
  {
   "cell_type": "markdown",
   "id": "a048b9cd-616c-414c-b966-56f9ebd70e9f",
   "metadata": {},
   "source": [
    "CDFTOOLS to calculate Richardson number"
   ]
  },
  {
   "cell_type": "code",
   "execution_count": null,
   "id": "c1e4a010-150b-4fcd-9944-f7ba9cb50c6e",
   "metadata": {},
   "outputs": [],
   "source": [
    "#%%bash\n",
    "\n",
    "cd $WORK\n",
    "for yyyy in {1996..2015}; do     \n",
    "    echo ${yyyy};     \n",
    "    for fileU in $REF08/${yyyy}/CREG12.L75-REF08_y${yyyy}*.5d_gridU.nc; do         \n",
    "        fileV=${fileU/gridU/gridV};         \n",
    "        fileT=${fileU/gridU/gridT};         \n",
    "        fileR=$(echo ${fileU/gridU/RI} | rev | cut -d'/' -f-2 | rev);                 \n",
    "        $CDF/cdfrichardson -t ${fileT} -u ${fileU} -v ${fileV} -o $WORK/CREG12.L75-REF08-RI/${fileR};              \n",
    "    done; \n",
    "done\n",
    "\n",
    "cd $WORK\n",
    "for yyyy in {2051..2059}; do     \n",
    "    echo ${yyyy};     \n",
    "    for fileU in $FUT08/${yyyy}/CREG12.L75-FUT08_y${yyyy}*.5d_gridU.nc; do         \n",
    "        fileV=${fileU/gridU/gridV};         \n",
    "        fileT=${fileU/gridU/gridT};         \n",
    "        fileR=$(echo ${fileU/gridU/RI} | rev | cut -d'/' -f-2 | rev);                 \n",
    "        $CDF/cdfrichardson -t ${fileT} -u ${fileU} -v ${fileV} -o $WORK/CREG12.L75-FUT08-RI/${fileR};              \n",
    "    done; \n",
    "done"
   ]
  },
  {
   "cell_type": "markdown",
   "id": "7e4c2c6b-0b51-4e25-b171-3d8b07cbb759",
   "metadata": {},
   "source": [
    "### calculate climatological seasonal cycle of U and V"
   ]
  },
  {
   "cell_type": "code",
   "execution_count": null,
   "id": "7dd21cea-29b9-43cd-8e57-a31b4005413d",
   "metadata": {},
   "outputs": [],
   "source": [
    "cd $WORK/CREG12.L75-REF08-UV_clim\n",
    "for fivedstep in {0..72}; \n",
    "    do step=`printf \"%02d\" ${fivedstep}`\n",
    "    echo ${step}; \n",
    "    ncra -O -4 -v vozocrtx -d time_counter,${fivedstep},,73 $REF08/199[6-9]/CREG12.L75-REF08_y*.5d_gridU.nc $REF08/20??/CREG12.L75-REF08_y*.5d_gridU.nc U_tmp${step}.nc\n",
    "    ncra -O -4 -v vomecrty -d time_counter,${fivedstep},,73 $REF08/199[6-9]/CREG12.L75-REF08_y*.5d_gridV.nc $REF08/20??/CREG12.L75-REF08_y*.5d_gridV.nc V_tmp${step}.nc\n",
    "done\n",
    "ncrcat -O -4 U_tmp??.nc CREG12.L75-REF08_1996-2015_climatology_gridU.nc\n",
    "ncrcat -O -4 V_tmp??.nc CREG12.L75-REF08_1996-2015_climatology_gridV.nc\n",
    "\n",
    "cd $WORK/CREG12.L75-REF08-T_clim\n",
    "for fivedstep in {0..72}; \n",
    "    do step=`printf \"%02d\" ${fivedstep}`\n",
    "    echo ${step}; \n",
    "    ncra -O -4 -v votemper,vosaline -d time_counter,${fivedstep},,73 $REF08/199[6-9]/CREG12.L75-REF08_y*.5d_gridT.nc $REF08/20??/CREG12.L75-REF08_y*.5d_gridT.nc T_tmp${step}.nc\n",
    "done\n",
    "ncrcat -O -4 T_tmp??.nc CREG12.L75-REF08_1996-2015_climatology_gridT.nc\n",
    "\n",
    "cd $WORK/CREG12.L75-FUT08-UV_clim\n",
    "for fivedstep in {0..72}; \n",
    "    do step=`printf \"%02d\" ${fivedstep}`\n",
    "    echo ${step}; \n",
    "    ncra -O -4 -v vozocrtx -d time_counter,${fivedstep},,73 $FUT08/????/CREG12.L75-FUT08_y*.5d_gridU.nc U_tmp${step}.nc\n",
    "    ncra -O -4 -v vomecrty -d time_counter,${fivedstep},,73 $FUT08/????/CREG12.L75-FUT08_y*.5d_gridV.nc V_tmp${step}.nc\n",
    "done\n",
    "ncrcat -O -4 U_tmp??.nc CREG12.L75-FUT08_2051-2070_climatology_gridU.nc\n",
    "ncrcat -O -4 V_tmp??.nc CREG12.L75-FUT08_2051-2070_climatology_gridV.nc\n",
    "\n",
    "cd $WORK/CREG12.L75-FUT08-T_clim\n",
    "for fivedstep in {0..72}; \n",
    "    do step=`printf \"%02d\" ${fivedstep}`\n",
    "    echo ${step}; \n",
    "    ncra -O -4 -v votemper,vosaline -d time_counter,${fivedstep},,73 $FUT08/????/CREG12.L75-FUT08_y*.5d_gridT.nc T_tmp${step}.nc\n",
    "done\n",
    "ncrcat -O -4 T_tmp??.nc CREG12.L75-FUT08_2051-2070_climatology_gridT.nc"
   ]
  },
  {
   "cell_type": "code",
   "execution_count": null,
   "id": "1a663bb9-5992-440a-ab66-2b8dc2d06dd8",
   "metadata": {},
   "outputs": [],
   "source": [
    "cd $WORK/CREG12.L75-FUT08-UV_clim\n",
    "k=0\n",
    "for fileR in /data0/project/drakkar/USERS/jrieck/CREG12.L75-FUT08-RI/2063/CREG12.L75-FUT08_y*.5d_RI.nc;\n",
    "    do K=`printf \"%02d\" ${k}`\n",
    "    tmp=$(echo ${fileR} | rev | cut -d'/' -f-1 | rev)\n",
    "    tmp2=$(echo ${tmp/RI/gridUclim})\n",
    "    fileU=${tmp2/y2063/}\n",
    "    fileV=${fileU/gridUclim/gridVclim}\n",
    "    mv U_tmp${K}.nc ${fileU}\n",
    "    mv V_tmp${K}.nc ${fileV}\n",
    "    k=$(($k+1))\n",
    "done"
   ]
  },
  {
   "cell_type": "code",
   "execution_count": null,
   "id": "58640c58-8813-4a13-a23c-6fec837bda71",
   "metadata": {},
   "outputs": [],
   "source": [
    "cd $WORK/CREG12.L75-FUT08-T_clim\n",
    "k=0\n",
    "for fileR in /data0/project/drakkar/USERS/jrieck/CREG12.L75-FUT08-RI/2062/CREG12.L75-FUT08_y*.5d_RI.nc;\n",
    "    do K=`printf \"%02d\" ${k}`\n",
    "    tmp=$(echo ${fileR} | rev | cut -d'/' -f-1 | rev)\n",
    "    tmp2=$(echo ${tmp/RI/gridTclim})\n",
    "    fileT=${tmp2/y2062/}\n",
    "    mv T_tmp${K}.nc ${fileT}\n",
    "    k=$(($k+1))\n",
    "done"
   ]
  },
  {
   "cell_type": "code",
   "execution_count": null,
   "id": "62a9a909-7cbe-4953-a50c-5003417b0544",
   "metadata": {},
   "outputs": [],
   "source": [
    "cd $WORK/CREG12.L75-REF08-UV_clim\n",
    "k=0\n",
    "for fileR in /data0/project/drakkar/USERS/jrieck/CREG12.L75-REF08-RI/2001/CREG12.L75-REF08_y*.5d_RI.nc;\n",
    "    do K=`printf \"%02d\" ${k}`\n",
    "    tmp=$(echo ${fileR} | rev | cut -d'/' -f-1 | rev)\n",
    "    tmp2=$(echo ${tmp/RI/gridUclim})\n",
    "    fileU=${tmp2/y2001/}\n",
    "    fileV=${fileU/gridUclim/gridVclim}\n",
    "    mv U_tmp${K}.nc ${fileU}\n",
    "    mv V_tmp${K}.nc ${fileV}\n",
    "    k=$(($k+1))\n",
    "done"
   ]
  },
  {
   "cell_type": "code",
   "execution_count": null,
   "id": "b917acc2-ea48-416f-8ae1-94f1f16402d1",
   "metadata": {},
   "outputs": [],
   "source": [
    "cd $WORK/CREG12.L75-REF08-T_clim\n",
    "k=0\n",
    "for fileR in /data0/project/drakkar/USERS/jrieck/CREG12.L75-REF08-RI/2000/CREG12.L75-REF08_y*.5d_RI.nc;\n",
    "    do K=`printf \"%02d\" ${k}`\n",
    "    tmp=$(echo ${fileR} | rev | cut -d'/' -f-1 | rev)\n",
    "    tmp2=$(echo ${tmp/RI/gridTclim})\n",
    "    fileT=${tmp2/y2000/}\n",
    "    mv T_tmp${K}.nc ${fileT}\n",
    "    k=$(($k+1))\n",
    "done"
   ]
  },
  {
   "cell_type": "code",
   "execution_count": null,
   "id": "7bc3ec06-9114-4aeb-a38d-a0033c46c844",
   "metadata": {},
   "outputs": [],
   "source": [
    "cd $WORK/CREG12.L75-REF08-UV_clim\n",
    "k=0\n",
    "for fileU in CREG12.L75-REF08_m*.5d_gridUclim.nc;\n",
    "    do K=`printf \"%02d\" ${k}`\n",
    "    fileV=${fileU/gridUclim/gridVclim}\n",
    "    cp ${fileU} U_tmp${K}.nc\n",
    "    cp ${fileV} V_tmp${K}.nc\n",
    "    k=$(($k+1))\n",
    "done"
   ]
  },
  {
   "cell_type": "markdown",
   "id": "749de9b4-4ec6-432d-86fa-3923dba419ec",
   "metadata": {},
   "source": [
    "### calculate EKE and MKE from anomalies to the climatlogy\n",
    "(include interannual variations in MKE -> EKE = full field - (annual mean - long term mean + climatology))\n",
    "\n",
    "first compute long term mean"
   ]
  },
  {
   "cell_type": "code",
   "execution_count": null,
   "id": "1689a897-05f4-4397-a94d-9fb8a03ed877",
   "metadata": {},
   "outputs": [],
   "source": [
    "\n",
    "cd $WORK\n",
    "ncra -O -4 -v vozocrtx $REF08M/199[6-9]/CREG12.L75-REF08_y????.5d_gridU.nc $REF08M/2???/CREG12.L75-REF08_y????.5d_gridU.nc CREG12.L75-REF08-UV_20yM/CREG12.L75-REF08_y1996-2015_gridU.nc\n",
    "ncra -O -4 -v vomecrty $REF08M/199[6-9]/CREG12.L75-REF08_y????.5d_gridV.nc $REF08M/2???/CREG12.L75-REF08_y????.5d_gridV.nc CREG12.L75-REF08-UV_20yM/CREG12.L75-REF08_y1996-2015_gridV.nc"
   ]
  },
  {
   "cell_type": "code",
   "execution_count": null,
   "id": "f05dd9c4-31c2-4df6-9e94-3bad7a870ce2",
   "metadata": {},
   "outputs": [],
   "source": [
    "cd $WORK\n",
    "ncra -O -4 -v vozocrtx $FUT08M/2???/CREG12.L75-FUT08_y????.5d_gridU.nc CREG12.L75-FUT08-UV_20yM/CREG12.L75-FUT08_y2051-2070_gridU.nc\n",
    "ncra -O -4 -v vomecrty $FUT08M/2???/CREG12.L75-FUT08_y????.5d_gridV.nc CREG12.L75-FUT08-UV_20yM/CREG12.L75-FUT08_y2051-2070_gridV.nc"
   ]
  },
  {
   "cell_type": "markdown",
   "id": "ff911385-6ed6-4ec1-9ff9-a7e1a9b0febc",
   "metadata": {},
   "source": [
    "now annual_mean - long term mean"
   ]
  },
  {
   "cell_type": "code",
   "execution_count": null,
   "id": "759c74aa-642e-4946-9d72-661843317de0",
   "metadata": {},
   "outputs": [],
   "source": [
    "cd $WORK\n",
    "fileUm=CREG12.L75-REF08-UV_20yM/CREG12.L75-REF08_y1996-2015_gridU.nc\n",
    "fileVm=${fileUm/gridU/gridV}\n",
    "for yyyy in {1996..2015}; do     \n",
    "    echo ${yyyy};\n",
    "    fileUa=$REF08M/${yyyy}/CREG12.L75-REF08_y${yyyy}.5d_gridU.nc\n",
    "    fileVa=${fileUa/gridU/gridV}\n",
    "    fileUam=CREG12.L75-REF08-UV_annual-longtermMEAN/CREG12.L75-REF08_y${yyyy}_gridU_altMEAN.nc\n",
    "    fileVam=${fileUam/gridU/gridV}\n",
    "    ncrename -O -v vozocrtx,vozocrtxAnnualMEAN ${fileUa} ${fileUam}\n",
    "    ncrename -O -v vomecrty,vomecrtyAnnualMEAN ${fileVa} ${fileVam}\n",
    "    ncks -A -v vozocrtx -4 ${fileUm} ${fileUam} # here, vozocrtx is now the long term mean\n",
    "    ncks -A -v vomecrty -4 ${fileVm} ${fileVam}\n",
    "    ncap2 -O -4 -s 'vozocrtxAM=vozocrtxAnnualMEAN-vozocrtx' ${fileUam} ${fileUam}\n",
    "    ncap2 -O -4 -s 'vomecrtyAM=vomecrtyAnnualMEAN-vomecrty' ${fileVam} ${fileVam}\n",
    "done"
   ]
  },
  {
   "cell_type": "code",
   "execution_count": null,
   "id": "cc0458a0-6ba6-41bf-b136-2238483b033f",
   "metadata": {},
   "outputs": [],
   "source": [
    "cd $WORK\n",
    "fileUm=CREG12.L75-FUT08-UV_20yM/CREG12.L75-FUT08_y2051-2070_gridU.nc\n",
    "fileVm=${fileUm/gridU/gridV}\n",
    "for yyyy in {2051..2070}; do     \n",
    "    echo ${yyyy};\n",
    "    fileUa=$FUT08M/${yyyy}/CREG12.L75-FUT08_y${yyyy}.5d_gridU.nc\n",
    "    fileVa=${fileUa/gridU/gridV}\n",
    "    fileUam=CREG12.L75-FUT08-UV_annual-longtermMEAN/CREG12.L75-FUT08_y${yyyy}_gridU_altMEAN.nc\n",
    "    fileVam=${fileUam/gridU/gridV}\n",
    "    ncrename -O -v vozocrtx,vozocrtxAnnualMEAN ${fileUa} ${fileUam}\n",
    "    ncrename -O -v vomecrty,vomecrtyAnnualMEAN ${fileVa} ${fileVam}\n",
    "    ncks -A -v vozocrtx -4 ${fileUm} ${fileUam} # here, vozocrtx is now the long term mean\n",
    "    ncks -A -v vomecrty -4 ${fileVm} ${fileVam}\n",
    "    ncap2 -O -4 -s 'vozocrtxAM=vozocrtxAnnualMEAN-vozocrtx' ${fileUam} ${fileUam}\n",
    "    ncap2 -O -4 -s 'vomecrtyAM=vomecrtyAnnualMEAN-vomecrty' ${fileVam} ${fileVam}\n",
    "done"
   ]
  },
  {
   "cell_type": "markdown",
   "id": "3d8fadd2-744b-4fa9-bee7-45942343a146",
   "metadata": {},
   "source": [
    "now full - (annual minus long term + climatology)"
   ]
  },
  {
   "cell_type": "code",
   "execution_count": null,
   "id": "ed9425e4-48ed-47e9-9678-e4c5460512e4",
   "metadata": {},
   "outputs": [],
   "source": [
    "cd $WORK\n",
    "for yyyy in {1996..2015}; do     \n",
    "    echo ${yyyy};     \n",
    "    for fileU in $REF08/${yyyy}/CREG12.L75-REF08_y${yyyy}*.5d_gridU.nc; do         \n",
    "        fileV=${fileU/gridU/gridV};\n",
    "        fileT=${fileU/gridU/gridT}; \n",
    "        fileUcTMP=$(echo ${fileU/gridU/gridUclim} | rev | cut -d'/' -f-1 | rev)\n",
    "        fileVcTMP=$(echo ${fileV/gridV/gridVclim} | rev | cut -d'/' -f-1 | rev)\n",
    "        fileUc=CREG12.L75-REF08-UV_clim/CREG12.L75-REF08_m$(echo $fileUcTMP | rev | cut -d'm' -f-2 | rev)\n",
    "        fileVc=CREG12.L75-REF08-UV_clim/CREG12.L75-REF08_m$(echo $fileVcTMP | rev | cut -d'm' -f-2 | rev)\n",
    "        fileUm=CREG12.L75-REF08-UV_annual-longtermMEAN/CREG12.L75-REF08_y${yyyy}_gridU_altMEAN.nc\n",
    "        fileVm=${fileUm/gridU/gridV}\n",
    "        fileE=$(echo ${fileU/gridU/EKE} | rev | cut -d'/' -f-2 | rev);\n",
    "        ncrename -O -v vozocrtx,vozocrtxCLIM ${fileUc} tmpU.nc\n",
    "        ncrename -O -v vomecrty,vomecrtyCLIM ${fileVc} tmpV.nc\n",
    "        ncks -A -v vozocrtxAM -4 ${fileUm} tmpU.nc\n",
    "        ncks -A -v vomecrtyAM -4 ${fileVm} tmpV.nc\n",
    "        ncks -A -v vozocrtx -4 ${fileU} tmpU.nc\n",
    "        ncks -A -v vomecrty -4 ${fileV} tmpV.nc\n",
    "        ncap2 -O -4 -s 'vozocrtxPRIME=vozocrtx-(vozocrtxAM+vozocrtxCLIM)' tmpU.nc tmpU.nc\n",
    "        ncap2 -O -4 -s 'vomecrtyPRIME=vomecrty-(vomecrtyAM+vomecrtyCLIM)' tmpV.nc tmpV.nc\n",
    "        ncks -O -4 -v vozocrtxPRIME tmpU.nc tmpU.nc\n",
    "        ncks -O -4 -v vomecrtyPRIME tmpV.nc tmpV.nc\n",
    "        ncrename -O -v vozocrtxPRIME,vozocrtx tmpU.nc tmpU.nc\n",
    "        ncrename -O -v vomecrtyPRIME,vomecrty tmpV.nc tmpV.nc\n",
    "        $CDF/cdfeke -u tmpU.nc -v tmpV.nc -t ${fileT} -mke -o tmpE.nc\n",
    "        ncks -O -4 -L 1 tmpE.nc tmpE.nc\n",
    "        ncrename -O -v .vomke,voeke tmpE.nc CREG12.L75-REF08-EKE/${fileE}\n",
    "    done; \n",
    "done\n",
    "\n",
    "cd $WORK\n",
    "for yyyy in {1996..2015}; do     \n",
    "    echo ${yyyy};     \n",
    "    for fileU in $REF08/${yyyy}/CREG12.L75-REF08_y${yyyy}*.5d_gridU.nc; do         \n",
    "        fileV=${fileU/gridU/gridV};\n",
    "        fileT=${fileU/gridU/gridT}; \n",
    "        fileUcTMP=$(echo ${fileU/gridU/gridUclim} | rev | cut -d'/' -f-1 | rev)\n",
    "        fileVcTMP=$(echo ${fileV/gridV/gridVclim} | rev | cut -d'/' -f-1 | rev)\n",
    "        fileUc=CREG12.L75-REF08-UV_clim/CREG12.L75-REF08_m$(echo $fileUcTMP | rev | cut -d'm' -f-2 | rev)\n",
    "        fileVc=CREG12.L75-REF08-UV_clim/CREG12.L75-REF08_m$(echo $fileVcTMP | rev | cut -d'm' -f-2 | rev)\n",
    "        fileUm=CREG12.L75-REF08-UV_annual-longtermMEAN/CREG12.L75-REF08_y${yyyy}_gridU_altMEAN.nc\n",
    "        fileVm=${fileUm/gridU/gridV}\n",
    "        fileM=$(echo ${fileU/gridU/MKE} | rev | cut -d'/' -f-2 | rev);\n",
    "        ncrename -O -v vozocrtx,vozocrtxCLIM ${fileUc} tmpU.nc\n",
    "        ncrename -O -v vomecrty,vomecrtyCLIM ${fileVc} tmpV.nc\n",
    "        ncks -A -v vozocrtxAM -4 ${fileUm} tmpU.nc\n",
    "        ncks -A -v vomecrtyAM -4 ${fileVm} tmpV.nc\n",
    "        ncap2 -O -4 -s 'vozocrtx=vozocrtxAM+vozocrtxCLIM' tmpU.nc tmpU.nc\n",
    "        ncap2 -O -4 -s 'vomecrty=vomecrtyAM+vomecrtyCLIM' tmpV.nc tmpV.nc\n",
    "        $CDF/cdfeke -u tmpU.nc -v tmpV.nc -t ${fileT} -mke -o CREG12.L75-REF08-MKE/${fileM}\n",
    "        ncks -A -v time_counter -4 -L 1 ${fileT} CREG12.L75-REF08-MKE/${fileM}\n",
    "    done\n",
    "done"
   ]
  },
  {
   "cell_type": "code",
   "execution_count": null,
   "id": "81745a1f-f7d5-494d-8fa1-b381b15cb090",
   "metadata": {},
   "outputs": [],
   "source": [
    "cd $WORK\n",
    "for yyyy in {2051..2070}; do     \n",
    "    echo ${yyyy};     \n",
    "    for fileU in $FUT08/${yyyy}/CREG12.L75-FUT08_y${yyyy}*.5d_gridU.nc; do         \n",
    "        fileV=${fileU/gridU/gridV};\n",
    "        fileT=${fileU/gridU/gridT}; \n",
    "        fileUcTMP=$(echo ${fileU/gridU/gridUclim} | rev | cut -d'/' -f-1 | rev)\n",
    "        fileVcTMP=$(echo ${fileV/gridV/gridVclim} | rev | cut -d'/' -f-1 | rev)\n",
    "        fileUc=CREG12.L75-FUT08-UV_clim/CREG12.L75-FUT08_m$(echo $fileUcTMP | rev | cut -d'm' -f-2 | rev)\n",
    "        fileVc=CREG12.L75-FUT08-UV_clim/CREG12.L75-FUT08_m$(echo $fileVcTMP | rev | cut -d'm' -f-2 | rev)\n",
    "        fileUm=CREG12.L75-FUT08-UV_annual-longtermMEAN/CREG12.L75-FUT08_y${yyyy}_gridU_altMEAN.nc\n",
    "        fileVm=${fileUm/gridU/gridV}\n",
    "        fileE=$(echo ${fileU/gridU/EKE} | rev | cut -d'/' -f-2 | rev);\n",
    "        ncrename -O -v vozocrtx,vozocrtxCLIM ${fileUc} tmpUf.nc\n",
    "        ncrename -O -v vomecrty,vomecrtyCLIM ${fileVc} tmpVf.nc\n",
    "        ncks -A -v vozocrtxAM -4 ${fileUm} tmpUf.nc\n",
    "        ncks -A -v vomecrtyAM -4 ${fileVm} tmpVf.nc\n",
    "        ncks -A -v vozocrtx -4 ${fileU} tmpUf.nc\n",
    "        ncks -A -v vomecrty -4 ${fileV} tmpVf.nc\n",
    "        ncap2 -O -4 -s 'vozocrtxPRIME=vozocrtx-(vozocrtxAM+vozocrtxCLIM)' tmpUf.nc tmpUf.nc\n",
    "        ncap2 -O -4 -s 'vomecrtyPRIME=vomecrty-(vomecrtyAM+vomecrtyCLIM)' tmpVf.nc tmpVf.nc\n",
    "        ncks -O -4 -v vozocrtxPRIME tmpUf.nc tmpUf.nc\n",
    "        ncks -O -4 -v vomecrtyPRIME tmpVf.nc tmpVf.nc\n",
    "        ncrename -O -v vozocrtxPRIME,vozocrtx tmpUf.nc tmpUf.nc\n",
    "        ncrename -O -v vomecrtyPRIME,vomecrty tmpVf.nc tmpVf.nc\n",
    "        $CDF/cdfeke -u tmpUf.nc -v tmpVf.nc -t ${fileT} -mke -o tmpEf.nc\n",
    "        ncks -O -4 -L 1 tmpEf.nc tmpEf.nc\n",
    "        ncrename -O -v .vomke,voeke tmpEf.nc CREG12.L75-FUT08-EKE/${fileE}\n",
    "    done; \n",
    "done\n",
    "\n",
    "cd $WORK\n",
    "for yyyy in {2051..2070}; do     \n",
    "    echo ${yyyy};     \n",
    "    for fileU in $FUT08/${yyyy}/CREG12.L75-FUT08_y${yyyy}*.5d_gridU.nc; do         \n",
    "        fileV=${fileU/gridU/gridV};\n",
    "        fileT=${fileU/gridU/gridT}; \n",
    "        fileUcTMP=$(echo ${fileU/gridU/gridUclim} | rev | cut -d'/' -f-1 | rev)\n",
    "        fileVcTMP=$(echo ${fileV/gridV/gridVclim} | rev | cut -d'/' -f-1 | rev)\n",
    "        fileUc=CREG12.L75-FUT08-UV_clim/CREG12.L75-FUT08_m$(echo $fileUcTMP | rev | cut -d'm' -f-2 | rev)\n",
    "        fileVc=CREG12.L75-FUT08-UV_clim/CREG12.L75-FUT08_m$(echo $fileVcTMP | rev | cut -d'm' -f-2 | rev)\n",
    "        fileUm=CREG12.L75-FUT08-UV_annual-longtermMEAN/CREG12.L75-FUT08_y${yyyy}_gridU_altMEAN.nc\n",
    "        fileVm=${fileUm/gridU/gridV}\n",
    "        fileM=$(echo ${fileU/gridU/MKE} | rev | cut -d'/' -f-2 | rev);\n",
    "        ncrename -O -v vozocrtx,vozocrtxCLIM ${fileUc} tmpUf.nc\n",
    "        ncrename -O -v vomecrty,vomecrtyCLIM ${fileVc} tmpVf.nc\n",
    "        ncks -A -v vozocrtxAM -4 ${fileUm} tmpUf.nc\n",
    "        ncks -A -v vomecrtyAM -4 ${fileVm} tmpVf.nc\n",
    "        ncap2 -O -4 -s 'vozocrtx=vozocrtxAM+vozocrtxCLIM' tmpUf.nc tmpUf.nc\n",
    "        ncap2 -O -4 -s 'vomecrty=vomecrtyAM+vomecrtyCLIM' tmpVf.nc tmpVf.nc\n",
    "        $CDF/cdfeke -u tmpUf.nc -v tmpVf.nc -t ${fileT} -mke -o CREG12.L75-FUT08-MKE/${fileM}\n",
    "        ncks -A -v time_counter -4 -L 1 ${fileT} CREG12.L75-FUT08-MKE/${fileM}\n",
    "    done\n",
    "done"
   ]
  },
  {
   "cell_type": "markdown",
   "id": "461f4f88-78b5-4779-bb6c-0494e90dc414",
   "metadata": {},
   "source": [
    "test using xarray for extraction (was not very efficient)"
   ]
  },
  {
   "cell_type": "code",
   "execution_count": null,
   "id": "9fb59d39-3d9e-40a3-baa8-a5f6a8c0a661",
   "metadata": {
    "tags": []
   },
   "outputs": [],
   "source": [
    "CONF = CONFS[1]\n",
    "gridT_files = glob(\"/data0/project/drakkar/CONFIGS/CREG12.L75/\" + CONF + \"-S/5d/206?/\" + CONF \n",
    "                   + \"_*.5d_gridT.nc\") + glob(\"/data0/project/drakkar/CONFIGS/CREG12.L75/\" + CONF + \"-S/5d/2070/\" + CONF + \"_*.5d_gridT.nc\")\n",
    "icemod_files = glob(\"/data0/project/drakkar/CONFIGS/CREG12.L75/\" + CONF + \"-S/5d/206?/\" + CONF \n",
    "                   + \"_*.5d_icemod.nc\") + glob(\"/data0/project/drakkar/CONFIGS/CREG12.L75/\" + CONF + \"-S/5d/2070/\" + CONF + \"_*.5d_icemod.nc\")\n",
    "KE_files = glob(\"/data0/project/drakkar/USERS/jrieck/\" + CONF + \"-KE/206?/\" + CONF \n",
    "                + \"_*.5d_KE.nc\") + glob(\"/data0/project/drakkar/USERS/jrieck/\" + CONF + \"-KE/2070/\" + CONF + \"_*.5d_KE.nc\")\n",
    "RI_files = glob(\"/data0/project/drakkar/USERS/jrieck/\" + CONF + \"-RI/206?/\" + CONF \n",
    "                + \"_*.5d_RI.nc\") + glob(\"/data0/project/drakkar/USERS/jrieck/\" + CONF + \"-RI/2070/\" + CONF + \"_*.5d_RI.nc\")\n",
    "\n",
    "for i in np.arange(0, len(moorn)):\n",
    "    # seems like the extraction of profiles is a bit faster when selecting the ij-point already during the preprocessing\n",
    "    def preproT(ds):\n",
    "        ds = ds.isel(x=moorx[i], y=moory[i])\n",
    "        return ds.drop([\"mldkz5\", \"botpres\", \"time_centered_bounds\", \"time_counter_bounds\", \"time_centered\", \"deptht_bounds\"])\n",
    "    def preproI(ds):\n",
    "        ds = ds.isel(x=moorx[i], y=moory[i])\n",
    "        return ds.drop([\"sitemp\", \"sisali\", \"siages\", \"snthic\", \"snvolu\", \"iicestru\", \"iicestrv\", \"sivelo\", \"sivolu\", \"sistre\", \n",
    "                        \"sidive\", \"sishea\", \"intstrx\", \"intstry\", \"time_centered_bounds\", \"time_counter_bounds\", \"time_centered\"])\n",
    "    def preproK(ds):\n",
    "        ds = ds.isel(x=moorx[i], y=moory[i])\n",
    "        return ds.set_coords((\"nav_lat\", \"nav_lon\"))\n",
    "    def preproR(ds):\n",
    "        ds = ds.isel(x=moorx[i], y=moory[i])\n",
    "        return ds.set_coords((\"nav_lat\", \"nav_lon\"))\n",
    "    moorI = f'{moorx[i]:04}'\n",
    "    moorJ = f'{moory[i]:04}'\n",
    "    gridT = xr.decode_cf(xr.open_mfdataset(gridT_files, chunks={\"time_counter\": 73, \"deptht\": 75}, preprocess=preproT, \n",
    "                                           decode_cf=False, coords=\"minimal\", compat=\"override\", parallel=True))\n",
    "    icemod = xr.decode_cf(xr.open_mfdataset(icemod_files, chunks={\"time_counter\": 73}, preprocess=preproI, \n",
    "                                            decode_cf=False, coords=\"minimal\", compat=\"override\", parallel=True))\n",
    "    KE = xr.decode_cf(xr.open_mfdataset(KE_files, chunks={\"time_counter\": 73, \"deptht\": 75}, preprocess=preproK, \n",
    "                                        decode_cf=False, coords=\"minimal\", compat=\"override\", parallel=True))\n",
    "    RI = xr.decode_cf(xr.open_mfdataset(RI_files, chunks={\"time_counter\": 73, \"deptht\": 75}, preprocess=preproR, \n",
    "                                        decode_cf=False, coords=\"minimal\", compat=\"override\", parallel=True))\n",
    "    ds = xr.merge([gridT, icemod, KE, RI], compat=\"override\").sel(time_counter=slice(str(years[CONF][0]) + \"-01-01\", str(years[CONF][-1]) + \"-12-31\"))\n",
    "    years, datasets = zip(*ds.groupby(\"time_counter.year\"))\n",
    "    paths = [str(\"/data0/project/drakkar/USERS/jrieck/\" + CONF + \"-moorings/\" + CONF + \"_\" + str(y) + \"_moor\" + moorn[i] + \"_I\" + moorI + \"J\" + moorJ \n",
    "             + \"_gridT.nc\") for y in years]\n",
    "    xr.save_mfdataset(datasets, paths, engine=\"netcdf4\", format=\"NETCDF4\")\n",
    "        "
   ]
  },
  {
   "cell_type": "markdown",
   "id": "438a85dd-3f85-4df0-8a3a-500d663d2d45",
   "metadata": {},
   "source": [
    "### bash scripts to extract points\n",
    "\n",
    "This is slow as well. Using CDFTOOLS to extract from the 3D fields and ncks to extract from 2D fields. Not sure whether ncks could be faster for the 3D fields as well?"
   ]
  },
  {
   "cell_type": "code",
   "execution_count": null,
   "id": "3a19fdbe-f222-4010-a492-ec02d9390d07",
   "metadata": {
    "jupyter": {
     "source_hidden": true
    },
    "tags": []
   },
   "outputs": [],
   "source": [
    "#I=540\n",
    "#J=1530\n",
    "#number=001\n",
    "#cd $REF08\n",
    "#for year in {1996..2015}; do\n",
    "#    echo $year\n",
    "#    for file in ${year}/CREG12.L75-REF08_y${year}m*.5d_gridT.nc; do \n",
    "#        $CDF/cdfprofile -f $file -v votemper -IJ $I $J -o $WORK/CREG12.L75-REF08-moorings/$file.votemper.profile; done\n",
    "#    for file in ${year}/CREG12.L75-REF08_y${year}m*.5d_gridT.nc; do \n",
    "#        $CDF/cdfprofile -f $file -v vosaline -IJ $I $J -o $WORK/CREG12.L75-REF08-moorings/$file.vosaline.profile; done\n",
    "#    for file in ${year}/CREG12.L75-REF08_y${year}m*.5d_gridT.nc; do \n",
    "#        $CDF/cdfprofile -f $file -v rhop_sig0 -IJ $I $J -o $WORK/CREG12.L75-REF08-moorings/$file.rhop_sig0.profile; done\n",
    "#done\n",
    "#cd $WORK/CREG12.L75-REF08-moorings/\n",
    "#ncrcat -4 --cnk_dmn time_counter,1460 --cnk_dmn deptht,75 ????/*gridT.nc.votemper.profile CREG12.L75-REF08_y1996-2015_moor${number}_I0${I}J${J}_gridT_votemper.nc\n",
    "#ncrcat -4 --cnk_dmn time_counter,1460 --cnk_dmn deptht,75 ????/*gridT.nc.vosaline.profile CREG12.L75-REF08_y1996-2015_moor${number}_I0${I}J${J}_gridT_vosaline.nc\n",
    "#ncrcat -4 --cnk_dmn time_counter,1460 --cnk_dmn deptht,75 ????/*gridT.nc.rhop_sig0.profile CREG12.L75-REF08_y1996-2015_moor${number}_I0${I}J${J}_gridT_rhop_sig0.nc\n",
    "#\n",
    "#I=540\n",
    "#J=1530\n",
    "#number=002\n",
    "#cd $REF08\n",
    "#for year in {1996..2015}; do\n",
    "#    echo $year\n",
    "#    for file in ${year}/CREG12.L75-REF08_y${year}m*.5d_gridT.nc; do \n",
    "#        ncks -O -d x,$I -d y,$J -v mldr10_1 $file $WORK/CREG12.L75-REF08-moorings/$file.mldr10_1.profile; done\n",
    "#    for file in ${year}/CREG12.L75-REF08_y${year}m*.5d_icemod.nc; do \n",
    "#        ncks -O -d x,$I -d y,$J -v siconc $file $WORK/CREG12.L75-REF08-moorings/$file.siconc.profile; done\n",
    "#    for file in ${year}/CREG12.L75-REF08_y${year}m*.5d_icemod.nc; do \n",
    "#        ncks -O -d x,$I -d y,$J -v sithic $file $WORK/CREG12.L75-REF08-moorings/$file.sithic.profile; done\n",
    "#done\n",
    "#cd $WORK/CREG12.L75-REF08-moorings/\n",
    "#ncrcat -4 --cnk_dmn time_counter,1460 ????/*gridT.nc.mldr10_1.profile CREG12.L75-REF08_y1996-2015_moor${number}_I0${I}J${J}_gridT_mldr10_1.nc\n",
    "#ncrcat -4 --cnk_dmn time_counter,1460 ????/*icemod.nc.siconc.profile CREG12.L75-REF08_y1996-2015_moor${number}_I0${I}J${J}_gridT_siconc.nc\n",
    "#ncrcat -4 --cnk_dmn time_counter,1460 ????/*icemod.nc.sithic.profile CREG12.L75-REF08_y1996-2015_moor${number}_I0${I}J${J}_gridT_sithic.nc\n",
    "#\n",
    "#I=540\n",
    "#J=1530\n",
    "#number=001\n",
    "#cd $WORK/CREG12.L75-REF08-KE\n",
    "#for year in {1996..2015}; do\n",
    "#    echo $year\n",
    "#    for file in ${year}/CREG12.L75-REF08_y${year}m*.5d_KE.nc; do \n",
    "#        $CDF/cdfprofile -f $file -v voke -IJ $I $J -o $WORK/CREG12.L75-REF08-moorings/$file.voke.profile; done\n",
    "#done\n",
    "#\n",
    "#ncrcat -4 --cnk_dmn time_counter,1460 --cnk_dmn deptht,75 ????/*.nc.voke.profile CREG12.L75-REF08_y1996-2015_moor${number}_I0${I}J${J}_gridT_voke.nc"
   ]
  },
  {
   "cell_type": "markdown",
   "id": "b09cadbb-0440-4c17-acdb-f889d05b4c08",
   "metadata": {},
   "source": [
    "Using only ncks seems to work just fine. This way I can extract several variables at once. This takes a while but if I start extraction of each mooring point in parallel, it can be done overnight for one simulation."
   ]
  },
  {
   "cell_type": "code",
   "execution_count": null,
   "id": "76a75c6b-7f68-46a0-ae3a-5c8c64ab606a",
   "metadata": {},
   "outputs": [],
   "source": [
    "I=540\n",
    "J=1530\n",
    "number=001\n",
    "for year in {1996..2015}; do\n",
    "    echo $year\n",
    "    cd $REF08\n",
    "    echo \"gridT\"\n",
    "    for file in ${year}/CREG12.L75-REF08_y${year}m*.5d_gridT.nc; do \n",
    "        ncks -O -4 -d x,$I -d y,$J -v votemper,vosaline,rhop_sig0,mldr10_1 $file $WORK/CREG12.L75-REF08-moorings/$file.votemper.profile.I0${I}J${J}; done\n",
    "    echo \"icemod\"\n",
    "    for file in ${year}/CREG12.L75-REF08_y${year}m*.5d_icemod.nc; do \n",
    "        ncks -O -4 -d x,$I -d y,$J -v siconc,sithic $file $WORK/CREG12.L75-REF08-moorings/$file.icemod.profile.I0${I}J${J}; done\n",
    "    cd $WORK/CREG12.L75-REF08-RI\n",
    "    echo \"voric\"\n",
    "    for file in ${year}/CREG12.L75-REF08_y${year}m*.5d_RI.nc; do \n",
    "        ncks -O -4 -d x,$I -d y,$J -v voric $file $WORK/CREG12.L75-REF08-moorings/$file.voric.profile.I0${I}J${J}; done\n",
    "done"
   ]
  },
  {
   "cell_type": "markdown",
   "id": "61c979f3-06c4-48eb-b910-4603e29065b4",
   "metadata": {},
   "source": [
    "re-extract voke later because I recompute it right now"
   ]
  },
  {
   "cell_type": "code",
   "execution_count": null,
   "id": "1975db69-aa81-4ea5-ab34-8823e722125e",
   "metadata": {},
   "outputs": [],
   "source": [
    "I=540\n",
    "J=1530\n",
    "number=001\n",
    "for year in {1996..2015}; do\n",
    "    echo $year\n",
    "    cd $WORK/CREG12.L75-REF08-KE\n",
    "    echo \"voke\"\n",
    "    for file in ${year}/CREG12.L75-REF08_y${year}m*.5d_KE.nc; do \n",
    "        ncks -O -4 -d x,$I -d y,$J -v voke $file $WORK/CREG12.L75-REF08-moorings/$file.voke.profile.I0${I}J${J}; done\n",
    "done"
   ]
  },
  {
   "cell_type": "code",
   "execution_count": null,
   "id": "0abce36f-3de6-471c-9312-69f275b7f768",
   "metadata": {},
   "outputs": [],
   "source": [
    "I=540\n",
    "J=1530\n",
    "number=001\n",
    "cd $WORK/CREG12.L75-REF08-moorings/\n",
    "ncrcat -4 --cnk_dmn time_counter,1460 --cnk_dmn deptht,75 ????/*.nc.voke.profile.I0${I}J${J} CREG12.L75-REF08_y1996-2015_moor${number}_I${I}J${J}_gridT_voke.nc\n",
    "ncrcat -4 --cnk_dmn time_counter,1460 --cnk_dmn deptht,75 ????/*gridT.nc.votemper.profile.I0${I}J${J} CREG12.L75-REF08_y1996-2015_moor${number}_I${I}J${J}_gridT.nc\n",
    "ncrcat -4 --cnk_dmn time_counter,1460 ????/*icemod.nc.icemod.profile.I0${I}J${J} CREG12.L75-REF08_y1996-2015_moor${number}_I${I}J${J}_icemod.nc\n",
    "ncrcat -4 --cnk_dmn time_counter,1460 --cnk_dmn deptht,75 ????/*.nc.voric.profile.I0${I}J${J} CREG12.L75-REF08_y1996-2015_moor${number}_I${I}J${J}_gridT_voric.nc"
   ]
  },
  {
   "cell_type": "code",
   "execution_count": null,
   "id": "44e2276e-70c6-4eb5-8650-cb456168f865",
   "metadata": {},
   "outputs": [],
   "source": [
    "I=540\n",
    "J=1530\n",
    "number=001\n",
    "for year in {2051..2070}; do\n",
    "    echo $year\n",
    "    cd $FUT08\n",
    "    echo \"gridT\"\n",
    "    for file in ${year}/CREG12.L75-FUT08_y${year}m*.5d_gridT.nc; do \n",
    "        ncks -O -4 -d x,$I -d y,$J -v votemper,vosaline,rhop_sig0,mldr10_1 $file $WORK/CREG12.L75-FUT08-moorings/$file.votemper.profile.I0${I}J${J}; done\n",
    "    echo \"icemod\"\n",
    "    for file in ${year}/CREG12.L75-FUT08_y${year}m*.5d_icemod.nc; do \n",
    "        ncks -O -4 -d x,$I -d y,$J -v siconc,sithic $file $WORK/CREG12.L75-FUT08-moorings/$file.icemod.profile.I0${I}J${J}; done\n",
    "    cd $WORK/CREG12.L75-FUT08-RI\n",
    "    echo \"voric\"\n",
    "    for file in ${year}/CREG12.L75-FUT08_y${year}m*.5d_RI.nc; do \n",
    "        ncks -O -4 -d x,$I -d y,$J -v voric $file $WORK/CREG12.L75-FUT08-moorings/$file.voric.profile.I0${I}J${J}; done\n",
    "done"
   ]
  },
  {
   "cell_type": "markdown",
   "id": "41be8ff2-da29-4e74-aa8d-524480eaa8ec",
   "metadata": {},
   "source": [
    "re-extract voke later because I recompute it right now"
   ]
  },
  {
   "cell_type": "code",
   "execution_count": null,
   "id": "5cce5a50-54ea-4f5b-bff4-9cb29b6f352f",
   "metadata": {},
   "outputs": [],
   "source": [
    "I=540\n",
    "J=1530\n",
    "number=001\n",
    "for year in {2051..2070}; do\n",
    "    echo $year\n",
    "    cd $WORK/CREG12.L75-FUT08-KE\n",
    "    echo \"voke\"\n",
    "    for file in ${year}/CREG12.L75-FUT08_y${year}m*.5d_KE.nc; do\n",
    "        ncks -O -4 -d x,$I -d y,$J -v voke $file $WORK/CREG12.L75-FUT08-moorings/$file.voke.profile.I0${I}J${J}; done\n",
    "done"
   ]
  },
  {
   "cell_type": "code",
   "execution_count": null,
   "id": "ff94efda-f60d-4458-a38c-bfe8ca4fd441",
   "metadata": {},
   "outputs": [],
   "source": [
    "I=540\n",
    "J=1530\n",
    "number=001\n",
    "cd $WORK/CREG12.L75-FUT08-moorings/\n",
    "ncrcat -4 --cnk_dmn time_counter,1460 --cnk_dmn deptht,75 ????/*.nc.voke.profile.I0${I}J${J} CREG12.L75-FUT08_y2051-2070_moor${number}_I${I}J${J}_gridT_voke.nc\n",
    "ncrcat -4 --cnk_dmn time_counter,1460 --cnk_dmn deptht,75 ????/*gridT.nc.votemper.profile.I0${I}J${J} CREG12.L75-FUT08_y2051-2070_moor${number}_I${I}J${J}_gridT.nc\n",
    "ncrcat -4 --cnk_dmn time_counter,1460 ????/*icemod.nc.icemod.profile.I0${I}J${J} CREG12.L75-FUT08_y2051-2070_moor${number}_I${I}J${J}_icemod.nc\n",
    "ncrcat -4 --cnk_dmn time_counter,1460 --cnk_dmn deptht,75 ????/*.nc.voric.profile.I0${I}J${J} CREG12.L75-FUT08_y2051-2070_moor${number}_I${I}J${J}_gridT_voric.nc"
   ]
  },
  {
   "cell_type": "markdown",
   "id": "5e246a86-0209-425a-a5e2-4062efdb6701",
   "metadata": {},
   "source": [
    "### extract moorings of EKE and MKE"
   ]
  },
  {
   "cell_type": "code",
   "execution_count": null,
   "id": "61a879f9-f23f-4131-8aa7-a9ade4b495aa",
   "metadata": {},
   "outputs": [],
   "source": [
    "I=540\n",
    "J=1530\n",
    "number=001\n",
    "\n",
    "I=820\n",
    "J=1250\n",
    "number=002\n",
    "\n",
    "I=960\n",
    "J=1150\n",
    "number=003\n",
    "\n",
    "I=650\n",
    "J=1220\n",
    "number=004\n",
    "\n",
    "I=1040\n",
    "J=1320\n",
    "number=005\n",
    "\n",
    "I=840\n",
    "J=1540\n",
    "number=006\n",
    "\n",
    "I=870\n",
    "J=1660\n",
    "number=007\n",
    "\n",
    "I=1200\n",
    "J=1000\n",
    "number=008\n",
    "\n",
    "I=660\n",
    "J=1550\n",
    "number=009\n",
    "\n",
    "I=540\n",
    "J=1620\n",
    "number=WAL\n",
    "\n",
    "I=1080\n",
    "J=1460\n",
    "number=WLS\n",
    "\n",
    "I=1070\n",
    "J=1400\n",
    "number=WSZ"
   ]
  },
  {
   "cell_type": "code",
   "execution_count": null,
   "id": "60a1ee0b-c9fa-4937-ab63-5ee93adc1d36",
   "metadata": {},
   "outputs": [],
   "source": [
    "I=540\n",
    "J=1530\n",
    "number=001\n",
    "for year in {1996..2015}; do\n",
    "    echo $year\n",
    "    cd $WORK/CREG12.L75-REF08-EKE\n",
    "    echo \"voeke\"\n",
    "    for file in ${year}/CREG12.L75-REF08_y${year}m*.5d_EKE.nc; do \n",
    "        ncks -O -4 -d x,$I -d y,$J -v voeke $file $WORK/CREG12.L75-REF08-moorings/$file.voeke.profile.I0${I}J${J}; done\n",
    "done\n",
    "cd $WORK/CREG12.L75-REF08-MKE/clim\n",
    "echo \"vomke\"\n",
    "for file in CREG12.L75-REF08_m*.5d_MKE.nc; do \n",
    "    ncks -O -4 -d x,$I -d y,$J -v vomke $file $WORK/CREG12.L75-REF08-moorings/clim/$file.vomke.profile.I0${I}J${J}; done\n",
    "cd $WORK/CREG12.L75-REF08-MKE\n",
    "for year in {1996..2015}; do\n",
    "    echo $year\n",
    "    for file in ${year}/CREG12.L75-REF08_y${year}m*.5d_MKE.nc; do \n",
    "        ncks -O -4 -d x,$I -d y,$J -v vomke $file $WORK/CREG12.L75-REF08-moorings/$file.vomke.profile.I0${I}J${J}; done\n",
    "done"
   ]
  },
  {
   "cell_type": "code",
   "execution_count": null,
   "id": "20be3b53-f198-4c47-bc55-7c09d39ea231",
   "metadata": {},
   "outputs": [],
   "source": [
    "cd $WORK/CREG12.L75-REF08-moorings/\n",
    "ncrcat -O -4 --cnk_dmn time_counter,1460 --cnk_dmn deptht,75 [1-2]???/*.nc.voeke.profile.I0${I}J${J} CREG12.L75-REF08_y1996-2015_moor${number}_I${I}J${J}_gridT_voeke.nc\n",
    "ncrcat -O -4 --cnk_dmn time_counter,73 --cnk_dmn deptht,75 clim/*.nc.vomke.profile.I0${I}J${J} CREG12.L75-REF08_clim1996-2015_moor${number}_I${I}J${J}_gridT_vomke.nc\n",
    "ncrcat -O -4 --cnk_dmn time_counter,1460 --cnk_dmn deptht,75 [1-2]???/*.nc.vomke.profile.I0${I}J${J} CREG12.L75-REF08_y1996-2015_moor${number}_I${I}J${J}_gridT_vomke.nc"
   ]
  },
  {
   "cell_type": "code",
   "execution_count": null,
   "id": "5ec141e5-7ead-4ed1-9834-17fc28c4bc9b",
   "metadata": {},
   "outputs": [],
   "source": [
    "I=540\n",
    "J=1530\n",
    "number=001\n",
    "for year in {2051..2070}; do\n",
    "    echo $year\n",
    "    cd $WORK/CREG12.L75-FUT08-EKE\n",
    "    echo \"voeke\"\n",
    "    for file in ${year}/CREG12.L75-FUT08_y${year}m*.5d_EKE.nc; do \n",
    "        ncks -O -4 -d x,$I -d y,$J -v voeke $file $WORK/CREG12.L75-FUT08-moorings/$file.voeke.profile.I0${I}J${J}; done\n",
    "done\n",
    "cd $WORK/CREG12.L75-FUT08-MKE/clim\n",
    "echo \"vomke\"\n",
    "for file in CREG12.L75-FUT08_m*.5d_MKE.nc; do \n",
    "    ncks -O -4 -d x,$I -d y,$J -v vomke $file $WORK/CREG12.L75-FUT08-moorings/clim/$file.vomke.profile.I0${I}J${J}; done\n",
    "cd $WORK/CREG12.L75-FUT08-MKE\n",
    "for year in {2051..2070}; do\n",
    "    echo $year\n",
    "    for file in ${year}/CREG12.L75-FUT08_y${year}m*.5d_MKE.nc; do \n",
    "        ncks -O -4 -d x,$I -d y,$J -v vomke $file $WORK/CREG12.L75-FUT08-moorings/$file.vomke.profile.I0${I}J${J}; done\n",
    "done"
   ]
  },
  {
   "cell_type": "code",
   "execution_count": null,
   "id": "d606af9f-f839-46bc-8a6e-cbe310a9964f",
   "metadata": {},
   "outputs": [],
   "source": [
    "cd $WORK/CREG12.L75-FUT08-moorings/\n",
    "#ncrcat -O -4 --cnk_dmn time_counter,1460 --cnk_dmn deptht,75 2???/*.nc.voeke.profile.I0${I}J${J} CREG12.L75-FUT08_y2051-2070_moor${number}_I${I}J${J}_gridT_voeke.nc\n",
    "ncrcat -O -4 --cnk_dmn time_counter,73 --cnk_dmn deptht,75 clim/*.nc.vomke.profile.I0${I}J${J} CREG12.L75-FUT08_clim2051-2070_moor${number}_I${I}J${J}_gridT_vomke.nc\n",
    "ncrcat -O -4 --cnk_dmn time_counter,1460 --cnk_dmn deptht,75 2???/*.nc.vomke.profile.I0${I}J${J} CREG12.L75-FUT08_y2051-2070_moor${number}_I${I}J${J}_gridT_vomke.nc"
   ]
  },
  {
   "cell_type": "markdown",
   "id": "70bbdfe9-3b31-4f9d-8803-04fa3e217018",
   "metadata": {},
   "source": [
    "#### Calculate N$^{2}$"
   ]
  },
  {
   "cell_type": "code",
   "execution_count": null,
   "id": "ba85cb95-f0d0-4ea4-8d1c-ccd75e93b54d",
   "metadata": {},
   "outputs": [],
   "source": [
    "cd $WORK\n",
    "for yyyy in {1996..2015}; do     \n",
    "    echo ${yyyy};     \n",
    "    for fileT in $REF08/${yyyy}/CREG12.L75-REF08_y${yyyy}*.5d_gridT.nc; do        \n",
    "        fileN=$(echo ${fileT/gridT/Nsquared} | rev | cut -d'/' -f-2 | rev);                 \n",
    "        /home/rieck/src/CDFTOOLS/bin/cdfbn2 -t ${fileT} -nc4 -o $WORK/CREG12.L75-REF08-Nsquared/${fileN};              \n",
    "    done; \n",
    "done\n",
    "for fileT in CREG12.L75-REF08-T_clim/CREG12.L75-REF08_m* ; do\n",
    "    fileN=$(echo ${fileT/gridTclim/Nsquared} | rev | cut -d'/' -f-1 | rev);                 \n",
    "    /home/rieck/src/CDFTOOLS/bin/cdfbn2 -t ${fileT} -nc4 -o $WORK/CREG12.L75-REF08-Nsquared/clim/${fileN}\n",
    "done\n",
    "\n",
    "\n",
    "cd $WORK\n",
    "for yyyy in {2051..2070}; do  \n",
    "    echo ${yyyy}\n",
    "    for fileT in $FUT08/${yyyy}/CREG12.L75-FUT08_y${yyyy}*.5d_gridT.nc; do        \n",
    "        fileN=$(echo ${fileT/gridT/Nsquared} | rev | cut -d'/' -f-2 | rev);                 \n",
    "        /home/rieck/src/CDFTOOLS/bin/cdfbn2 -t ${fileT} -nc4 -o $WORK/CREG12.L75-FUT08-Nsquared/${fileN};              \n",
    "    done;  \n",
    "done\n",
    "for fileT in CREG12.L75-FUT08-T_clim/CREG12.L75-FUT08_m* ; do\n",
    "    fileN=$(echo ${fileT/gridTclim/Nsquared} | rev | cut -d'/' -f-1 | rev);                 \n",
    "    /home/rieck/src/CDFTOOLS/bin/cdfbn2 -t ${fileT} -nc4 -o $WORK/CREG12.L75-FUT08-Nsquared/clim/${fileN}\n",
    "done"
   ]
  },
  {
   "cell_type": "markdown",
   "id": "2b995e1a-5bcc-4a39-8278-e1e1bcf17b61",
   "metadata": {},
   "source": [
    "### Extract moorings of N2 and shear"
   ]
  },
  {
   "cell_type": "code",
   "execution_count": null,
   "id": "629c38da-aa03-40df-8889-1b1b53283432",
   "metadata": {},
   "outputs": [],
   "source": [
    "I=540\n",
    "J=1530\n",
    "number=001\n",
    "cd $WORK/CREG12.L75-REF08-Nsquared\n",
    "echo \"vobn2\"\n",
    "for year in {1996..2015}; do\n",
    "    echo ${year}\n",
    "    for file in ${year}/CREG12.L75-REF08_y${year}m*.5d_Nsquared.nc; do \n",
    "        ncks -O -4 -d x,$I -d y,$J -v vobn2 $file $WORK/CREG12.L75-REF08-moorings/$file.vobn2.profile.I0${I}J${J}; done\n",
    "done\n",
    "cd $WORK/CREG12.L75-REF08-Nsquared/clim; \n",
    "echo \"vobn2\"; \n",
    "for file in CREG12.L75-REF08_m*.5d_Nsquared.nc; do \n",
    "    ncks -O -4 -d x,$I -d y,$J -v vobn2 $file $WORK/CREG12.L75-REF08-moorings/clim/$file.vobn2.profile.I0${I}J${J}; done\n",
    "\n",
    "cd $WORK/CREG12.L75-REF08-shear\n",
    "echo \"vovshear\" \n",
    "for year in {1996..2015}; do\n",
    "    echo $year\n",
    "    for file in ${year}/CREG12.L75-REF08_y${year}m*.5d_shear.nc; do \n",
    "        ncks -O -4 -d x,$I -d y,$J -v vovshear $file $WORK/CREG12.L75-REF08-moorings/$file.vovshear.profile.I0${I}J${J}; done\n",
    "done\n",
    "cd $WORK/CREG12.L75-REF08-shear/clim\n",
    "echo \"vovshear\"\n",
    "ncks -O -4 -d x,$I -d y,$J -v vovshear CREG12.L75-REF08_1996-2015_climatology_vovshear.nc $WORK/CREG12.L75-REF08-moorings/CREG12.L75-REF08_clim1996-2015_moor${number}_I${I}J${J}_gridT_vovshear.nc"
   ]
  },
  {
   "cell_type": "code",
   "execution_count": null,
   "id": "4b88dc8a-549f-4940-b4a8-434cf2d1f6d1",
   "metadata": {},
   "outputs": [],
   "source": [
    "'cd \\$WORK/CREG12.L75-REF08-shear; echo \"vovshear\"; for year in {1996..2015}; do echo \\$year; for file in \\${year}/CREG12.L75-REF08_y\\${year}m*.5d_shear.nc; do ncks -O -4 -d x,\\$I -d y,\\$J -v vovshear \\$file \\$WORK/CREG12.L75-REF08-moorings/\\$file.vovshear.profile.I0\\${I}J\\${J}; done; done\\n'"
   ]
  },
  {
   "cell_type": "code",
   "execution_count": null,
   "id": "6371cf5b-df73-4d06-a416-df70b7789d1d",
   "metadata": {},
   "outputs": [],
   "source": [
    "cd $WORK/CREG12.L75-REF08-moorings/\n",
    "ncrcat -O -4 --cnk_dmn time_counter,1460 --cnk_dmn deptht,75 [1-2]???/*.nc.vobn2.profile.I0${I}J${J} CREG12.L75-REF08_y1996-2015_moor${number}_I${I}J${J}_gridT_vobn2.nc\n",
    "ncrcat -O -4 --cnk_dmn time_counter,73 --cnk_dmn deptht,75 clim/*.nc.vobn2.profile.I0${I}J${J} CREG12.L75-REF08_clim1996-2015_moor${number}_I${I}J${J}_gridT_vobn2.nc\n",
    "ncrcat -O -4 --cnk_dmn time_counter,1460 --cnk_dmn deptht,75 [1-2]???/*.nc.vovshear.profile.I0${I}J${J} CREG12.L75-REF08_y1996-2015_moor${number}_I${I}J${J}_gridT_vovshear.nc"
   ]
  },
  {
   "cell_type": "code",
   "execution_count": null,
   "id": "aff9264b-93a6-45cf-8744-d43d36d51154",
   "metadata": {},
   "outputs": [],
   "source": [
    "'cd \\$WORK/CREG12.L75-REF08-moorings/; ncrcat -O -4 --cnk_dmn time_counter,1460 --cnk_dmn deptht,75 [1-2]???/*.nc.vovshear.profile.I0\\${I}J\\${J} CREG12.L75-REF08_y1996-2015_moor\\${number}_I\\${I}J\\${J}_gridT_vovshear.nc\\n'"
   ]
  },
  {
   "cell_type": "code",
   "execution_count": null,
   "id": "60e82f63-a5c3-4588-9dd7-80feb1d64fed",
   "metadata": {},
   "outputs": [],
   "source": [
    "I=540\n",
    "J=1530\n",
    "number=001\n",
    "cd $WORK/CREG12.L75-FUT08-Nsquared\n",
    "echo \"vobn2\"\n",
    "for year in {2051..2070}; do\n",
    "    echo ${year}\n",
    "    for file in ${year}/CREG12.L75-FUT08_y${year}m*.5d_Nsquared.nc; do \n",
    "        ncks -O -4 -d x,$I -d y,$J -v vobn2 $file $WORK/CREG12.L75-FUT08-moorings/$file.vobn2.profile.I0${I}J${J}; done\n",
    "done\n",
    "cd $WORK/CREG12.L75-FUT08-Nsquared/clim\n",
    "echo \"vobn2\"\n",
    "for file in CREG12.L75-FUT08_m*.5d_Nsquared.nc; do \n",
    "    ncks -O -4 -d x,$I -d y,$J -v vobn2 $file $WORK/CREG12.L75-FUT08-moorings/clim/$file.vobn2.profile.I0${I}J${J}; done\n",
    "\n",
    "cd $WORK/CREG12.L75-FUT08-shear\n",
    "echo \"vovshear\" \n",
    "for year in {2051..2070}; do\n",
    "    echo $year\n",
    "    for file in ${year}/CREG12.L75-FUT08_y${year}m*.5d_shear.nc; do \n",
    "        ncks -O -4 -d x,$I -d y,$J -v vovshear $file $WORK/CREG12.L75-FUT08-moorings/$file.vovshear.profile.I0${I}J${J}; done\n",
    "done\n",
    "cd $WORK/CREG12.L75-FUT08-shear/clim\n",
    "echo \"vovshear\"\n",
    "ncks -O -4 -d x,$I -d y,$J -v vovshear CREG12.L75-FUT08_2051-2070_climatology_vovshear.nc $WORK/CREG12.L75-FUT08-moorings/CREG12.L75-FUT08_clim2051-2070_moor${number}_I${I}J${J}_gridT_vovshear.nc"
   ]
  },
  {
   "cell_type": "code",
   "execution_count": null,
   "id": "e9eaf3d1-78fc-4bbd-ab29-7a4028a089d5",
   "metadata": {},
   "outputs": [],
   "source": [
    "'cd \\$WORK/CREG12.L75-FUT08-shear; echo \"vovshear\"; for year in {2051..2070}; do echo \\$year; for file in \\${year}/CREG12.L75-FUT08_y\\${year}m*.5d_shear.nc; do ncks -O -4 -d x,\\$I -d y,\\$J -v vovshear \\$file \\$WORK/CREG12.L75-FUT08-moorings/\\$file.vovshear.profile.I0\\${I}J\\${J}; done; done\\n'"
   ]
  },
  {
   "cell_type": "code",
   "execution_count": null,
   "id": "20cf007b-58db-4fb8-b63d-a86506863763",
   "metadata": {},
   "outputs": [],
   "source": [
    "cd $WORK/CREG12.L75-FUT08-moorings/\n",
    "ncrcat -O -4 --cnk_dmn time_counter,1460 --cnk_dmn deptht,75 2???/*.nc.vobn2.profile.I0${I}J${J} CREG12.L75-FUT08_y2051-2070_moor${number}_I${I}J${J}_gridT_vobn2.nc\n",
    "ncrcat -O -4 --cnk_dmn time_counter,73 --cnk_dmn deptht,75 clim/*.nc.vobn2.profile.I0${I}J${J} CREG12.L75-FUT08_clim2051-2070_moor${number}_I${I}J${J}_gridT_vobn2.nc\n",
    "ncrcat -O -4 --cnk_dmn time_counter,1460 --cnk_dmn deptht,75 2???/*.nc.vovshear.profile.I0${I}J${J} CREG12.L75-FUT08_y2051-2070_moor${number}_I${I}J${J}_gridT_vovshear.nc"
   ]
  },
  {
   "cell_type": "code",
   "execution_count": null,
   "id": "8443f00f-e277-4e7b-afd5-8d2780cbb910",
   "metadata": {},
   "outputs": [],
   "source": [
    "'cd \\$WORK/CREG12.L75-FUT08-moorings/; -ncrcat -O -4 --cnk_dmn time_counter,1460 --cnk_dmn deptht,75 2???/*.nc.vovshear.profile.I0\\${I}J\\${J} CREG12.L75-FUT08_y2051-2070_moor\\${number}_I\\${I}J\\${J}_gridT_vovshear.nc\\n'"
   ]
  },
  {
   "cell_type": "markdown",
   "id": "aab76ab9-3b54-4941-9e18-92f45a52915c",
   "metadata": {},
   "source": [
    "### End of preparations\n",
    "---"
   ]
  }
 ],
 "metadata": {
  "kernelspec": {
   "display_name": "py3_x",
   "language": "python",
   "name": "py3_x"
  },
  "language_info": {
   "codemirror_mode": {
    "name": "ipython",
    "version": 3
   },
   "file_extension": ".py",
   "mimetype": "text/x-python",
   "name": "python",
   "nbconvert_exporter": "python",
   "pygments_lexer": "ipython3",
   "version": "3.8.10"
  }
 },
 "nbformat": 4,
 "nbformat_minor": 5
}
