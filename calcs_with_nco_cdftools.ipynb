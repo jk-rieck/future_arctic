{
 "cells": [
  {
   "cell_type": "markdown",
   "id": "2d3bf960-d50a-4787-bcb2-ce02cea7ce5c",
   "metadata": {},
   "source": [
    "### bash script to calculate KE\n",
    "To find the files:  \n",
    "\n",
    "REF08 = /data0/project/drakkar/CONFIGS/CREG12.L75/CREG12.L75-REF08-S/5d/  \n",
    "FUT08 = /data0/project/drakkar/CONFIGS/CREG12.L75/CREG12.L75-FUT08-S/5d/  \n",
    "WORK = /data0/project/drakkar/USERS/jrieck/  \n",
    "\n",
    "And CDFTOOLS are here\n",
    "\n",
    "CDF = /home/ctalandi/TOOLS/CDFTOOLS/bin"
   ]
  },
  {
   "cell_type": "code",
   "execution_count": null,
   "id": "c33387ea-5f59-4fc1-9396-3adf28d913dc",
   "metadata": {},
   "outputs": [],
   "source": [
    "#%%bash \n",
    "\n",
    "cd $REF08\n",
    "for yyyy in {1996..2015}; do     \n",
    "    echo ${yyyy};     \n",
    "    for fileU in ${yyyy}/CREG12.L75-REF08_y${yyyy}*.5d_gridU.nc; do         \n",
    "        fileV=${fileU/gridU/gridV};         \n",
    "        fileT=${fileU/gridU/gridT};                \n",
    "        fileK=${fileU/gridU/KE};         \n",
    "        $CDF/cdfeke -u ${fileU} -v ${fileV} -t ${fileT} -mke -nc4 -o $WORK/CREG12.L75-REF08-KE/${fileK};       \n",
    "        ncrename -O -v vomke,voke $WORK/CREG12.L75-REF08-KE/${fileK} $WORK/CREG12.L75-REF08-KE/${fileK};            \n",
    "    done; \n",
    "done\n",
    "\n",
    "cd $FUT08\n",
    "for yyyy in {2051..2070}; do     \n",
    "    echo ${yyyy};     \n",
    "    for fileU in ${yyyy}/CREG12.L75-FUT08_y${yyyy}*.5d_gridU.nc; do         \n",
    "        fileV=${fileU/gridU/gridV};         \n",
    "        fileT=${fileU/gridU/gridT};               \n",
    "        fileK=${fileU/gridU/KE};         \n",
    "        $CDF/cdfeke -u ${fileU} -v ${fileV} -t ${fileT} -mke -nc4 -o $WORK/CREG12.L75-FUT08-KE/${fileK};       \n",
    "        ncrename -O -v vomke,voke $WORK/CREG12.L75-FUT08-KE/${fileK} $WORK/CREG12.L75-FUT08-KE/${fileK};     \n",
    "    done; \n",
    "done"
   ]
  },
  {
   "cell_type": "markdown",
   "id": "a048b9cd-616c-414c-b966-56f9ebd70e9f",
   "metadata": {},
   "source": [
    "CDFTOOLS to calculate Richardson number"
   ]
  },
  {
   "cell_type": "code",
   "execution_count": null,
   "id": "c1e4a010-150b-4fcd-9944-f7ba9cb50c6e",
   "metadata": {},
   "outputs": [],
   "source": [
    "#%%bash\n",
    "\n",
    "cd $WORK\n",
    "for yyyy in {1996..2015}; do     \n",
    "    echo ${yyyy};     \n",
    "    for fileU in $REF08/${yyyy}/CREG12.L75-REF08_y${yyyy}*.5d_gridU.nc; do         \n",
    "        fileV=${fileU/gridU/gridV};         \n",
    "        fileT=${fileU/gridU/gridT};         \n",
    "        fileR=$(echo ${fileU/gridU/RI} | rev | cut -d'/' -f-2 | rev);                 \n",
    "        $CDF/cdfrichardson -t ${fileT} -u ${fileU} -v ${fileV} -o $WORK/CREG12.L75-REF08-RI/${fileR};              \n",
    "    done; \n",
    "done\n",
    "\n",
    "cd $WORK\n",
    "for yyyy in {2051..2059}; do     \n",
    "    echo ${yyyy};     \n",
    "    for fileU in $FUT08/${yyyy}/CREG12.L75-FUT08_y${yyyy}*.5d_gridU.nc; do         \n",
    "        fileV=${fileU/gridU/gridV};         \n",
    "        fileT=${fileU/gridU/gridT};         \n",
    "        fileR=$(echo ${fileU/gridU/RI} | rev | cut -d'/' -f-2 | rev);                 \n",
    "        $CDF/cdfrichardson -t ${fileT} -u ${fileU} -v ${fileV} -o $WORK/CREG12.L75-FUT08-RI/${fileR};              \n",
    "    done; \n",
    "done"
   ]
  },
  {
   "cell_type": "markdown",
   "id": "7e4c2c6b-0b51-4e25-b171-3d8b07cbb759",
   "metadata": {},
   "source": [
    "### calculate climatological seasonal cycle of U and V"
   ]
  },
  {
   "cell_type": "code",
   "execution_count": null,
   "id": "7dd21cea-29b9-43cd-8e57-a31b4005413d",
   "metadata": {},
   "outputs": [],
   "source": [
    "cd $WORK/CREG12.L75-REF08-UV_clim\n",
    "for fivedstep in {0..72}; \n",
    "    do step=`printf \"%02d\" ${fivedstep}`\n",
    "    echo ${step}; \n",
    "    ncra -O -4 -v vozocrtx -d time_counter,${fivedstep},,73 $REF08/199[6-9]/CREG12.L75-REF08_y*.5d_gridU.nc $REF08/20??/CREG12.L75-REF08_y*.5d_gridU.nc U_tmp${step}.nc\n",
    "    ncra -O -4 -v vomecrty -d time_counter,${fivedstep},,73 $REF08/199[6-9]/CREG12.L75-REF08_y*.5d_gridV.nc $REF08/20??/CREG12.L75-REF08_y*.5d_gridV.nc V_tmp${step}.nc\n",
    "done\n",
    "ncrcat -O -4 U_tmp??.nc CREG12.L75-REF08_1996-2015_climatology_gridU.nc\n",
    "ncrcat -O -4 V_tmp??.nc CREG12.L75-REF08_1996-2015_climatology_gridV.nc\n",
    "\n",
    "cd $WORK/CREG12.L75-FUT08-UV_clim\n",
    "for fivedstep in {0..72}; \n",
    "    do step=`printf \"%02d\" ${fivedstep}`\n",
    "    echo ${step}; \n",
    "    ncra -O -4 -v vozocrtx -d time_counter,${fivedstep},,73 $FUT08/????/CREG12.L75-FUT08_y*.5d_gridU.nc U_tmp${step}.nc\n",
    "    ncra -O -4 -v vomecrty -d time_counter,${fivedstep},,73 $FUT08/????/CREG12.L75-FUT08_y*.5d_gridV.nc V_tmp${step}.nc\n",
    "done\n",
    "ncrcat -O -4 U_tmp??.nc CREG12.L75-FUT08_2051-2070_climatology_gridU.nc\n",
    "ncrcat -O -4 V_tmp??.nc CREG12.L75-FUT08_2051-2070_climatology_gridV.nc"
   ]
  },
  {
   "cell_type": "code",
   "execution_count": null,
   "id": "d5f91be2-5e44-4fe7-9e55-a70e91a39323",
   "metadata": {},
   "outputs": [],
   "source": []
  },
  {
   "cell_type": "code",
   "execution_count": null,
   "id": "ed9425e4-48ed-47e9-9678-e4c5460512e4",
   "metadata": {},
   "outputs": [],
   "source": []
  },
  {
   "cell_type": "markdown",
   "id": "461f4f88-78b5-4779-bb6c-0494e90dc414",
   "metadata": {},
   "source": [
    "test using xarray for extraction"
   ]
  },
  {
   "cell_type": "code",
   "execution_count": null,
   "id": "9fb59d39-3d9e-40a3-baa8-a5f6a8c0a661",
   "metadata": {
    "jupyter": {
     "source_hidden": true
    },
    "tags": []
   },
   "outputs": [],
   "source": [
    "CONF = CONFS[1]\n",
    "gridT_files = glob(\"/data0/project/drakkar/CONFIGS/CREG12.L75/\" + CONF + \"-S/5d/206?/\" + CONF \n",
    "                   + \"_*.5d_gridT.nc\") + glob(\"/data0/project/drakkar/CONFIGS/CREG12.L75/\" + CONF + \"-S/5d/2070/\" + CONF + \"_*.5d_gridT.nc\")\n",
    "icemod_files = glob(\"/data0/project/drakkar/CONFIGS/CREG12.L75/\" + CONF + \"-S/5d/206?/\" + CONF \n",
    "                   + \"_*.5d_icemod.nc\") + glob(\"/data0/project/drakkar/CONFIGS/CREG12.L75/\" + CONF + \"-S/5d/2070/\" + CONF + \"_*.5d_icemod.nc\")\n",
    "KE_files = glob(\"/data0/project/drakkar/USERS/jrieck/\" + CONF + \"-KE/206?/\" + CONF \n",
    "                + \"_*.5d_KE.nc\") + glob(\"/data0/project/drakkar/USERS/jrieck/\" + CONF + \"-KE/2070/\" + CONF + \"_*.5d_KE.nc\")\n",
    "RI_files = glob(\"/data0/project/drakkar/USERS/jrieck/\" + CONF + \"-RI/206?/\" + CONF \n",
    "                + \"_*.5d_RI.nc\") + glob(\"/data0/project/drakkar/USERS/jrieck/\" + CONF + \"-RI/2070/\" + CONF + \"_*.5d_RI.nc\")\n",
    "\n",
    "for i in np.arange(0, len(moorn)):\n",
    "    # seems like the extraction of profiles is a bit faster when selecting the ij-point already during the preprocessing\n",
    "    def preproT(ds):\n",
    "        ds = ds.isel(x=moorx[i], y=moory[i])\n",
    "        return ds.drop([\"mldkz5\", \"botpres\", \"time_centered_bounds\", \"time_counter_bounds\", \"time_centered\", \"deptht_bounds\"])\n",
    "    def preproI(ds):\n",
    "        ds = ds.isel(x=moorx[i], y=moory[i])\n",
    "        return ds.drop([\"sitemp\", \"sisali\", \"siages\", \"snthic\", \"snvolu\", \"iicestru\", \"iicestrv\", \"sivelo\", \"sivolu\", \"sistre\", \n",
    "                        \"sidive\", \"sishea\", \"intstrx\", \"intstry\", \"time_centered_bounds\", \"time_counter_bounds\", \"time_centered\"])\n",
    "    def preproK(ds):\n",
    "        ds = ds.isel(x=moorx[i], y=moory[i])\n",
    "        return ds.set_coords((\"nav_lat\", \"nav_lon\"))\n",
    "    def preproR(ds):\n",
    "        ds = ds.isel(x=moorx[i], y=moory[i])\n",
    "        return ds.set_coords((\"nav_lat\", \"nav_lon\"))\n",
    "    moorI = f'{moorx[i]:04}'\n",
    "    moorJ = f'{moory[i]:04}'\n",
    "    gridT = xr.decode_cf(xr.open_mfdataset(gridT_files, chunks={\"time_counter\": 73, \"deptht\": 75}, preprocess=preproT, \n",
    "                                           decode_cf=False, coords=\"minimal\", compat=\"override\", parallel=True))\n",
    "    icemod = xr.decode_cf(xr.open_mfdataset(icemod_files, chunks={\"time_counter\": 73}, preprocess=preproI, \n",
    "                                            decode_cf=False, coords=\"minimal\", compat=\"override\", parallel=True))\n",
    "    KE = xr.decode_cf(xr.open_mfdataset(KE_files, chunks={\"time_counter\": 73, \"deptht\": 75}, preprocess=preproK, \n",
    "                                        decode_cf=False, coords=\"minimal\", compat=\"override\", parallel=True))\n",
    "    RI = xr.decode_cf(xr.open_mfdataset(RI_files, chunks={\"time_counter\": 73, \"deptht\": 75}, preprocess=preproR, \n",
    "                                        decode_cf=False, coords=\"minimal\", compat=\"override\", parallel=True))\n",
    "    ds = xr.merge([gridT, icemod, KE, RI], compat=\"override\").sel(time_counter=slice(str(years[CONF][0]) + \"-01-01\", str(years[CONF][-1]) + \"-12-31\"))\n",
    "    years, datasets = zip(*ds.groupby(\"time_counter.year\"))\n",
    "    paths = [str(\"/data0/project/drakkar/USERS/jrieck/\" + CONF + \"-moorings/\" + CONF + \"_\" + str(y) + \"_moor\" + moorn[i] + \"_I\" + moorI + \"J\" + moorJ \n",
    "             + \"_gridT.nc\") for y in years]\n",
    "    xr.save_mfdataset(datasets, paths, engine=\"netcdf4\", format=\"NETCDF4\")\n",
    "        "
   ]
  },
  {
   "cell_type": "markdown",
   "id": "438a85dd-3f85-4df0-8a3a-500d663d2d45",
   "metadata": {},
   "source": [
    "### bash scripts to extract points\n",
    "\n",
    "This is slow as well. Using CDFTOOLS to extract from the 3D fields and ncks to extract from 2D fields. Not sure whether ncks could be faster for the 3D fields as well?"
   ]
  },
  {
   "cell_type": "code",
   "execution_count": null,
   "id": "3a19fdbe-f222-4010-a492-ec02d9390d07",
   "metadata": {
    "jupyter": {
     "source_hidden": true
    },
    "tags": []
   },
   "outputs": [],
   "source": [
    "#I=540\n",
    "#J=1530\n",
    "#number=001\n",
    "#cd $REF08\n",
    "#for year in {1996..2015}; do\n",
    "#    echo $year\n",
    "#    for file in ${year}/CREG12.L75-REF08_y${year}m*.5d_gridT.nc; do \n",
    "#        $CDF/cdfprofile -f $file -v votemper -IJ $I $J -o $WORK/CREG12.L75-REF08-moorings/$file.votemper.profile; done\n",
    "#    for file in ${year}/CREG12.L75-REF08_y${year}m*.5d_gridT.nc; do \n",
    "#        $CDF/cdfprofile -f $file -v vosaline -IJ $I $J -o $WORK/CREG12.L75-REF08-moorings/$file.vosaline.profile; done\n",
    "#    for file in ${year}/CREG12.L75-REF08_y${year}m*.5d_gridT.nc; do \n",
    "#        $CDF/cdfprofile -f $file -v rhop_sig0 -IJ $I $J -o $WORK/CREG12.L75-REF08-moorings/$file.rhop_sig0.profile; done\n",
    "#done\n",
    "#cd $WORK/CREG12.L75-REF08-moorings/\n",
    "#ncrcat -4 --cnk_dmn time_counter,1460 --cnk_dmn deptht,75 ????/*gridT.nc.votemper.profile CREG12.L75-REF08_y1996-2015_moor${number}_I0${I}J${J}_gridT_votemper.nc\n",
    "#ncrcat -4 --cnk_dmn time_counter,1460 --cnk_dmn deptht,75 ????/*gridT.nc.vosaline.profile CREG12.L75-REF08_y1996-2015_moor${number}_I0${I}J${J}_gridT_vosaline.nc\n",
    "#ncrcat -4 --cnk_dmn time_counter,1460 --cnk_dmn deptht,75 ????/*gridT.nc.rhop_sig0.profile CREG12.L75-REF08_y1996-2015_moor${number}_I0${I}J${J}_gridT_rhop_sig0.nc\n",
    "#\n",
    "#I=540\n",
    "#J=1530\n",
    "#number=002\n",
    "#cd $REF08\n",
    "#for year in {1996..2015}; do\n",
    "#    echo $year\n",
    "#    for file in ${year}/CREG12.L75-REF08_y${year}m*.5d_gridT.nc; do \n",
    "#        ncks -O -d x,$I -d y,$J -v mldr10_1 $file $WORK/CREG12.L75-REF08-moorings/$file.mldr10_1.profile; done\n",
    "#    for file in ${year}/CREG12.L75-REF08_y${year}m*.5d_icemod.nc; do \n",
    "#        ncks -O -d x,$I -d y,$J -v siconc $file $WORK/CREG12.L75-REF08-moorings/$file.siconc.profile; done\n",
    "#    for file in ${year}/CREG12.L75-REF08_y${year}m*.5d_icemod.nc; do \n",
    "#        ncks -O -d x,$I -d y,$J -v sithic $file $WORK/CREG12.L75-REF08-moorings/$file.sithic.profile; done\n",
    "#done\n",
    "#cd $WORK/CREG12.L75-REF08-moorings/\n",
    "#ncrcat -4 --cnk_dmn time_counter,1460 ????/*gridT.nc.mldr10_1.profile CREG12.L75-REF08_y1996-2015_moor${number}_I0${I}J${J}_gridT_mldr10_1.nc\n",
    "#ncrcat -4 --cnk_dmn time_counter,1460 ????/*icemod.nc.siconc.profile CREG12.L75-REF08_y1996-2015_moor${number}_I0${I}J${J}_gridT_siconc.nc\n",
    "#ncrcat -4 --cnk_dmn time_counter,1460 ????/*icemod.nc.sithic.profile CREG12.L75-REF08_y1996-2015_moor${number}_I0${I}J${J}_gridT_sithic.nc\n",
    "#\n",
    "#I=540\n",
    "#J=1530\n",
    "#number=001\n",
    "#cd $WORK/CREG12.L75-REF08-KE\n",
    "#for year in {1996..2015}; do\n",
    "#    echo $year\n",
    "#    for file in ${year}/CREG12.L75-REF08_y${year}m*.5d_KE.nc; do \n",
    "#        $CDF/cdfprofile -f $file -v voke -IJ $I $J -o $WORK/CREG12.L75-REF08-moorings/$file.voke.profile; done\n",
    "#done\n",
    "#\n",
    "#ncrcat -4 --cnk_dmn time_counter,1460 --cnk_dmn deptht,75 ????/*.nc.voke.profile CREG12.L75-REF08_y1996-2015_moor${number}_I0${I}J${J}_gridT_voke.nc"
   ]
  },
  {
   "cell_type": "markdown",
   "id": "b09cadbb-0440-4c17-acdb-f889d05b4c08",
   "metadata": {},
   "source": [
    "Using only ncks seems to work just fine. This way I can extract several variables at once. This takes a while but if I start extraction of each mooring point in parallel, it can be done overnight for one simulation."
   ]
  },
  {
   "cell_type": "code",
   "execution_count": null,
   "id": "76a75c6b-7f68-46a0-ae3a-5c8c64ab606a",
   "metadata": {},
   "outputs": [],
   "source": [
    "I=540\n",
    "J=1530\n",
    "number=001\n",
    "for year in {1996..2015}; do\n",
    "    echo $year\n",
    "    cd $REF08\n",
    "    echo \"gridT\"\n",
    "    for file in ${year}/CREG12.L75-REF08_y${year}m*.5d_gridT.nc; do \n",
    "        ncks -O -4 -d x,$I -d y,$J -v votemper,vosaline,rhop_sig0,mldr10_1 $file $WORK/CREG12.L75-REF08-moorings/$file.votemper.profile.I0${I}J${J}; done\n",
    "    echo \"icemod\"\n",
    "    for file in ${year}/CREG12.L75-REF08_y${year}m*.5d_icemod.nc; do \n",
    "        ncks -O -4 -d x,$I -d y,$J -v siconc,sithic $file $WORK/CREG12.L75-REF08-moorings/$file.icemod.profile.I0${I}J${J}; done\n",
    "    cd $WORK/CREG12.L75-REF08-RI\n",
    "    echo \"voric\"\n",
    "    for file in ${year}/CREG12.L75-REF08_y${year}m*.5d_RI.nc; do \n",
    "        ncks -O -4 -d x,$I -d y,$J -v voric $file $WORK/CREG12.L75-REF08-moorings/$file.voric.profile.I0${I}J${J}; done\n",
    "done"
   ]
  },
  {
   "cell_type": "markdown",
   "id": "61c979f3-06c4-48eb-b910-4603e29065b4",
   "metadata": {},
   "source": [
    "re-extract voke later because I recompute it right now"
   ]
  },
  {
   "cell_type": "code",
   "execution_count": null,
   "id": "1975db69-aa81-4ea5-ab34-8823e722125e",
   "metadata": {},
   "outputs": [],
   "source": [
    "I=540\n",
    "J=1530\n",
    "number=001\n",
    "for year in {1996..2015}; do\n",
    "    echo $year\n",
    "    cd $WORK/CREG12.L75-REF08-KE\n",
    "    echo \"voke\"\n",
    "    for file in ${year}/CREG12.L75-REF08_y${year}m*.5d_KE.nc; do \n",
    "        ncks -O -4 -d x,$I -d y,$J -v voke $file $WORK/CREG12.L75-REF08-moorings/$file.voke.profile.I0${I}J${J}; done\n",
    "done"
   ]
  },
  {
   "cell_type": "code",
   "execution_count": null,
   "id": "0abce36f-3de6-471c-9312-69f275b7f768",
   "metadata": {},
   "outputs": [],
   "source": [
    "I=540\n",
    "J=1530\n",
    "number=001\n",
    "cd $WORK/CREG12.L75-REF08-moorings/\n",
    "ncrcat -4 --cnk_dmn time_counter,1460 --cnk_dmn deptht,75 *y????.5d_KE.nc.voke.profile.I0${I}J${J} CREG12.L75-REF08_y1996-2015_moor${number}_I${I}J${J}_gridT_voke.nc\n",
    "ncrcat -4 --cnk_dmn time_counter,1460 --cnk_dmn deptht,75 ????/*gridT.nc.gridT.profile.I0${I}J${J} CREG12.L75-REF08_y1996-2015_moor${number}_I${I}J${J}_gridT.nc\n",
    "ncrcat -4 --cnk_dmn time_counter,1460 ????/*icemod.nc.icemod.profile.I0${I}J${J} CREG12.L75-REF08_y1996-2015_moor${number}_I${I}J${J}_icemod.nc\n",
    "ncrcat -4 --cnk_dmn time_counter,1460 --cnk_dmn deptht,75 ????/*.nc.voric.profile.I0${I}J${J} CREG12.L75-REF08_y1996-2015_moor${number}_I${I}J${J}_gridT_voric.nc"
   ]
  },
  {
   "cell_type": "code",
   "execution_count": null,
   "id": "44e2276e-70c6-4eb5-8650-cb456168f865",
   "metadata": {},
   "outputs": [],
   "source": [
    "I=540\n",
    "J=1530\n",
    "number=001\n",
    "for year in {2051..2070}; do\n",
    "    echo $year\n",
    "    cd $FUT08\n",
    "    echo \"gridT\"\n",
    "    for file in ${year}/CREG12.L75-FUT08_y${year}m*.5d_gridT.nc; do \n",
    "        ncks -O -4 -d x,$I -d y,$J -v votemper,vosaline,rhop_sig0,mldr10_1 $file $WORK/CREG12.L75-FUT08-moorings/$file.votemper.profile.I0${I}J${J}; done\n",
    "    echo \"icemod\"\n",
    "    for file in ${year}/CREG12.L75-FUT08_y${year}m*.5d_icemod.nc; do \n",
    "        ncks -O -4 -d x,$I -d y,$J -v siconc,sithic $file $WORK/CREG12.L75-FUT08-moorings/$file.icemod.profile.I0${I}J${J}; done\n",
    "    cd $WORK/CREG12.L75-FUT08-RI\n",
    "    echo \"voric\"\n",
    "    for file in ${year}/CREG12.L75-FUT08_y${year}m*.5d_RI.nc; do \n",
    "        ncks -O -4 -d x,$I -d y,$J -v voric $file $WORK/CREG12.L75-FUT08-moorings/$file.voric.profile.I0${I}J${J}; done\n",
    "done"
   ]
  },
  {
   "cell_type": "markdown",
   "id": "41be8ff2-da29-4e74-aa8d-524480eaa8ec",
   "metadata": {},
   "source": [
    "re-extract voke later because I recompute it right no"
   ]
  },
  {
   "cell_type": "code",
   "execution_count": null,
   "id": "5cce5a50-54ea-4f5b-bff4-9cb29b6f352f",
   "metadata": {},
   "outputs": [],
   "source": [
    "I=540\n",
    "J=1530\n",
    "number=001\n",
    "for year in {2051..2070}; do\n",
    "    echo $year\n",
    "    cd $WORK/CREG12.L75-FUT08-KE\n",
    "    echo \"voke\"\n",
    "    for file in ${year}/CREG12.L75-FUT08_y${year}m*.5d_KE.nc; do\n",
    "        ncks -O -4 -d x,$I -d y,$J -v voke $file $WORK/CREG12.L75-FUT08-moorings/$file.voke.profile.I0${I}J${J}; done\n",
    "done"
   ]
  },
  {
   "cell_type": "code",
   "execution_count": null,
   "id": "ff94efda-f60d-4458-a38c-bfe8ca4fd441",
   "metadata": {},
   "outputs": [],
   "source": [
    "I=540\n",
    "J=1530\n",
    "number=001\n",
    "cd $WORK/CREG12.L75-FUT08-moorings/\n",
    "ncrcat -4 --cnk_dmn time_counter,1460 --cnk_dmn deptht,75 *y????.5d_KE.nc.voke.profile.I0${I}J${J} CREG12.L75-FUT08_y2051-2070_moor${number}_I${I}J${J}_gridT_voke.nc\n",
    "ncrcat -4 --cnk_dmn time_counter,1460 --cnk_dmn deptht,75 ????/*gridT.nc.gridT.profile.I0${I}J${J} CREG12.L75-FUT08_y2051-2070_moor${number}_I${I}J${J}_gridT.nc\n",
    "ncrcat -4 --cnk_dmn time_counter,1460 ????/*icemod.nc.icemod.profile.I0${I}J${J} CREG12.L75-FUT08_y2051-2070_moor${number}_I${I}J${J}_icemod.nc\n",
    "ncrcat -4 --cnk_dmn time_counter,1460 --cnk_dmn deptht,75 ????/*.nc.voric.profile.I0${I}J${J} CREG12.L75-FUT08_y2051-2070_moor${number}_I${I}J${J}_gridT_voric.nc"
   ]
  },
  {
   "cell_type": "markdown",
   "id": "aab76ab9-3b54-4941-9e18-92f45a52915c",
   "metadata": {},
   "source": [
    "### End of preparations\n",
    "---"
   ]
  }
 ],
 "metadata": {
  "kernelspec": {
   "display_name": "py3_x",
   "language": "python",
   "name": "py3_x"
  },
  "language_info": {
   "codemirror_mode": {
    "name": "ipython",
    "version": 3
   },
   "file_extension": ".py",
   "mimetype": "text/x-python",
   "name": "python",
   "nbconvert_exporter": "python",
   "pygments_lexer": "ipython3",
   "version": "3.8.10"
  }
 },
 "nbformat": 4,
 "nbformat_minor": 5
}
