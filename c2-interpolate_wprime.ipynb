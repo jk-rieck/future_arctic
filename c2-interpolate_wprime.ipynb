{
 "cells": [
  {
   "cell_type": "markdown",
   "id": "0d11b28d-3594-42f8-a248-46d85e89eaa4",
   "metadata": {},
   "source": [
    "# Interpolate w' to the same vertical grid as b'\n",
    "$w$ is on the `depthw` vertical grid and $b$ is on the `deptht` grid but to compute $w'b'$ they need to be on the same grid, so we interpolate $w$ to the `deptht` grid."
   ]
  },
  {
   "cell_type": "code",
   "execution_count": null,
   "id": "2b96f63e-fe11-4e2c-9dcf-f8ac53afd74e",
   "metadata": {},
   "outputs": [],
   "source": [
    "import numpy as np\n",
    "import xarray as xr\n",
    "from glob import glob\n",
    "import nc_time_axis\n",
    "import cftime"
   ]
  },
  {
   "cell_type": "code",
   "execution_count": null,
   "id": "176289d8-edd8-4972-9662-ace33f66254d",
   "metadata": {},
   "outputs": [],
   "source": [
    "def prepro(ds):\n",
    "    return ds.isel(y=slice(500, None))"
   ]
  },
  {
   "cell_type": "markdown",
   "id": "3ded3370-f7a9-44f8-b9df-93a998b56ea9",
   "metadata": {},
   "source": [
    "Define functions to interpolate"
   ]
  },
  {
   "cell_type": "code",
   "execution_count": null,
   "id": "5389466d-73a2-4cdc-9919-1a539b378547",
   "metadata": {},
   "outputs": [],
   "source": [
    "def interp_vertically(ds):\n",
    "    interp = (ds + np.roll(ds,-1,axis=0))/2\n",
    "    return interp\n",
    "\n",
    "def interp_ufunc(data):\n",
    "    interp = xr.apply_ufunc(interp_vertically, data, input_core_dims=[[\"time_counter\",\"x\",\"y\"]], output_core_dims=[[\"time_counter\",\"x\",\"y\"]], \n",
    "            dask=\"allowed\", vectorize = True)\n",
    "    return interp"
   ]
  },
  {
   "cell_type": "markdown",
   "id": "82d44c9e-7bc6-445f-b4a7-dbd8f845295a",
   "metadata": {},
   "source": [
    "Load grid files"
   ]
  },
  {
   "cell_type": "code",
   "execution_count": null,
   "id": "f0931d37-b7b2-42fa-b436-1e1f8127ad75",
   "metadata": {},
   "outputs": [],
   "source": [
    "grid_files = \"/data0/project/drakkar/CONFIGS/CREG12.L75/GRID/CREG12.L75-REF08_mesh_hgr.nc\"\n",
    "coords_file = \"/data0/project/drakkar/CONFIGS/CREG12.L75/GRID/coordinates_CREG12_lbclnk_noz_vh20160930.nc\"\n",
    "mask_file= \"/data0/project/drakkar/CONFIGS/CREG12.L75/GRID/CREG12.L75-REF08_mask.nc\""
   ]
  },
  {
   "cell_type": "code",
   "execution_count": null,
   "id": "f968abf6-6e34-4c38-bc86-abf3bc9f7086",
   "metadata": {},
   "outputs": [],
   "source": [
    "grid = xr.open_mfdataset(grid_files, parallel=True, preprocess=prepro)\n",
    "coords = xr.open_mfdataset(coords_file, parallel=True, preprocess=prepro)\n",
    "mask = xr.open_mfdataset(mask_file, parallel=True, preprocess=prepro)"
   ]
  },
  {
   "cell_type": "markdown",
   "id": "4883938b-7280-460f-8265-07b691146ed3",
   "metadata": {},
   "source": [
    "Load data files"
   ]
  },
  {
   "cell_type": "code",
   "execution_count": null,
   "id": "a17d3091-0179-40d5-b027-338a7ae6911c",
   "metadata": {},
   "outputs": [],
   "source": [
    "Bprime_data_filesREF = \"/data0/project/drakkar/USERS/jrieck/CREG12.L75-REF08-BUOY_prime/*2014*BUOYprime.nc\"\n",
    "Bprime_REF= xr.open_mfdataset(Bprime_data_filesREF, parallel=True, decode_times=False, concat_dim='time_counter', combine='nested')"
   ]
  },
  {
   "cell_type": "code",
   "execution_count": null,
   "id": "b7a91a75-c862-4a9b-9c7f-6b647394c7f5",
   "metadata": {},
   "outputs": [],
   "source": [
    "Wprime_data_filesREF = \"/data0/project/drakkar/USERS/jrieck/CREG12.L75-REF08-gridW_prime/*gridWprime.nc\"\n",
    "Wprime_data_filesFUT = \"/data0/project/drakkar/USERS/jrieck/CREG12.L75-FUT08-gridW_prime/*gridWprime.nc\""
   ]
  },
  {
   "cell_type": "markdown",
   "id": "d53387ba-4672-4f32-a0ae-301a82af2468",
   "metadata": {},
   "source": [
    "Set coordinates and chunk the data"
   ]
  },
  {
   "cell_type": "code",
   "execution_count": null,
   "id": "2d16fbaa-9fe5-4fed-b82c-a28bb9c319a8",
   "metadata": {},
   "outputs": [],
   "source": [
    "Wprime_REF = xr.open_mfdataset(Wprime_data_filesREF, preprocess=prepro, parallel=True)\n",
    "Wprime_REF = Wprime_REF.assign_coords({\"nav_lon\": grid.nav_lon, \"nav_lat\": grid.nav_lat})\n",
    "Wprime_REF = Wprime_REF.chunk({\"x\": 395, \"y\": 501})\n",
    "Wprime_FUT= xr.open_mfdataset(Wprime_data_filesFUT, preprocess=prepro, parallel=True)\n",
    "Wprime_FUT = Wprime_FUT.assign_coords({\"nav_lon\": grid.nav_lon, \"nav_lat\": grid.nav_lat})\n",
    "Wprime_FUT = Wprime_FUT.chunk({\"x\": 395, \"y\": 501})"
   ]
  },
  {
   "cell_type": "markdown",
   "id": "63fb71f0-8571-4866-8358-7cbe8ba24cfe",
   "metadata": {},
   "source": [
    "Loop through time and do the interpolation at each time step, then save the interpolated data to disk."
   ]
  },
  {
   "cell_type": "code",
   "execution_count": null,
   "id": "94a473e0-1dc0-419d-b61e-be87d36e7152",
   "metadata": {},
   "outputs": [],
   "source": [
    "output = \"/data0/project/drakkar/USERS/jrieck/CREG12.L75-REF08-gridW_prime_interp/\"\n",
    "\n",
    "for time in Wprime_REF.time_counter:\n",
    "    date = (str(time.values)[0:10])\n",
    "    print(date)\n",
    "    year, month, day = date.split(\"-\")  \n",
    "    data = Wprime_REF.sel(time_counter=date)\n",
    "    interp_data = interp_ufunc(data)\n",
    "    interp_data[\"depthw\"] = grid.nav_lev.values\n",
    "    interp_data.to_netcdf(output+\"CREG12.L75-REF08_y{0}m{1}d{2}.5d_gridWprime.nc\".format(year, month, day))"
   ]
  },
  {
   "cell_type": "code",
   "execution_count": null,
   "id": "40ce0669-de9d-4b56-bafd-5a4b63d981a6",
   "metadata": {},
   "outputs": [],
   "source": [
    "output = \"/data0/project/drakkar/USERS/jrieck/CREG12.L75-FUT08-gridW_prime_interp/\"\n",
    "\n",
    "for time in Wprime_FUT.time_counter:\n",
    "    date = (str(time.values)[0:10])\n",
    "    print(date)\n",
    "    year, month, day = date.split(\"-\")   \n",
    "    data = Wprime_FUT.sel(time_counter=date)\n",
    "    interp_data = interp_ufunc(data)\n",
    "    interp_data[\"depthw\"] = grid.nav_lev.values\n",
    "    interp_data.to_netcdf(output+\"CREG12.L75-FUT08_y{0}m{1}d{2}.5d_gridWprime.nc\".format(year, month, day))"
   ]
  },
  {
   "cell_type": "code",
   "execution_count": null,
   "id": "050cbdf1-855a-4216-8577-c7a57c782b14",
   "metadata": {},
   "outputs": [],
   "source": []
  },
  {
   "cell_type": "code",
   "execution_count": null,
   "id": "2ad01dad-ece6-4164-90eb-4baea54dfe03",
   "metadata": {},
   "outputs": [],
   "source": []
  }
 ],
 "metadata": {
  "kernelspec": {
   "display_name": "Python 3 (ipykernel)",
   "language": "python",
   "name": "python3"
  },
  "language_info": {
   "codemirror_mode": {
    "name": "ipython",
    "version": 3
   },
   "file_extension": ".py",
   "mimetype": "text/x-python",
   "name": "python",
   "nbconvert_exporter": "python",
   "pygments_lexer": "ipython3",
   "version": "3.10.17"
  }
 },
 "nbformat": 4,
 "nbformat_minor": 5
}
