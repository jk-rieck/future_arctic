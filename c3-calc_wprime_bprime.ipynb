{
 "cells": [
  {
   "cell_type": "markdown",
   "id": "1171d316-57c7-4537-8ea2-0ed9b6bf1040",
   "metadata": {},
   "source": [
    "# Compute w'b' "
   ]
  },
  {
   "cell_type": "code",
   "execution_count": null,
   "id": "9e6395d3-d07f-4dcd-86f8-4220541ab712",
   "metadata": {},
   "outputs": [],
   "source": [
    "import numpy as np\n",
    "import xarray as xr\n",
    "from glob import glob\n",
    "import nc_time_axis\n",
    "import cftime"
   ]
  },
  {
   "cell_type": "code",
   "execution_count": null,
   "id": "f38f5099-c7b6-42c4-afd5-7d0112aa38be",
   "metadata": {},
   "outputs": [],
   "source": [
    "def prepro(ds):\n",
    "    return ds.isel(y=slice(400, None))"
   ]
  },
  {
   "cell_type": "markdown",
   "id": "e6d5dcb8-f49e-42c1-9935-1bc8ef7a5a03",
   "metadata": {},
   "source": [
    "Load grid and data files.  \n",
    "Note that the $w'$ here has been interpolated to the `deptht` vertical grid before with `c2-interpolate_wprime.ipynb`"
   ]
  },
  {
   "cell_type": "code",
   "execution_count": null,
   "id": "759db46e-b198-42af-bf1b-7354fda6f28f",
   "metadata": {},
   "outputs": [],
   "source": [
    "Wprime_data_filesREF = \"/data0/project/drakkar/USERS/jrieck/CREG12.L75-REF08-gridW_prime_interp/*gridWprime.nc\"\n",
    "Wprime_data_filesFUT = \"/data0/project/drakkar/USERS/jrieck/CREG12.L75-FUT08-gridW_prime_interp/*gridWprime.nc\"\n",
    "\n",
    "Bprime_data_filesREF = \"/data0/project/drakkar/USERS/jrieck/CREG12.L75-REF08-BUOY_prime/*BUOYprime.nc\"\n",
    "Bprime_data_filesFUT = \"/data0/project/drakkar/USERS/jrieck/CREG12.L75-FUT08-BUOY_prime/*BUOYprime.nc\""
   ]
  },
  {
   "cell_type": "code",
   "execution_count": null,
   "id": "40506aaf-c9c7-45b4-87ea-395a241be1c9",
   "metadata": {},
   "outputs": [],
   "source": [
    "grid_files = \"/data0/project/drakkar/CONFIGS/CREG12.L75/GRID/CREG12.L75-REF08_mesh_hgr.nc\"\n",
    "coords_file = \"/data0/project/drakkar/CONFIGS/CREG12.L75/GRID/coordinates_CREG12_lbclnk_noz_vh20160930.nc\"\n",
    "mask_file= \"/data0/project/drakkar/CONFIGS/CREG12.L75/GRID/CREG12.L75-REF08_mask.nc\""
   ]
  },
  {
   "cell_type": "code",
   "execution_count": null,
   "id": "922d0ff8-01ef-4129-bd00-3c4333910e9c",
   "metadata": {},
   "outputs": [],
   "source": [
    "grid = xr.open_mfdataset(grid_files, parallel=True, preprocess=prepro)\n",
    "coords = xr.open_mfdataset(coords_file, parallel=True, preprocess=prepro)\n",
    "mask = xr.open_mfdataset(mask_file, parallel=True, preprocess=prepro)"
   ]
  },
  {
   "cell_type": "markdown",
   "id": "9311b24d-cd63-4b30-83b1-269d85c7be24",
   "metadata": {},
   "source": [
    "Assign coordinates and chunk data"
   ]
  },
  {
   "cell_type": "code",
   "execution_count": null,
   "id": "96e4672b-bf7a-4174-91e9-20843b1b14bd",
   "metadata": {},
   "outputs": [],
   "source": [
    "Wprime_REF = xr.open_mfdataset(Wprime_data_filesREF, parallel=True, decode_cf=False)\n",
    "Wprime_REF = Wprime_REF.assign_coords({\"nav_lon\": grid.nav_lon, \"nav_lat\": grid.nav_lat})\n",
    "Wprime_REF = Wprime_REF.chunk({\"depthw\": 1, \"x\":395, \"y\":501})\n",
    "\n",
    "Wprime_FUT= xr.open_mfdataset(Wprime_data_filesFUT, parallel=True, decode_cf=False)\n",
    "Wprime_FUT = Wprime_FUT.assign_coords({\"nav_lon\": grid.nav_lon, \"nav_lat\": grid.nav_lat})\n",
    "Wprime_FUT = Wprime_FUT.chunk({\"depthw\": 1, \"x\":395, \"y\":501})\n",
    "\n",
    "Wprime_REF = Wprime_REF.rename({\"depthw\":\"deptht\"})\n",
    "Wprime_FUT = Wprime_FUT.rename({\"depthw\":\"deptht\"})"
   ]
  },
  {
   "cell_type": "code",
   "execution_count": null,
   "id": "b60962a5-869c-4458-a002-04fea01f4402",
   "metadata": {},
   "outputs": [],
   "source": [
    "Bprime_REF= xr.open_mfdataset(Bprime_data_filesREF, preprocess=prepro, parallel=True,decode_times=False,concat_dim='time_counter', combine='nested')\n",
    "Bprime_REF = Bprime_REF.assign_coords({\"nav_lon\":grid.nav_lon,\"nav_lat\":grid.nav_lat})\n",
    "Bprime_REF = Bprime_REF.chunk({\"deptht\": 1, \"x\":395, \"y\":501})\n",
    "\n",
    "Bprime_FUT= xr.open_mfdataset(Bprime_data_filesFUT, preprocess=prepro, parallel=True,decode_times=False,concat_dim='time_counter', combine='nested')\n",
    "Bprime_FUT = Bprime_FUT.assign_coords({\"nav_lon\":grid.nav_lon,\"nav_lat\":grid.nav_lat})\n",
    "Bprime_FUT = Bprime_FUT.chunk({\"deptht\": 1, \"x\":395, \"y\":501})"
   ]
  },
  {
   "cell_type": "markdown",
   "id": "29b38185-9976-483a-a58b-4627579d36ce",
   "metadata": {},
   "source": [
    "Calculate $w'b'$"
   ]
  },
  {
   "cell_type": "code",
   "execution_count": null,
   "id": "726b9aed-f0a1-4525-9ad3-9e761487b75a",
   "metadata": {},
   "outputs": [],
   "source": [
    "wb_p_REF =  Wprime_REF.vovecrtz * Bprime_REF.cv_bn2\n",
    "wb_p_FUT =  Wprime_FUT.vovecrtz * Bprime_FUT.cv_bn2"
   ]
  },
  {
   "cell_type": "markdown",
   "id": "5dcb90d1-fc92-4511-a602-6502b21fdccf",
   "metadata": {},
   "source": [
    "Loop over time and save each time step to disk"
   ]
  },
  {
   "cell_type": "code",
   "execution_count": null,
   "id": "30e5c2bd-8f90-428d-b2c4-5ad9c79fb5fe",
   "metadata": {},
   "outputs": [],
   "source": [
    "output = \"/data0/project/drakkar/USERS/jrieck/CREG12.L75-REF08-W_prime_B_prime/\"\n",
    "\n",
    "for time in wb_p_REF.time_counter:\n",
    "    date = str(time.values)[0:10]\n",
    "    print(date)\n",
    "    year, month, day = date.split(\"-\")\n",
    "    data = wb_p_REF.sel(time_counter=time)\n",
    "    data.to_netcdf(output+\"CREG12.L75-REF08_y{0}m{1}d{2}.5d_WprimeBprime.nc\".format(year,month,day))"
   ]
  },
  {
   "cell_type": "code",
   "execution_count": null,
   "id": "349a9d0f-3280-4e55-9f8b-e48a82feacd0",
   "metadata": {},
   "outputs": [],
   "source": [
    "output = \"/data0/project/drakkar/USERS/jrieck/CREG12.L75-FUT08-W_prime_B_prime/\"\n",
    "\n",
    "for time in wb_p_FUT.time_counter:\n",
    "    date = (str(time.values)[0:10])\n",
    "    print(date)\n",
    "    year, month, day = date.split(\"-\")\n",
    "    data = wb_p_FUT.sel(time_counter=time)\n",
    "    data.to_netcdf(output+\"CREG12.L75-FUT08_y{0}m{1}d{2}.5d_WprimeBprime.nc\".format(year, month, day))"
   ]
  }
 ],
 "metadata": {
  "kernelspec": {
   "display_name": "Python 3 (ipykernel)",
   "language": "python",
   "name": "python3"
  },
  "language_info": {
   "codemirror_mode": {
    "name": "ipython",
    "version": 3
   },
   "file_extension": ".py",
   "mimetype": "text/x-python",
   "name": "python",
   "nbconvert_exporter": "python",
   "pygments_lexer": "ipython3",
   "version": "3.10.17"
  }
 },
 "nbformat": 4,
 "nbformat_minor": 5
}
