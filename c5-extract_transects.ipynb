{
 "cells": [
  {
   "cell_type": "code",
   "execution_count": null,
   "id": "5811a810-168a-420c-bba3-e5cfc33c6aba",
   "metadata": {},
   "outputs": [],
   "source": [
    "import numpy as np\n",
    "import xarray as xr\n",
    "from glob import glob\n",
    "from sklearn.neighbors import BallTree\n",
    "from skimage.morphology import skeletonize\n",
    "import nc_time_axis\n",
    "import cftime"
   ]
  },
  {
   "cell_type": "code",
   "execution_count": null,
   "id": "410dc4c7-8cc1-4cb9-a92c-6166a5c6e345",
   "metadata": {},
   "outputs": [],
   "source": [
    "def prepro(ds):\n",
    "    return ds.isel(y=slice(800, None))"
   ]
  },
  {
   "cell_type": "code",
   "execution_count": null,
   "id": "7a1ec3f3-29ea-47f8-8dfc-b3091457e6c8",
   "metadata": {},
   "outputs": [],
   "source": [
    "def extract_transect(lon_l, lat_l, dataset, n=None):\n",
    "    \"\"\"extract_transect\n",
    "    Use a nearest neighbor lookup (BallTree) to find the indeces\n",
    "    x, y in dataset that are closest to `lon_l`, `lat_l`.\n",
    "    \"\"\"\n",
    "    coords = np.vstack([lat_l, lon_l]).T\n",
    "    grid_coords = np.vstack([dataset.nav_lat.values.flat, dataset.nav_lon.values.flat]).T\n",
    "    ball_tree = BallTree(np.deg2rad(grid_coords), metric='haversine')\n",
    "    distances_radians, _ = ball_tree.query(np.deg2rad(coords), return_distance=True, breadth_first=True)\n",
    "    index_y, index_x = np.unravel_index(_, dataset.nav_lat.shape)\n",
    "    return index_y, index_x"
   ]
  },
  {
   "cell_type": "code",
   "execution_count": null,
   "id": "2b6e6f4b-e7dc-408b-a2e2-e3eb2095142e",
   "metadata": {},
   "outputs": [],
   "source": [
    "def extract_transects(transects_coords, ds_ref, ds_fut, var=None, outfile=\"output_{0}.nc\"):\n",
    "    \"\"\"extract_trnasects\n",
    "    Wrapper function for `extract_transect` that uses the x, y indices returned by `extract_transect` to\n",
    "    get the data from the dataset, does some re-formatting and re-naming and writes the extracted\n",
    "    transects to disk.\n",
    "    \"\"\"\n",
    "    transects_data = []\n",
    "    for counter, transect in enumerate(transects_coords):\n",
    "        x = transect[0]\n",
    "        y = transect[1]\n",
    "        if len(x) != len(y):\n",
    "            raise ValueError(\"Lenght of transect x and y should be identical\") \n",
    "        index_y, index_x = extract_transect(x, y, ds_ref)\n",
    "        ds_xi = xr.DataArray(index_x.ravel(), dims=[\"x_points\"])\n",
    "        ds_yi = xr.DataArray(index_y.ravel(), dims=[\"y_points\"])\n",
    "        ds_REF = ds_ref[var].assign_coords({\"xt{0}\".format(counter): ds_ref.x,\n",
    "                                            \"yt{0}\".format(counter): ds_ref.y}).to_dataset().swap_dims({\"x\": \"xt{0}\".format(counter),\n",
    "                                                                                                        \"y\": \"yt{0}\".format(counter)})\n",
    "        transect_REF = ds_REF.isel({\"xt{0}\".format(counter): ds_xi,\n",
    "                                    \"yt{0}\".format(counter): ds_yi}).rename({var: var+\"_ref_t{0}\".format(counter)})\n",
    "        transect_REF = transect_REF.rename({\"x_points\": \"x_points\"+\"_t{0}\".format(counter),\n",
    "                                            \"y_points\": \"y_points\"+\"_t{0}\".format(counter)})\n",
    "        ds_FUT = ds_fut[var].assign_coords({\"xt{0}\".format(counter): ds_fut.x,\n",
    "                                            \"yt{0}\".format(counter): ds_fut.y}).to_dataset().swap_dims({\"x\": \"xt{0}\".format(counter),\n",
    "                                                                                                        \"y\": \"yt{0}\".format(counter)})\n",
    "        transect_FUT = ds_FUT.isel({\"xt{0}\".format(counter): ds_xi,\n",
    "                                    \"yt{0}\".format(counter): ds_yi}).rename({var: var+\"_fut_t{0}\".format(counter)})\n",
    "        transect_FUT = transect_FUT.rename({\"x_points\": \"x_points\"+\"_t{0}\".format(counter),\n",
    "                                            \"y_points\": \"y_points\"+\"_t{0}\".format(counter)})\n",
    "        diag = xr.DataArray(np.arange(len(x)), dims=\"diag\")\n",
    "        diag_transect_REF = transect_REF.isel({\"x_points\"+\"_t{0}\".format(counter): diag, \"y_points\"+\"_t{0}\".format(counter): diag})\n",
    "        diag_transect_FUT = transect_FUT.isel({\"x_points\"+\"_t{0}\".format(counter): diag, \"y_points\"+\"_t{0}\".format(counter): diag})\n",
    "        transects_data.append([diag_transect_REF, diag_transect_FUT])\n",
    "    transect_dataset = { \"transect_{0}\".format(ii) : xr.merge(transects_data[ii]) for ii in range(len(transects_data))}\n",
    "    print(\"Storing data\")\n",
    "    [item.to_netcdf(outfile.format(key)) for key, item in transect_dataset.items()]\n",
    "    return transect_dataset"
   ]
  },
  {
   "cell_type": "markdown",
   "id": "35a9c030-3142-46cf-8725-b3488ec538a1",
   "metadata": {},
   "source": [
    "Load grid and data files"
   ]
  },
  {
   "cell_type": "code",
   "execution_count": null,
   "id": "31bf8f72-bc61-468e-bf7c-042b6cdabb0e",
   "metadata": {},
   "outputs": [],
   "source": [
    "GRIDT_data_filesREF = \"/data0/project/drakkar/USERS/jrieck/CREG12.L75-REF08-T_clim/*gridTclim.nc\"\n",
    "ICEMOD_data_filesREF = \"/data0/project/drakkar/USERS/jrieck/CREG12.L75-REF08-icemod_clim/*icemodclim.nc\"\n",
    "GRIDT_data_filesFUT = \"/data0/project/drakkar/USERS/jrieck/CREG12.L75-FUT08-T_clim/*gridTclim.nc\"\n",
    "ICEMOD_data_filesFUT = \"/data0/project/drakkar/USERS/jrieck/CREG12.L75-FUT08-icemod_clim/*icemodclim.nc\""
   ]
  },
  {
   "cell_type": "code",
   "execution_count": null,
   "id": "5bb35c0d-f66c-4c42-b368-b313b0284b88",
   "metadata": {},
   "outputs": [],
   "source": [
    "grid_files = \"/data0/project/drakkar/CONFIGS/CREG12.L75/GRID/CREG12.L75-REF08_mesh_hgr.nc\"\n",
    "coords_file = \"/data0/project/drakkar/CONFIGS/CREG12.L75/GRID/coordinates_CREG12_lbclnk_noz_vh20160930.nc\"\n",
    "mask_file= \"/data0/project/drakkar/CONFIGS/CREG12.L75/GRID/CREG12.L75-REF08_mask.nc\""
   ]
  },
  {
   "cell_type": "code",
   "execution_count": null,
   "id": "d76d15bf-1818-4a61-907e-ec4ead09a71a",
   "metadata": {},
   "outputs": [],
   "source": [
    "grid = xr.open_mfdataset(grid_files, parallel=True, preprocess=prepro)\n",
    "coords = xr.open_mfdataset(coords_file, parallel=True, preprocess=prepro)\n",
    "mask = xr.open_mfdataset(mask_file, parallel=True, preprocess=prepro)"
   ]
  },
  {
   "cell_type": "code",
   "execution_count": null,
   "id": "5dfbf310-8015-4130-ab08-c04e3e969bd6",
   "metadata": {},
   "outputs": [],
   "source": [
    "GRIDT_REF = xr.open_mfdataset(GRIDT_data_filesREF, preprocess=prepro, parallel=True)\n",
    "GRIDT_REF = GRIDT_REF.assign_coords({\"nav_lon\": grid.nav_lon, \"nav_lat\": grid.nav_lat})\n",
    "GRIDT_FUT = xr.open_mfdataset(GRIDT_data_filesFUT, preprocess=prepro, parallel=True)\n",
    "GRIDT_FUT = GRIDT_FUT.assign_coords({\"nav_lon\": grid.nav_lon, \"nav_lat\": grid.nav_lat})"
   ]
  },
  {
   "cell_type": "code",
   "execution_count": null,
   "id": "ec4c3d93-518a-4c70-911c-d799f39ed921",
   "metadata": {},
   "outputs": [],
   "source": [
    "ICEMOD_REF = xr.open_mfdataset(ICEMOD_data_filesREF, preprocess=prepro, parallel=True)\n",
    "ICEMOD_REF = ICEMOD_REF.assign_coords({\"nav_lon\": grid.nav_lon, \"nav_lat\": grid.nav_lat})\n",
    "ICEMOD_FUT = xr.open_mfdataset(ICEMOD_data_filesFUT, preprocess=prepro, parallel=True)\n",
    "ICEMOD_FUT = ICEMOD_FUT.assign_coords({\"nav_lon\": grid.nav_lon, \"nav_lat\": grid.nav_lat})"
   ]
  },
  {
   "cell_type": "code",
   "execution_count": null,
   "id": "cb4ba508-7a44-4214-99d9-4b5bd453a49b",
   "metadata": {},
   "outputs": [],
   "source": [
    "mean_WpBp_REF = xr.open_dataset(\"/data0/project/drakkar/USERS/jrieck/wp_bp_REF_clim.nc\")\n",
    "mean_WpBp_FUT = xr.open_dataset(\"/data0/project/drakkar/USERS/jrieck/wp_bp_FUT_clim.nc\")\n",
    "mean_WpBp_REF = mean_WpBp_REF.assign_coords({\"nav_lon\":grid.nav_lon,\"nav_lat\":grid.nav_lat})\n",
    "mean_WpBp_FUT = mean_WpBp_FUT.assign_coords({\"nav_lon\":grid.nav_lon,\"nav_lat\":grid.nav_lat})"
   ]
  },
  {
   "cell_type": "code",
   "execution_count": null,
   "id": "79edeb75-ea93-4c0d-8571-093e72015766",
   "metadata": {},
   "outputs": [],
   "source": [
    "PVORT_REF = xr.open_dataset(\"/data0/project/drakkar/USERS/jrieck/CREG12.L75-REF08-PVORT_clim/*PVORTclim.nc\")\n",
    "PVORT_FUT = xr.open_dataset(\"/data0/project/drakkar/USERS/jrieck/CREG12.L75-FUT08-PVORT_clim/*PVORTclim.nc\")\n",
    "PVORT_REF = PVORT_REF.assign_coords({\"nav_lon\":grid.nav_lon,\"nav_lat\":grid.nav_lat})\n",
    "PVORT_FUT = PVORT_FUT.assign_coords({\"nav_lon\":grid.nav_lon,\"nav_lat\":grid.nav_lat})"
   ]
  },
  {
   "cell_type": "markdown",
   "id": "1c2fc3db-967f-4d15-baea-bcf493f870e7",
   "metadata": {},
   "source": [
    "Define longitude (x) and latitude (y) of the transects to be extracted"
   ]
  },
  {
   "cell_type": "code",
   "execution_count": null,
   "id": "3573187c-e0b3-40c3-b10d-a12ac7e3fdd5",
   "metadata": {},
   "outputs": [],
   "source": [
    "x_0 = np.linspace(-150,-150,400)\n",
    "y_0 = np.linspace(70,90,400)\n",
    "\n",
    "x_1 = np.linspace(0,0,300)\n",
    "y_1 = np.linspace(90,75,300)\n",
    "\n",
    "x_i = np.hstack((x_0,x_1))\n",
    "y_i = np.hstack((y_0,y_1))\n",
    "\n",
    "x_i2 = np.linspace(120,120,400)\n",
    "y_i2 = np.linspace(90,73,400)"
   ]
  },
  {
   "cell_type": "code",
   "execution_count": null,
   "id": "a7292b5e-ee9a-4d41-b0d5-38958d1824e3",
   "metadata": {},
   "outputs": [],
   "source": [
    "transects = [[x_i,y_i],[x_i2,y_i2]]"
   ]
  },
  {
   "cell_type": "markdown",
   "id": "e3e59a8f-8e6d-40bf-bfeb-16bc7a045e03",
   "metadata": {},
   "source": [
    "Extract transects and save to disk with the functions defined above"
   ]
  },
  {
   "cell_type": "code",
   "execution_count": null,
   "id": "f7ebeb32-003a-4c20-9621-921b6e25d4b1",
   "metadata": {},
   "outputs": [],
   "source": [
    "transects_dens = extract_transects(transects, GRIDT_REF, GRIDT_FUT, 'rhop_sig0', '/data0/project/drakkar/USERS/jrieck/transects/density_{0}.nc')\n",
    "transects_ice = extract_transects(transects, ICEMOD_REF, ICEMOD_FUT, 'sithic', '/data0/project/drakkar/USERS/jrieck/transects/sithic_{0}.nc')\n",
    "transects_WpBp = extract_transects(transects, mean_WpBp_REF, mean_WpBp_FUT, '__xarray_dataarray_variable__', '/data0/project/drakkar/USERS/jrieck/transects/Wp_Bp_{0}.nc')\n",
    "transects_PV = extract_transects(transects, PVORT_REF, PVORT_FUT, 'vototvor', '/data0/project/drakkar/USERS/jrieck/transects/PVORT_{0}.nc')"
   ]
  },
  {
   "cell_type": "code",
   "execution_count": null,
   "id": "91d7b366-7048-489c-b8f9-872d8fe70892",
   "metadata": {},
   "outputs": [],
   "source": []
  }
 ],
 "metadata": {
  "kernelspec": {
   "display_name": "Python 3 (ipykernel)",
   "language": "python",
   "name": "python3"
  },
  "language_info": {
   "codemirror_mode": {
    "name": "ipython",
    "version": 3
   },
   "file_extension": ".py",
   "mimetype": "text/x-python",
   "name": "python",
   "nbconvert_exporter": "python",
   "pygments_lexer": "ipython3",
   "version": "3.10.17"
  }
 },
 "nbformat": 4,
 "nbformat_minor": 5
}
