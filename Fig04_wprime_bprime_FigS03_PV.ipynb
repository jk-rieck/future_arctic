{
 "cells": [
  {
   "cell_type": "code",
   "execution_count": 2,
   "id": "90a7af68-2f51-4606-b32b-fecb1233089f",
   "metadata": {},
   "outputs": [],
   "source": [
    "import numpy as np\n",
    "import xarray as xr\n",
    "import cmocean.cm as cmo\n",
    "import cartopy.crs as ccrs\n",
    "import cartopy.feature as cfeature\n",
    "import cartopy\n",
    "from glob import glob\n",
    "from matplotlib import pyplot as plt\n",
    "import matplotlib.colors as colors\n",
    "import matplotlib.path as mpath\n",
    "import matplotlib.ticker as mticker\n",
    "from matplotlib.patches import ConnectionPatch\n",
    "plt.rcParams['figure.facecolor'] = 'white'\n",
    "%config InlineBackend.print_figure_kwargs = {'bbox_inches': None}"
   ]
  },
  {
   "cell_type": "code",
   "execution_count": null,
   "id": "efe776cc-6f7f-48bc-89fc-100e039c7eb9",
   "metadata": {},
   "outputs": [],
   "source": [
    "def prepro(ds):\n",
    "    return ds.isel(y=slice(500, None))"
   ]
  },
  {
   "cell_type": "markdown",
   "id": "deff405d-4565-4f8f-9450-0701a45071f0",
   "metadata": {},
   "source": [
    "Function to add latitude labels"
   ]
  },
  {
   "cell_type": "code",
   "execution_count": 3,
   "id": "499d7f94-7eea-4c06-9882-fee96278aab8",
   "metadata": {},
   "outputs": [],
   "source": [
    "def latitude_labels(ax, ds):    \n",
    "    labels = [int(item._x) for item in ax.get_xticklabels()]\n",
    "    labels_coord = [np.round(ds.nav_lat.isel(diag=label).values) for label in labels ]\n",
    "    for il in range(0,len(labels)):\n",
    "        if labels[il] % 200:\n",
    "            labels_coord[il]=''\n",
    "    ax.set_xticklabels(labels_coord)"
   ]
  },
  {
   "cell_type": "markdown",
   "id": "3e005b73-91b9-4712-9775-19422fca8267",
   "metadata": {},
   "source": [
    "Load grid and data files"
   ]
  },
  {
   "cell_type": "code",
   "execution_count": null,
   "id": "245f6db6-725e-47eb-9006-2a6ed1cfc055",
   "metadata": {},
   "outputs": [],
   "source": [
    "grid_files = [\"/data0/project/drakkar/CONFIGS/CREG12.L75/GRID/CREG12.L75-REF08_mask.nc\", \n",
    "              \"/data0/project/drakkar/CONFIGS/CREG12.L75/GRID/CREG12.L75-REF08_mesh_hgr.nc\",\n",
    "              \"/data0/project/drakkar/CONFIGS/CREG12.L75/GRID/CREG12.L75-REF08_mesh_zgr.nc\"]"
   ]
  },
  {
   "cell_type": "code",
   "execution_count": null,
   "id": "05646d9e-b1cc-4894-9692-1a54be31895f",
   "metadata": {},
   "outputs": [],
   "source": [
    "grid = xr.open_mfdataset(grid_files, parallel=True, preprocess=prepro)"
   ]
  },
  {
   "cell_type": "code",
   "execution_count": 4,
   "id": "a2868bcc-8503-431d-adf3-3ed74c10ec8c",
   "metadata": {},
   "outputs": [],
   "source": [
    "ice = xr.open_mfdataset('/data0/project/drakkar/USERS/jrieck/transects/sithic_transect_0.nc')\n",
    "iceREF = ice.sithic_ref_t0.mean(\"time_counter\")\n",
    "iceFUT = ice.sithic_fut_t0.mean(\"time_counter\")\n",
    "rho = xr.open_mfdataset(\"/data0/project/drakkar/USERS/jrieck/transects/density_transect_0.nc\")\n",
    "densityREF = rho.rhop_sig0_ref_t0.mean(\"time_counter\")\n",
    "densityFUT = rho.rhop_sig0_fut_t0.mean(\"time_counter\")"
   ]
  },
  {
   "cell_type": "code",
   "execution_count": 5,
   "id": "d16651aa-4a80-470f-945d-afdd16105b10",
   "metadata": {},
   "outputs": [],
   "source": [
    "data2plot_rho_t0 = xr.open_dataset('/data0/project/drakkar/USERS/jrieck/transects/density_transect_0.nc')\n",
    "data2plot_rho_t1 = xr.open_dataset('/data0/project/drakkar/USERS/jrieck/transects/density_transect_1.nc')\n",
    "\n",
    "PV_REF = xr.open_dataset('/data0/project/drakkar/USERS/jrieck/CREG12.L75-REF08-PVORT/transect_1.nc')\n",
    "PV_FUT = xr.open_dataset('/data0/project/drakkar/USERS/jrieck/CREG12.L75-FUT08-PVORT/transect_1.nc')\n",
    "\n",
    "PV_REF_t2 = xr.open_dataset('/data0/project/drakkar/USERS/jrieck/CREG12.L75-REF08-PVORT/transect_2.nc')\n",
    "PV_FUT_t2 = xr.open_dataset('/data0/project/drakkar/USERS/jrieck/CREG12.L75-FUT08-PVORT/transect_2.nc')\n",
    "\n",
    "rho0 = 1025.\n",
    "data2plot_REF_PV = PV_REF.vototvor.differentiate('diag').drop('diag').interpolate_na(\"diag\") / rho0\n",
    "data2plot_FUT_PV = PV_FUT.vototvor.differentiate('diag').drop('diag').interpolate_na(\"diag\") / rho0"
   ]
  },
  {
   "cell_type": "code",
   "execution_count": 6,
   "id": "96061c46-a88b-475f-bebd-bc5f026699a3",
   "metadata": {},
   "outputs": [],
   "source": [
    "data2plot_REF_PV_t0  = data2plot_REF_PV\n",
    "data2plot_FUT_PV_t0  = data2plot_FUT_PV\n",
    "\n",
    "diag_transect_wp_bp_t0 = xr.open_dataset('/data0/project/drakkar/USERS/jrieck/transects/Wp_Bp_transect_0.nc')\n",
    "diag_transect_wp_bp_t1 = xr.open_dataset('/data0/project/drakkar/USERS/jrieck/transects/Wp_Bp_transect_1.nc')\n",
    "\n",
    "data2plot_REF_wp_bp = diag_transect_wp_bp_t0.__xarray_dataarray_variable___ref_t0\n",
    "data2plot_FUT_wp_bp = diag_transect_wp_bp_t0.__xarray_dataarray_variable___fut_t0\n",
    "\n",
    "mean_WpBp_REF = xr.open_dataset(\"/data0/project/drakkar/USERS/jrieck/wp_bp_REF_clim_y500.nc\")\n",
    "mean_WpBp_FUT = xr.open_dataset(\"/data0/project/drakkar/USERS/jrieck/wp_bp_FUT_clim_y500.nc\")"
   ]
  },
  {
   "cell_type": "markdown",
   "id": "84075234-18e4-4cd8-8c89-cb4ae306a677",
   "metadata": {},
   "source": [
    "Integrate $w'b'$ over the top 300 m"
   ]
  },
  {
   "cell_type": "code",
   "execution_count": 237,
   "id": "2da34f09-58ab-4aa5-89ab-87498df6ede6",
   "metadata": {},
   "outputs": [],
   "source": [
    "deptht = mean_WpBp_REF.sel(deptht=slice(0, 300)).deptht\n",
    "\n",
    "T_bc_REF = mean_WpBp_REF.sel(deptht=slice(0, 300)).sum(\"deptht\") * deptht.max()\n",
    "T_bc_FUT = mean_WpBp_FUT.sel(deptht=slice(0, 300)).sum(\"deptht\") * deptht.max()\n",
    "\n",
    "T_bc_REF = T_bc_REF.where(T_bc_REF!=0)\n",
    "T_bc_FUT = T_bc_FUT.where(T_bc_FUT!=0)"
   ]
  },
  {
   "cell_type": "markdown",
   "id": "83728053-5a77-4586-80d7-5e07fbd0f7e1",
   "metadata": {},
   "source": [
    "Define some modifications to be made to all the maps plotted"
   ]
  },
  {
   "cell_type": "code",
   "execution_count": 8,
   "id": "56ac6b3c-95fe-445f-976c-1b0f5f71bf73",
   "metadata": {},
   "outputs": [],
   "source": [
    "def map_config(ax):\n",
    "    ax.set_extent([-180, 180, 67, 90], ccrs.PlateCarree())\n",
    "    ax.add_feature(cfeature.LAND, facecolor=\"silver\")\n",
    "    gl = ax.gridlines(crs=ccrs.PlateCarree(), draw_labels=False, y_inline=True,\n",
    "                     linewidth=1, color='gray', alpha=0.7, linestyle='--')\n",
    "    plt.draw()\n",
    "    return"
   ]
  },
  {
   "cell_type": "markdown",
   "id": "5aa29272-c459-485c-86b8-386b5f3ff538",
   "metadata": {},
   "source": [
    "Define `cartopy` projection to be used on maps"
   ]
  },
  {
   "cell_type": "code",
   "execution_count": 9,
   "id": "1b8e1994-ce70-4b62-ada0-ecce4d162ddf",
   "metadata": {},
   "outputs": [],
   "source": [
    "proj = ccrs.RotatedPole(pole_longitude=180, pole_latitude=40, central_rotated_longitude=0)"
   ]
  },
  {
   "cell_type": "markdown",
   "id": "c46d0cdb-9077-4bab-be7a-fd252ddc1939",
   "metadata": {},
   "source": [
    "Plot Fig. 4"
   ]
  },
  {
   "cell_type": "code",
   "execution_count": null,
   "id": "4522167a-6763-4bc3-822e-b3d99c25eeef",
   "metadata": {},
   "outputs": [],
   "source": [
    "fig = plt.figure(figsize=(10, 6))\n",
    "gs = fig.add_gridspec(3, 24, height_ratios=[1, 0.05, 0.45])\n",
    "\n",
    "# define axes\n",
    "ax1 = fig.add_subplot(gs[0, 0:8], projection=proj)\n",
    "ax2 = fig.add_subplot(gs[0, 8:16], projection=proj)\n",
    "ax3 = fig.add_subplot(gs[0, 16:24], projection=proj)\n",
    "ax4 = fig.add_subplot(gs[2, 0:8])\n",
    "ax5 = fig.add_subplot(gs[2, 8:16])\n",
    "ax6 = fig.add_subplot(gs[2, 16:24])\n",
    "\n",
    "# plot maps of integrated w'b'\n",
    "t1 = T_bc_REF.__xarray_dataarray_variable__.plot(x=\"nav_lon\", y=\"nav_lat\", ax=ax1, \n",
    "                                            norm=colors.SymLogNorm(linthresh=1e-5, linscale=1, \n",
    "                                                                    vmin=-1e-4, vmax=1e-4), cmap=cmo.delta, \n",
    "                                            add_colorbar=False, transform=ccrs.PlateCarree(),\n",
    "                                            rasterized=True\n",
    "                                           )\n",
    "\n",
    "t2 = T_bc_FUT.__xarray_dataarray_variable__.plot(x=\"nav_lon\", y=\"nav_lat\", ax=ax2, \n",
    "                                            norm=colors.SymLogNorm(linthresh=1e-5, linscale=1, \n",
    "                                                                    vmin=-1e-4, vmax=1e-4), cmap=cmo.delta, \n",
    "                                            add_colorbar=False, transform=ccrs.PlateCarree(),\n",
    "                                            rasterized=True\n",
    "                                           )\n",
    "\n",
    "t3 = (T_bc_FUT.__xarray_dataarray_variable__ - T_bc_REF.__xarray_dataarray_variable__).plot(x=\"nav_lon\", y=\"nav_lat\", ax=ax3, \n",
    "                                            norm=colors.SymLogNorm(linthresh=1e-5, linscale=1, \n",
    "                                                                    vmin=-1e-4, vmax=1e-4), cmap=cmo.delta, \n",
    "                                            add_colorbar=False, transform=ccrs.PlateCarree(),\n",
    "                                            rasterized=True\n",
    "                                           )\n",
    "\n",
    "# plot transects of w'b' with density contours\n",
    "w1 = data2plot_REF_wp_bp.plot(x='diag', ax=ax4, yincrease=False,rasterized=True, add_colorbar=False, \n",
    "                                                      norm=colors.SymLogNorm(linthresh=1e-10, linscale=1, \n",
    "                                                                    vmin=-1e-8, vmax=1e-8), cmap=cmo.delta)\n",
    "cs4 = densityREF.where(densityREF> 1000).plot.contour(x='diag', yincrease=False, ax=ax4, \n",
    "                                                      vmin=1020, vmax=1030,\n",
    "                                                      cmap=cmo.dense, levels=[1024,1026,1027])\n",
    "ax4.clabel(cs4, inline=1, fontsize=10)\n",
    "ice_ax4 = ax4.inset_axes([0, 1, 1, 0.2])\n",
    "ice_ax4.fill_between(iceREF.diag, iceREF * 0, iceREF, alpha=0.5)\n",
    "\n",
    "w2 = data2plot_FUT_wp_bp.plot(x='diag', ax=ax5, yincrease=False,rasterized=True, add_colorbar=False, \n",
    "                                                      norm=colors.SymLogNorm(linthresh=1e-10, linscale=1, \n",
    "                                                                    vmin=-1e-8, vmax=1e-8), cmap=cmo.delta)\n",
    "cs5 = densityFUT.where(densityFUT>1000).plot.contour(x='diag', yincrease=False, ax=ax5, \n",
    "                                                      vmin=1020, vmax=1030,\n",
    "                                                      cmap=cmo.dense, levels=[1024,1026,1027])\n",
    "ax5.clabel(cs5, inline=1, fontsize=10)\n",
    "ice_ax5 = ax5.inset_axes([0, 1, 1, 0.2])\n",
    "ice_ax5.fill_between(iceFUT.diag, iceFUT * 0, iceFUT, alpha=0.5)\n",
    "\n",
    "w3 = (data2plot_FUT_wp_bp - data2plot_REF_wp_bp).plot(x='diag', ax=ax6, \n",
    "                                                      yincrease=False,rasterized=True, add_colorbar=False, \n",
    "                                                      norm=colors.SymLogNorm(linthresh=1e-10, linscale=1, \n",
    "                                                                    vmin=-1e-8, vmax=1e-8), cmap=cmo.delta)\n",
    "\n",
    "# configure maps\n",
    "gl = [map_config(ax) for ax in [ax1, ax2, ax3]];\n",
    "\n",
    "# add lines of transect to map\n",
    "[ax.plot(densityREF.nav_lon, densityREF.nav_lat, transform=ccrs.PlateCarree(), color=\"dimgray\", linewidth=2, zorder=6) \n",
    " for ax in [ax1, ax2, ax3]]\n",
    "[ax.plot(densityREF.nav_lon, densityREF.nav_lat, transform=ccrs.PlateCarree(), color=\"gold\", zorder=7) \n",
    " for ax in [ax1, ax2, ax3]]\n",
    "\n",
    "# set limits, labels, ticks etc.\n",
    "[ax.set_xlim(0, len(densityREF.diag)) for ax in [ax4, ax5, ax6]]\n",
    "[ax.set_ylim(370, 0) for ax in [ax4, ax5, ax6]]\n",
    "[ax.set_xlim((0, max(iceREF.diag))) for ax in [ice_ax4, ice_ax5]]\n",
    "[ax.set_ylim((0, 3)) for ax in [ice_ax4, ice_ax5]]\n",
    "[ax.set_yticks([2.5]) for ax in [ice_ax4, ice_ax5]]\n",
    "[ax.set_xticks(np.arange(0, len(densityREF.diag), 100)) for ax in [ax4, ax5, ax6]]\n",
    "[ax.xaxis.set_ticklabels([]) for ax in [ice_ax4, ice_ax5]]\n",
    "[ax.yaxis.set_ticklabels([]) for ax in [ax5, ax6, ice_ax5]]\n",
    "[ax.set_ylabel(\"\") for ax in [ax5, ax6]]\n",
    "[ax.set_ylabel(\"depth m\") for ax in [ax4]]\n",
    "[ax.set_ylabel(\"m\") for ax in [ice_ax4]]\n",
    "[ax.set_xlabel(r\"latitude ($^{\\circ}$North)\") for ax in [ax4, ax5, ax6]]\n",
    "\n",
    "[latitude_labels(ax, densityREF) for ax in [ax4, ax5, ax6]]\n",
    "\n",
    "ax1.set_title(\"REF (1996-2015)\", fontsize=16, fontweight=\"bold\", pad=10)\n",
    "ax2.set_title(\"FUT (2051-2070)\", fontsize=16, fontweight=\"bold\", pad=10)\n",
    "ax3.set_title(\"FUT - REF\", fontsize=16, fontweight=\"bold\", pad=10)\n",
    "\n",
    "[ax.text(-15, -100, t, fontsize=12) \n",
    " for ax, t in zip([ax4, ax5, ax6], [\"(d)\", \"(e)\", \"(f)\"])]\n",
    "[ax.text(-143, 65, t, fontsize=12, transform=ccrs.PlateCarree(), backgroundcolor=\"whitesmoke\") \n",
    " for ax, t in zip([ax1, ax2, ax3], \n",
    "                  [\"(a)\", \"(b)\", \"(c)\"])]\n",
    "\n",
    "cax2 = ax3.inset_axes([1.05, 0, 0.05, 1])\n",
    "cbar2 = plt.colorbar(t3, cax=cax2, orientation='vertical', extend=\"both\")\n",
    "cbar2.ax.tick_params(axis='y', which='major', pad=12)\n",
    "cbar2.set_label(r\"w'b' (m$^{3}\\,$s$^{-3}$)\")\n",
    "cax2.set_yticks([-1e-4, -1e-5, 0, 1e-5, 1e-4])\n",
    "cax2.set_yticklabels([\"-1e-4\", \"-1e-5\", \"0\",\n",
    "                       \"1e-5\", \"1e-4\"], rotation=0, ha='center')\n",
    "\n",
    "cax3 = ax6.inset_axes([1.05, 0, 0.05, 1])\n",
    "cbar3 = plt.colorbar(w3, cax=cax3, orientation='vertical', extend=\"both\")\n",
    "cbar3.ax.tick_params(axis='y', which='major', pad=17)\n",
    "cbar3.set_label(r\"w'b' (m$^{2}\\,$s$^{-3}$)\")\n",
    "cax3.set_yticks([-1e-8, -1e-9, -1e-10, 0, 1e-10, 1e-9, 1e-8])\n",
    "cax3.set_yticklabels([\"-10$^{-8}$\", \"-10$^{-9}$\", \"-10$^{-10}$\", \"0\",\n",
    "                       \"10$^{-10}$\", \"10$^{-9}$\", \"10$^{-8}$\"], rotation=0, ha='center')\n",
    "\n",
    "for ax in [ax1, ax2, ax3]:\n",
    "    ax.text(-30, 85, r\"85$^{\\circ}$N\", transform=ccrs.PlateCarree(), ha=\"center\", fontsize=7)\n",
    "    ax.text(-31, 80, r\"80$^{\\circ}$N\", transform=ccrs.PlateCarree(), ha=\"center\", fontsize=7)\n",
    "    ax.text(-34, 75, r\"75$^{\\circ}$N\", transform=ccrs.PlateCarree(), ha=\"center\", fontsize=7)\n",
    "    ax.text(-37, 70, r\"70$^{\\circ}$N\", transform=ccrs.PlateCarree(), ha=\"center\", fontsize=7)\n",
    "    ax.text(-41, 65, r\"65$^{\\circ}$N\", transform=ccrs.PlateCarree(), ha=\"center\", fontsize=7)\n",
    "\n",
    "plt.subplots_adjust(wspace=1, hspace=0.1, bottom=0.15, top=0.9, left=0.1, right=0.9)\n",
    "\n",
    "plt.savefig(\"figures/Figure_4_wb.png\", dpi=600)"
   ]
  },
  {
   "cell_type": "markdown",
   "id": "a3637804-182f-4f11-a9fc-517c1db52f28",
   "metadata": {},
   "source": [
    "Plot Fig. S3"
   ]
  },
  {
   "cell_type": "code",
   "execution_count": null,
   "id": "0e856241-559f-47b9-b94a-eb37cf44a894",
   "metadata": {},
   "outputs": [],
   "source": [
    "fig = plt.figure(figsize=(10, 2.6))\n",
    "gs = fig.add_gridspec(1, 24, height_ratios=[1])\n",
    "\n",
    "ax01 = fig.add_subplot(gs[0, 0:8])\n",
    "ax02 = fig.add_subplot(gs[0, 8:16])\n",
    "ax03 = fig.add_subplot(gs[0, 16:24])\n",
    "\n",
    "d1 = data2plot_REF_PV.plot(x='diag', yincrease=False, ax=ax01, rasterized=True,\n",
    "                           add_colorbar=False, vmin=-2e-4, vmax=2e-4, cmap=cmo.balance)\n",
    "cs1 = densityREF.where(densityREF> 1000).plot.contour(x='diag', yincrease=False, ax=ax01, \n",
    "                                                      vmin=1020, vmax=1030,\n",
    "                                                      cmap=cmo.dense, levels=[1024,1026,1027])\n",
    "ax01.clabel(cs1, inline=1, fontsize=10)\n",
    "ice_ax1 = ax01.inset_axes([0, 1, 1, 0.2])\n",
    "ice_ax1.fill_between(iceREF.diag, iceREF * 0, iceREF, alpha=0.5)\n",
    "\n",
    "d2 = data2plot_FUT_PV.plot(x='diag', yincrease=False, ax=ax02, rasterized=True,\n",
    "                           add_colorbar=False, vmin=-2e-4, vmax=2e-4, cmap=cmo.balance)\n",
    "cs2 = densityFUT.where(densityFUT>1000).plot.contour(x='diag', yincrease=False, ax=ax02, \n",
    "                                                      vmin=1020, vmax=1030,\n",
    "                                                      cmap=cmo.dense, levels=[1024,1026,1027])\n",
    "ax02.clabel(cs2, inline=1, fontsize=10)\n",
    "ice_ax2 = ax02.inset_axes([0, 1, 1, 0.2])\n",
    "ice_ax2.fill_between(iceFUT.diag, iceFUT * 0, iceFUT, alpha=0.5)\n",
    "\n",
    "d3 = (data2plot_FUT_PV - data2plot_REF_PV).plot(x='diag', yincrease=False, ax=ax03, rasterized=True,\n",
    "                                         add_colorbar=False, vmin=-2e-4, vmax=2e-4, cmap=cmo.balance)\n",
    "\n",
    "\n",
    "[ax.set_xlim(0, len(densityREF.diag)) for ax in [ax01, ax02, ax03]]\n",
    "[ax.set_ylim(370, 0) for ax in [ax01, ax02, ax03]]\n",
    "[ax.set_xlim((0, max(iceREF.diag))) for ax in [ice_ax1, ice_ax2]]\n",
    "[ax.set_ylim((0, 3)) for ax in [ice_ax1, ice_ax2]]\n",
    "[ax.set_yticks([2.5]) for ax in [ice_ax1, ice_ax2]]\n",
    "[ax.set_xticks(np.arange(0, len(densityREF.diag), 100)) for ax in [ax01, ax02, ax03]]\n",
    "[ax.xaxis.set_ticklabels([]) for ax in [ice_ax1, ice_ax2]]\n",
    "[ax.yaxis.set_ticklabels([]) for ax in [ax02, ax03, ice_ax2]]\n",
    "[ax.set_ylabel(\"\") for ax in [ax02, ax03]]\n",
    "[ax.set_ylabel(\"depth m\") for ax in [ax01]]\n",
    "[ax.set_ylabel(\"m\") for ax in [ice_ax1]]\n",
    "[ax.set_xlabel(r\"latitude ($^{\\circ}$North)\") for ax in [ax01, ax02, ax03]]\n",
    "\n",
    "[latitude_labels(ax, densityREF) for ax in [ax01, ax02, ax03]]\n",
    "\n",
    "ax01.set_title(\"REF (1996-2015)\", fontsize=16, fontweight=\"bold\", pad=10)\n",
    "ax02.set_title(\"FUT (2051-2070)\", fontsize=16, fontweight=\"bold\", pad=10)\n",
    "ax03.set_title(\"FUT - REF\", fontsize=16, fontweight=\"bold\", pad=10)\n",
    "\n",
    "[ax.text(-15, -100, t, fontsize=12) \n",
    " for ax, t in zip([ax01, ax02, ax03], [\"(a)\", \"(b)\", \"(c)\"])]\n",
    "\n",
    "cax1 = ax03.inset_axes([1.05, 0, 0.05, 1])\n",
    "cbar1 = plt.colorbar(d1, cax=cax1, orientation='vertical', extend=\"both\")\n",
    "cax1.set_yticks([-2e-4, -1e-4, 0, 1e-4, 2e-4])\n",
    "cax1.set_yticklabels([\"-2e-4\", \"-1e-4\", \"0\", \"1e-4\", \"2e-4\"])\n",
    "cbar1.ax.tick_params(axis='y', which='major', pad=5)\n",
    "cbar1.set_label(r\"$\\partial PV / \\partial y$ (m$^{-2}$s$^{-1}$)\")\n",
    "\n",
    "\n",
    "plt.subplots_adjust(wspace=1, hspace=0.1, bottom=0.2, top=0.7, left=0.1, right=0.9)\n",
    "\n",
    "plt.savefig(\"figures/Figure_S3_PV.png\", dpi=600)"
   ]
  },
  {
   "cell_type": "code",
   "execution_count": 9,
   "id": "fe4b3edb-b328-497d-81eb-ad21c4f29941",
   "metadata": {},
   "outputs": [],
   "source": []
  },
  {
   "cell_type": "code",
   "execution_count": null,
   "id": "f7fb2db6-5695-4cf4-a5c5-de842c4899e2",
   "metadata": {},
   "outputs": [],
   "source": []
  }
 ],
 "metadata": {
  "kernelspec": {
   "display_name": "Python 3 (ipykernel)",
   "language": "python",
   "name": "python3"
  },
  "language_info": {
   "codemirror_mode": {
    "name": "ipython",
    "version": 3
   },
   "file_extension": ".py",
   "mimetype": "text/x-python",
   "name": "python",
   "nbconvert_exporter": "python",
   "pygments_lexer": "ipython3",
   "version": "3.10.17"
  }
 },
 "nbformat": 4,
 "nbformat_minor": 5
}
