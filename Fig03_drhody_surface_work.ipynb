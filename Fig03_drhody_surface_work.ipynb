{
 "cells": [
  {
   "cell_type": "code",
   "execution_count": 28,
   "id": "74cfc157-aba4-4eba-b5f4-e125ef36090b",
   "metadata": {},
   "outputs": [],
   "source": [
    "import numpy as np\n",
    "import xarray as xr\n",
    "import cmocean.cm as cmo\n",
    "import cartopy.crs as ccrs\n",
    "import cartopy.feature as cfeature\n",
    "import cartopy\n",
    "from glob import glob\n",
    "from matplotlib import pyplot as plt\n",
    "import matplotlib.colors as colors\n",
    "import matplotlib.path as mpath\n",
    "import matplotlib.ticker as mticker\n",
    "from matplotlib.patches import ConnectionPatch\n",
    "plt.rcParams['figure.facecolor'] = 'white'\n",
    "%config InlineBackend.print_figure_kwargs = {'bbox_inches': None}"
   ]
  },
  {
   "cell_type": "code",
   "execution_count": 2,
   "id": "62bfa915-84b1-4d15-88a1-2304a1e7ab91",
   "metadata": {},
   "outputs": [],
   "source": [
    "def prepro(ds):\n",
    "    return ds.isel(y=slice(500, None))"
   ]
  },
  {
   "cell_type": "code",
   "execution_count": 4,
   "id": "0a2b872a-bf07-47b6-b72e-f380d73b9509",
   "metadata": {},
   "outputs": [],
   "source": [
    "def calc_dy(da):\n",
    "    ddy = xr.Dataset(coords={\"deptht\": da.deptht, \n",
    "                     \"diag\": 0.5 * (da.diag.values[0:-1] + da.diag.values[1::])})\n",
    "    R = 6371000.\n",
    "    dlon = np.radians(da.nav_lon.values[1::]) - np.radians(da.nav_lon.values[0:-1])\n",
    "    lat1 = np.radians(da.nav_lat.values[0:-1])\n",
    "    lat2 = np.radians(da.nav_lat.values[1::])\n",
    "    dlat = lat2 - lat1\n",
    "    a = ((np.sin(dlat / 2.) ** 2.) + np.cos(lat1) * np.cos(lat2) * (np.sin(dlon / 2.) ** 2.))\n",
    "    c = 2 * np.arcsin(np.sqrt(a))\n",
    "    dy = R * c * 1e3\n",
    "    ddy = ddy.assign_coords({\"dy\": (\"diag\", dy)})\n",
    "    ddy = ddy.assign_coords({\"y\": (\"diag\", np.cumsum(dy))})\n",
    "    ddy[\"drhody\"] = ((\"deptht\", \"diag\"), (da.values[:, 1::] - da.values[:, 0:-1]) / dy)\n",
    "    ddy = ddy.assign_coords({\"nav_lon\": (\"diag\", 0.5 * (da.nav_lon.values[0:-1] + da.nav_lon.values[1::]))})\n",
    "    ddy = ddy.assign_coords({\"nav_lat\": (\"diag\", 0.5 * (da.nav_lat.values[0:-1] + da.nav_lat.values[1::]))})\n",
    "    return ddy"
   ]
  },
  {
   "cell_type": "code",
   "execution_count": null,
   "id": "ddfd2fba-48eb-43ce-a4d9-31ae70d630ea",
   "metadata": {},
   "outputs": [],
   "source": [
    "def latitude_labels(ax, ds):    \n",
    "    labels = [int(item._x) for item in ax.get_xticklabels()]\n",
    "    labels_coord = [np.round(ds.nav_lat.isel(diag=label).values) for label in labels ]\n",
    "    for il in range(0,len(labels)):\n",
    "        if labels[il] % 200:\n",
    "            labels_coord[il]=''\n",
    "    ax.set_xticklabels(labels_coord)"
   ]
  },
  {
   "cell_type": "code",
   "execution_count": 5,
   "id": "47016d37-6398-49fa-b258-a3b5ab996f60",
   "metadata": {},
   "outputs": [],
   "source": [
    "grid_files = [\"/data0/project/drakkar/CONFIGS/CREG12.L75/GRID/CREG12.L75-REF08_mask.nc\", \n",
    "              \"/data0/project/drakkar/CONFIGS/CREG12.L75/GRID/CREG12.L75-REF08_mesh_hgr.nc\",\n",
    "              \"/data0/project/drakkar/CONFIGS/CREG12.L75/GRID/CREG12.L75-REF08_mesh_zgr.nc\"]"
   ]
  },
  {
   "cell_type": "code",
   "execution_count": 7,
   "id": "85acf116-b6a6-43a7-a29d-5054a5101f55",
   "metadata": {},
   "outputs": [],
   "source": [
    "grid = xr.open_mfdataset(grid_files, parallel=True, preprocess=prepro)"
   ]
  },
  {
   "cell_type": "code",
   "execution_count": 8,
   "id": "879b2890-c4da-4ceb-b480-99e6e479d3c8",
   "metadata": {},
   "outputs": [],
   "source": [
    "ice = xr.open_mfdataset('/data0/project/drakkar/USERS/jrieck/transects/sithic_transect_0.nc')\n",
    "iceREF = ice.sithic_ref_t0.mean(\"time_counter\")\n",
    "iceFUT = ice.sithic_fut_t0.mean(\"time_counter\")\n",
    "rho = xr.open_mfdataset(\"/data0/project/drakkar/USERS/jrieck/transects/density_transect_0.nc\")\n",
    "densityREF = rho.rhop_sig0_ref_t0.mean(\"time_counter\")\n",
    "densityFUT = rho.rhop_sig0_fut_t0.mean(\"time_counter\")"
   ]
  },
  {
   "cell_type": "code",
   "execution_count": 9,
   "id": "0db1f04b-07b0-4e40-bb4a-22b22fa15887",
   "metadata": {},
   "outputs": [
    {
     "name": "stderr",
     "output_type": "stream",
     "text": [
      "/tmp/ipykernel_3483/4030930838.py:14: RuntimeWarning: invalid value encountered in divide\n",
      "  ddy[\"drhody\"] = ((\"deptht\", \"diag\"), (da.values[:, 1::] - da.values[:, 0:-1]) / dy)\n"
     ]
    }
   ],
   "source": [
    "drhodyREF = calc_dy(densityREF)\n",
    "drhodyFUT = calc_dy(densityFUT)"
   ]
  },
  {
   "cell_type": "code",
   "execution_count": 10,
   "id": "ec8be730-2c26-4ee3-9e8d-c4211a975160",
   "metadata": {},
   "outputs": [],
   "source": [
    "ww_data_filesREF = sorted(glob(\"/data0/project/drakkar/USERS/jrieck/CREG12.L75-REF08-windwork/\" \n",
    "                                + \"/CREG12.L75-REF08_clim*.nc\"))\n",
    "ww_data_filesFUT = sorted(glob(\"/data0/project/drakkar/USERS/jrieck/CREG12.L75-FUT08-windwork\" \n",
    "                                + \"/CREG12.L75-FUT08_clim*.nc\"))\n",
    "psi_data_files = sorted(glob(\"/data0/project/drakkar/USERS/jrieck/stream_function.nc\"))"
   ]
  },
  {
   "cell_type": "code",
   "execution_count": 11,
   "id": "cf9796db-471c-4843-950e-b504c41e7662",
   "metadata": {},
   "outputs": [],
   "source": [
    "wwREF = xr.open_mfdataset(ww_data_filesREF, parallel=True)\n",
    "wwFUT = xr.open_mfdataset(ww_data_filesFUT, parallel=True)\n",
    "psi = xr.open_mfdataset(psi_data_files, parallel=True).isel(y=slice(300, None))"
   ]
  },
  {
   "cell_type": "code",
   "execution_count": 12,
   "id": "5b07d3f5-16bf-4164-9fbf-e6a58a2e0d10",
   "metadata": {},
   "outputs": [],
   "source": [
    "psiREFplot = psi.Streamfunction_REF.where(psi.Streamfunction_REF!=0).compute()\n",
    "psiREFplot[632:634, 806] = np.nan\n",
    "psiREFplot[805:807, 766:768] = np.nan\n",
    "psiFUTplot = psi.Streamfunction_FUT.where(psi.Streamfunction_FUT!=0).compute()\n",
    "psiFUTplot[554:558, 760:830] = np.nan\n",
    "psiFUTplot[654:656, 760:830] = np.nan\n",
    "psiFUTplot[741:743, 760:830] = np.nan\n",
    "psiFUTplot[791, 760:830] = np.nan\n",
    "psiFUTplot[811, 760:830] = np.nan\n",
    "psiDIFFplot = (psiFUTplot - psiREFplot).compute()\n",
    "psiDIFFplot[746, 760:830] = np.nan\n",
    "psiDIFFplot[797, 760:830] = np.nan\n",
    "psiDIFFplot[818, 760:830] = np.nan"
   ]
  },
  {
   "cell_type": "code",
   "execution_count": 13,
   "id": "6f3c892a-4334-4b6e-908b-c4b3ce10d9e0",
   "metadata": {},
   "outputs": [],
   "source": [
    "totREFu = wwREF.sozotwot.mean(\"time_counter\").compute()\n",
    "totREFv = wwREF.sometwot.mean(\"time_counter\").compute()\n",
    "totFUTu = wwFUT.sozotwot.mean(\"time_counter\").compute()\n",
    "totFUTv = wwFUT.sometwot.mean(\"time_counter\").compute()\n",
    "totDIFFu = totFUTu - totREFu\n",
    "totDIFFv = totFUTv - totREFv"
   ]
  },
  {
   "cell_type": "code",
   "execution_count": 14,
   "id": "ba3ed0e0-e1e7-493a-8aba-f5d3fdaa5f76",
   "metadata": {},
   "outputs": [],
   "source": [
    "totREF = totREFu + totREFv\n",
    "totFUT = totFUTu + totFUTv\n",
    "totDIFF = totFUT - totREF"
   ]
  },
  {
   "cell_type": "code",
   "execution_count": 15,
   "id": "fee02a10-3e3f-426c-88f2-4b4d35548a50",
   "metadata": {},
   "outputs": [],
   "source": [
    "for ds in [totREFu, totFUTu, totDIFFu,\n",
    "           totREFv, totFUTv, totDIFFv, totREF, totFUT, totDIFF]:\n",
    "    ds = ds.assign_coords({\"nav_lon\": grid.nav_lon, \"nav_lat\": grid.nav_lat})\n",
    "\n",
    "for ds in [psiREFplot, psiFUTplot]:\n",
    "    ds = ds.assign_coords({\"nav_lon\": grid.nav_lon.isel(y=slice(300, None)), \n",
    "                           \"nav_lat\": grid.nav_lat.isel(y=slice(300, None))})"
   ]
  },
  {
   "cell_type": "code",
   "execution_count": 16,
   "id": "fd6a7e95-f0ed-4d0b-a7b7-6db7090d60e6",
   "metadata": {},
   "outputs": [],
   "source": [
    "def map_config(ax):\n",
    "    ax.set_extent([-180, 180, 67, 90], ccrs.PlateCarree())\n",
    "    ax.add_feature(cfeature.LAND, facecolor=\"silver\")\n",
    "    gl = ax.gridlines(crs=ccrs.PlateCarree(), draw_labels=False, y_inline=True,\n",
    "                     linewidth=1, color='gray', alpha=0.7, linestyle='--')\n",
    "    plt.draw()\n",
    "    return"
   ]
  },
  {
   "cell_type": "code",
   "execution_count": 17,
   "id": "1ae3fcf0-a817-483f-8477-43fe82668f1c",
   "metadata": {},
   "outputs": [],
   "source": [
    "proj = ccrs.RotatedPole(pole_longitude=180, pole_latitude=40, central_rotated_longitude=0)"
   ]
  },
  {
   "cell_type": "code",
   "execution_count": 18,
   "id": "756a4439-089f-4e0d-9c14-dea8b4bb8ebb",
   "metadata": {},
   "outputs": [],
   "source": [
    "qs = 30\n",
    "x = totREF.nav_lon.values[0::qs, 0::qs]\n",
    "y = totREF.nav_lat.values[0::qs, 0::qs]"
   ]
  },
  {
   "cell_type": "code",
   "execution_count": 19,
   "id": "378f09f2-3476-4a42-887f-5fa040364956",
   "metadata": {},
   "outputs": [],
   "source": [
    "totREFuNORM = totREFu / ((totREFu**2 + totREFv**2)**0.5)\n",
    "totREFvNORM = totREFv / ((totREFu**2 + totREFv**2)**0.5)\n",
    "totFUTuNORM = totFUTu / ((totFUTu**2 + totFUTv**2)**0.5)\n",
    "totFUTvNORM = totFUTv / ((totFUTu**2 + totFUTv**2)**0.5)\n",
    "totDIFFuNORM = totDIFFu / ((totDIFFu**2 + totDIFFv**2)**0.5)\n",
    "totDIFFvNORM = totDIFFv / ((totDIFFu**2 + totDIFFv**2)**0.5)"
   ]
  },
  {
   "cell_type": "code",
   "execution_count": null,
   "id": "6748c5a4-23df-486f-81e6-cc479d151dfe",
   "metadata": {
    "tags": []
   },
   "outputs": [],
   "source": [
    "fig = plt.figure(figsize=(10, 6))\n",
    "gs = fig.add_gridspec(4, 24, height_ratios=[0.5, 0.2, 1, 0.05])\n",
    "\n",
    "ax01 = fig.add_subplot(gs[0, 0:8])\n",
    "ax02 = fig.add_subplot(gs[0, 8:16])\n",
    "ax03 = fig.add_subplot(gs[0, 16:24])\n",
    "ax1 = fig.add_subplot(gs[2, 0:8], projection=proj)\n",
    "ax2 = fig.add_subplot(gs[2, 8:16], projection=proj)\n",
    "ax3 = fig.add_subplot(gs[2, 16:24], projection=proj)\n",
    "axcb1 = fig.add_subplot(gs[3, 2:14])\n",
    "axcb2 = fig.add_subplot(gs[3, 17:23])\n",
    "\n",
    "d1 = drhodyREF.drhody.plot(x='diag', yincrease=False, ax=ax01, rasterized=True,\n",
    "                           add_colorbar=False, vmin=-8e-9, vmax=8e-9, cmap=cmo.balance)\n",
    "cs1 = densityREF.where(densityREF> 1000).plot.contour(x='diag', yincrease=False, ax=ax01, \n",
    "                                                      vmin=1020, vmax=1030,\n",
    "                                                      cmap=cmo.dense, levels=[1024,1026,1027])\n",
    "ax01.clabel(cs1, inline=1, fontsize=10)\n",
    "ice_ax1 = ax01.inset_axes([0, 1, 1, 0.2])\n",
    "ice_ax1.fill_between(iceREF.diag, iceREF * 0, iceREF, alpha=0.5)\n",
    "\n",
    "d2 = drhodyFUT.drhody.plot(x='diag', yincrease=False, ax=ax02, rasterized=True,\n",
    "                           add_colorbar=False, vmin=-8e-9, vmax=8e-9, cmap=cmo.balance)\n",
    "cs2 = densityFUT.where(densityFUT>1000).plot.contour(x='diag', yincrease=False, ax=ax02, \n",
    "                                                      vmin=1020, vmax=1030,\n",
    "                                                      cmap=cmo.dense, levels=[1024,1026,1027])\n",
    "ax02.clabel(cs2, inline=1, fontsize=10)\n",
    "ice_ax2 = ax02.inset_axes([0, 1, 1, 0.2])\n",
    "ice_ax2.fill_between(iceFUT.diag, iceFUT * 0, iceFUT, alpha=0.5)\n",
    "\n",
    "d3 = (drhodyFUT - drhodyREF).drhody.plot(x='diag', yincrease=False, ax=ax03, rasterized=True,\n",
    "                                         add_colorbar=False, vmin=-8e-9, vmax=8e-9, cmap=cmo.balance)\n",
    "\n",
    "t1 = totREF.plot(x='nav_lon', y='nav_lat', cmap=cmo.balance, \n",
    "                  vmin=-2e-6, vmax=2e-6,\n",
    "                  ax=ax1, transform=ccrs.PlateCarree(), rasterized=True, \n",
    "                  zorder=1, add_colorbar=False)\n",
    "t2 = totFUT.plot(x='nav_lon', y='nav_lat', cmap=cmo.balance, \n",
    "                  vmin=-2e-6, vmax=2e-6,\n",
    "                  ax=ax2, transform=ccrs.PlateCarree(), rasterized=True, \n",
    "                  zorder=1, add_colorbar=False)\n",
    "t3 = totDIFF.plot(x='nav_lon', y='nav_lat', cmap=cmo.curl, \n",
    "                  vmin=-1e-6, vmax=1e-6,\n",
    "                  ax=ax3, transform=ccrs.PlateCarree(), rasterized=True, \n",
    "                  zorder=1, add_colorbar=False)\n",
    "\n",
    "p1 = psiREFplot.plot.contour(x='nav_lon', y='nav_lat', levels=[-4, -2, 0, 2, 4], \n",
    "                             colors=\"ghostwhite\", linewidths=2,\n",
    "                             ax=ax1, transform=ccrs.PlateCarree(), zorder=2)\n",
    "p1 = psiREFplot.plot.contour(x='nav_lon', y='nav_lat', levels=[-4, -2, 0, 2, 4], \n",
    "                             colors=\"rebeccapurple\", linewidths=1,\n",
    "                             ax=ax1, transform=ccrs.PlateCarree(), zorder=3)\n",
    "p2 = psiFUTplot.plot.contour(x='nav_lon', y='nav_lat', levels=[-4, -2, 0, 2, 4], \n",
    "                             colors=\"ghostwhite\", linewidths=2,\n",
    "                             ax=ax2, transform=ccrs.PlateCarree(), zorder=2)\n",
    "p2 = psiFUTplot.plot.contour(x='nav_lon', y='nav_lat', levels=[-4, -2, 0, 2, 4], \n",
    "                             colors=\"rebeccapurple\", linewidths=1,\n",
    "                             ax=ax2, transform=ccrs.PlateCarree(), zorder=3)\n",
    "p3 = psiDIFFplot.plot.contour(x='nav_lon', y='nav_lat', levels=[-4, -2, 0, 2, 4], \n",
    "                              colors=\"ghostwhite\", linewidths=2,\n",
    "                              ax=ax3, transform=ccrs.PlateCarree(), zorder=2)\n",
    "p3 = psiDIFFplot.plot.contour(x='nav_lon', y='nav_lat', levels=[-4, -2, 0, 2, 4], \n",
    "                              colors=\"rebeccapurple\", linewidths=1,\n",
    "                              ax=ax3, transform=ccrs.PlateCarree(), zorder=3)\n",
    "\n",
    "gl = [map_config(ax) for ax in [ax1, ax2, ax3]];\n",
    "    \n",
    "[ax.plot(drhodyREF.nav_lon, drhodyREF.nav_lat, transform=ccrs.PlateCarree(), color=\"dimgray\", linewidth=2, zorder=6) \n",
    " for ax in [ax1, ax2, ax3]]\n",
    "[ax.plot(drhodyREF.nav_lon, drhodyREF.nav_lat, transform=ccrs.PlateCarree(), color=\"gold\", zorder=7) \n",
    " for ax in [ax1, ax2, ax3]]\n",
    "xd1, yd1 = proj.transform_point(drhodyREF.nav_lon[0], drhodyREF.nav_lat[0], ccrs.Geodetic())\n",
    "xd2, yd2 = proj.transform_point(0, 90, ccrs.Geodetic())\n",
    "xd3, yd3 = proj.transform_point(drhodyREF.nav_lon[-1], drhodyREF.nav_lat[-1], ccrs.Geodetic())\n",
    "xa1 = 0; ya1 = 370\n",
    "xa2 = int((drhodyREF.nav_lat - 90).argmax()); ya2 = 370\n",
    "xa3 = len(drhodyREF.diag); ya3 = 370\n",
    "for axx1, axx2 in zip([ax01, ax02, ax03], [ax1, ax2, ax3]):\n",
    "    conad1 = ConnectionPatch(xyA=[xa1, ya1], xyB=[xd1, yd1], coordsA=\"data\", coordsB=\"data\",\n",
    "                             axesA=axx1, axesB=axx2, color=\"goldenrod\", linestyle=\"--\")\n",
    "    conad2 = ConnectionPatch(xyA=[xa2, ya2], xyB=[xd2, yd2], coordsA=\"data\", coordsB=\"data\",\n",
    "                             axesA=axx1, axesB=axx2, color=\"goldenrod\", linestyle=\"--\")\n",
    "    conad3 = ConnectionPatch(xyA=[xa3, ya3], xyB=[xd3, yd3], coordsA=\"data\", coordsB=\"data\",\n",
    "                             axesA=axx1, axesB=axx2, color=\"goldenrod\", linestyle=\"--\")\n",
    "    axx2.add_artist(conad1)\n",
    "    axx2.add_artist(conad2)\n",
    "    axx2.add_artist(conad3)\n",
    "\n",
    "[ax.set_xlim(0, len(drhodyREF.diag)) for ax in [ax01, ax02, ax03]]\n",
    "[ax.set_ylim(370, 0) for ax in [ax01, ax02, ax03]]\n",
    "[ax.set_xlim((0, max(iceREF.diag))) for ax in [ice_ax1, ice_ax2]]\n",
    "[ax.set_ylim((0, 3)) for ax in [ice_ax1, ice_ax2]]\n",
    "[ax.set_yticks([2.5]) for ax in [ice_ax1, ice_ax2]]\n",
    "[ax.set_xticks(np.arange(0, len(drhodyREF.diag), 100)) for ax in [ax01, ax02, ax03]]\n",
    "[ax.xaxis.set_ticklabels([]) for ax in [ice_ax1, ice_ax2]]\n",
    "[ax.yaxis.set_ticklabels([]) for ax in [ax02, ax03, ice_ax2]]\n",
    "[ax.set_ylabel(\"\") for ax in [ax02, ax03]]\n",
    "ax01.set_ylabel(\"depth (m)\")\n",
    "ice_ax1.set_ylabel(\"m\")\n",
    "[ax.set_xlabel(r\"latitude ($^{\\circ}$North)\") for ax in [ax01, ax02, ax03]]\n",
    "\n",
    "[latitude_labels(ax, drhodyREF) for ax in [ax01, ax02, ax03]]\n",
    "\n",
    "ice_ax1.set_title(\"REF (1996-2015)\", fontsize=16, fontweight=\"bold\", pad=10)\n",
    "ice_ax2.set_title(\"FUT (2051-2070)\", fontsize=16, fontweight=\"bold\", pad=10)\n",
    "ax03.set_title(\"FUT - REF\", fontsize=16, fontweight=\"bold\", pad=25)\n",
    "\n",
    "[ax.text(-15, -100, t, fontsize=12) \n",
    " for ax, t in zip([ax01, ax02, ax03], [\"(a)\", \"(b)\", \"(c)\"])]\n",
    "[ax.text(-143, 65, t, fontsize=12, transform=ccrs.PlateCarree(), backgroundcolor=\"whitesmoke\") \n",
    " for ax, t in zip([ax1, ax2, ax3], \n",
    "                  [\"(d)\", \"(e)\", \"(f)\"])]\n",
    "\n",
    "cb1 = plt.colorbar(t1, cax=axcb1, orientation=\"horizontal\", extend=\"both\")\n",
    "axcb1.set_xticks([-2e-6, -1.5e-6, -1e-6, -0.5e-6, 0, 0.5e-6, 1e-6, 1.5e-6, 2e-6])\n",
    "axcb1.set_xticklabels([\"-2.0e-6\", \"-1.5e-6\", \"-1.0e-6\", \"-0.5e-6\", \"0\",\n",
    "                       \"0.5e-6\", \"1.0e-6\", \"1.5e-6\", \"2.0e-6\"], rotation=45, ha='center')\n",
    "axcb1.set_xlabel(r\"$\\overline{\\bf{\\tau \\cdot u}}$  (N$\\,$m$^{-1}$s$^{-1}$)\")\n",
    "cb2 = plt.colorbar(t3, cax=axcb2, orientation=\"horizontal\", extend=\"both\")\n",
    "axcb2.set_xticks([-1e-6, -0.5e-6, 0, 0.5e-6, 1e-6])\n",
    "axcb2.set_xticklabels([\"-1e-6\", \"-5e-7\", \"0\", \"5e-7\", \"1e-6\"], rotation=45, ha='center')\n",
    "axcb2.set_xlabel(r\"$\\overline{\\bf{\\tau \\cdot u}}$  (N$\\,$m$^{-1}$s$^{-1}$)\")\n",
    "\n",
    "cax = ax03.inset_axes([1.05, 0, 0.05, 1])\n",
    "cbar = plt.colorbar(d1, cax=cax,orientation='vertical')\n",
    "cbar.ax.tick_params(labelsize=12)\n",
    "cbar.set_label(r\"$\\partial \\rho / \\partial y$ (kg$\\,$m$^{-3}\\,\\,$m${^{-1}}$)\")\n",
    "\n",
    "for ax in [ax1, ax2, ax3]:\n",
    "    ax.text(-30, 85, r\"85$^{\\circ}$N\", transform=ccrs.PlateCarree(), ha=\"center\", fontsize=7)\n",
    "    ax.text(-31, 80, r\"80$^{\\circ}$N\", transform=ccrs.PlateCarree(), ha=\"center\", fontsize=7)\n",
    "    ax.text(-34, 75, r\"75$^{\\circ}$N\", transform=ccrs.PlateCarree(), ha=\"center\", fontsize=7)\n",
    "    ax.text(-37, 70, r\"70$^{\\circ}$N\", transform=ccrs.PlateCarree(), ha=\"center\", fontsize=7)\n",
    "    ax.text(-41, 65, r\"65$^{\\circ}$N\", transform=ccrs.PlateCarree(), ha=\"center\", fontsize=7)\n",
    "\n",
    "plt.subplots_adjust(wspace=1, hspace=0.2, bottom=0.18, top=0.87, left=0.1, right=0.9)\n",
    "\n",
    "plt.savefig(\"figures/Figure_3_grad_rho_psi_work.png\", dpi=600)"
   ]
  },
  {
   "cell_type": "code",
   "execution_count": null,
   "id": "29a8f0b9-0504-4a93-a9ca-e56a0ccd840c",
   "metadata": {},
   "outputs": [],
   "source": []
  }
 ],
 "metadata": {
  "kernelspec": {
   "display_name": "phyocean-2023.05",
   "language": "python",
   "name": "phyocean-2023.05"
  },
  "language_info": {
   "codemirror_mode": {
    "name": "ipython",
    "version": 3
   },
   "file_extension": ".py",
   "mimetype": "text/x-python",
   "name": "python",
   "nbconvert_exporter": "python",
   "pygments_lexer": "ipython3",
   "version": "3.10.11"
  }
 },
 "nbformat": 4,
 "nbformat_minor": 5
}
