{
 "cells": [
  {
   "cell_type": "code",
   "execution_count": 1,
   "id": "5fa607a3-8034-4776-8b7b-f936d147861e",
   "metadata": {},
   "outputs": [],
   "source": [
    "import numpy as np\n",
    "import xarray as xr\n",
    "from matplotlib import pyplot as plt\n",
    "plt.rcParams['figure.facecolor'] = 'white'\n",
    "import matplotlib.colors as colors\n",
    "import cmocean.cm as cmo\n",
    "from glob import glob\n",
    "%config InlineBackend.print_figure_kwargs = {'bbox_inches': None}"
   ]
  },
  {
   "cell_type": "code",
   "execution_count": 2,
   "id": "d545907b-171a-4ed3-a849-7c2328aba234",
   "metadata": {},
   "outputs": [],
   "source": [
    "def prepro(ds):\n",
    "    return ds.isel(y=slice(800, None))"
   ]
  },
  {
   "cell_type": "code",
   "execution_count": 3,
   "id": "eba15b43-22e9-4fb5-acf8-ef9d6caa9bce",
   "metadata": {},
   "outputs": [],
   "source": [
    "grid_files = [\"/data0/project/drakkar/CONFIGS/CREG12.L75/GRID/CREG12.L75-REF08_mask.nc\", \n",
    "              \"/data0/project/drakkar/CONFIGS/CREG12.L75/GRID/CREG12.L75-REF08_mesh_hgr.nc\",\n",
    "              \"/data0/project/drakkar/CONFIGS/CREG12.L75/GRID/CREG12.L75-REF08_mesh_zgr.nc\"]"
   ]
  },
  {
   "cell_type": "code",
   "execution_count": 4,
   "id": "262efc55-ea9f-4648-9f8f-ecaf84d14830",
   "metadata": {
    "tags": []
   },
   "outputs": [],
   "source": [
    "grid = xr.open_mfdataset(grid_files, parallel=True, preprocess=prepro)"
   ]
  },
  {
   "cell_type": "markdown",
   "id": "977c1018-e428-42e7-8928-d1c87585eaf5",
   "metadata": {
    "tags": []
   },
   "source": [
    "### Compute 5d work"
   ]
  },
  {
   "cell_type": "code",
   "execution_count": null,
   "id": "92b0aa19-d709-4b41-8606-fd6410c39411",
   "metadata": {},
   "outputs": [],
   "source": [
    "def calc_work(stress, ocean, uvt=\"u\"):\n",
    "    rho0 = 1025.\n",
    "    work = stress * ocean\n",
    "    if uvt == \"t\":\n",
    "        work_t = work.data\n",
    "    elif uvt == \"u\":\n",
    "        work_t = np.ones(np.shape(work)) * np.nan\n",
    "        work_t[:, :, 0:-1] = (work.data[:, :, 0:-1] \n",
    "                              + work.data[:, :, 1::]) / 2\n",
    "    elif uvt == \"v\":\n",
    "        work_t = np.ones(np.shape(work)) * np.nan\n",
    "        work_t[:, 0:-1, :] = (work.data[:, 0:-1, :] \n",
    "                              + work.data[:, 1::, :]) / 2\n",
    "    return (work_t / rho0)"
   ]
  },
  {
   "cell_type": "code",
   "execution_count": null,
   "id": "cf21c525-c401-40f3-bd20-0cc7c0cb4ade",
   "metadata": {},
   "outputs": [],
   "source": [
    "for y in np.arange(1996, 2016):\n",
    "    print(y)\n",
    "    gridU_data_filesREF = sorted(glob(\"/data0/project/drakkar/USERS/jrieck/CREG12.L75-REF08/\" + str(y) + \"/\"\n",
    "                                     + \"CREG12.L75-REF08_*.5d_gridU.nc\"))\n",
    "    gridV_data_filesREF = sorted(glob(\"/data0/project/drakkar/USERS/jrieck/CREG12.L75-REF08/\" + str(y) + \"/\"\n",
    "                                     + \"CREG12.L75-REF08_*.5d_gridV.nc\"))\n",
    "    gridT_data_filesREF = sorted(glob(\"/data0/project/drakkar/USERS/jrieck/CREG12.L75-REF08/\" + str(y) + \"/\"\n",
    "                                     + \"CREG12.L75-REF08_*.5d_gridT.nc\"))\n",
    "    icemod_data_filesREF = sorted(glob(\"/data0/project/drakkar/USERS/jrieck/CREG12.L75-REF08/\" + str(y) + \"/\"\n",
    "                                     + \"CREG12.L75-REF08_*.5d_icemod.nc\"))\n",
    "    UREF = xr.open_mfdataset(gridU_data_filesREF, parallel=True, preprocess=prepro)\n",
    "    VREF = xr.open_mfdataset(gridV_data_filesREF, parallel=True, preprocess=prepro)\n",
    "    TREF = xr.open_mfdataset(gridT_data_filesREF, parallel=True, preprocess=prepro)\n",
    "    IREF = xr.open_mfdataset(icemod_data_filesREF, parallel=True, preprocess=prepro)\n",
    "    lent = len(TREF.time_counter)\n",
    "    if lent == 72:\n",
    "        t = xr.cftime_range(start=TREF.time_counter.data[0], periods=73, freq=\"5D\", calendar=\"noleap\")\n",
    "        time = xr.DataArray(t, coords={\"time_counter\": t})\n",
    "        time.attrs = TREF.time_counter.attrs\n",
    "    else:\n",
    "        time = TREF.time_counter\n",
    "    ds_REF_T = xr.Dataset(coords={\"time_counter\": time, \n",
    "                                  \"nav_lat\": TREF.nav_lat,\"nav_lon\": TREF.nav_lon})\n",
    "    if lent == 72:\n",
    "        dummy = ((\"time_counter\", \"y\", \"x\"), np.zeros((len(time), len(TREF.y), len(TREF.x))))\n",
    "        ds_REF_T[\"sozotwot\"] = dummy\n",
    "        ds_REF_T[\"sozoiwot\"] = dummy\n",
    "        ds_REF_T[\"sozoowot\"] = dummy\n",
    "        ds_REF_T[\"sometwot\"] = dummy\n",
    "        ds_REF_T[\"someiwot\"] = dummy\n",
    "        ds_REF_T[\"someowot\"] = dummy\n",
    "        ds_REF_T[\"sozotwot\"][0:lent, :, :] = calc_work(UREF.sozotaux, \n",
    "                                                 UREF.vozocrtx.isel(depthu=0), uvt=\"u\")\n",
    "        ds_REF_T[\"sozoiwot\"][0:lent, :, :] = calc_work(UREF.utau_iceoce * IREF.siconc, \n",
    "                                                 UREF.vozocrtx.isel(depthu=0), uvt=\"u\")\n",
    "        ds_REF_T[\"sozoowot\"][0:lent, :, :] = calc_work(UREF.utau_atmoce * (1 - IREF.siconc), \n",
    "                                                 UREF.vozocrtx.isel(depthu=0), uvt=\"u\")\n",
    "        ds_REF_T[\"sometwot\"][0:lent, :, :] = calc_work(VREF.sometauy, \n",
    "                                                 VREF.vomecrty.isel(depthv=0), uvt=\"v\")\n",
    "        ds_REF_T[\"someiwot\"][0:lent, :, :] = calc_work(VREF.vtau_iceoce * IREF.siconc, \n",
    "                                                 VREF.vomecrty.isel(depthv=0), uvt=\"v\")\n",
    "        ds_REF_T[\"someowot\"][0:lent, :, :] = calc_work(VREF.vtau_atmoce * (1 - IREF.siconc), \n",
    "                                                 VREF.vomecrty.isel(depthv=0), uvt=\"v\")\n",
    "        ds_REF_T[\"sozotwot\"][lent, :, :] = ds_REF_T[\"sozotwot\"][lent-1, :, :].data\n",
    "        ds_REF_T[\"sozoiwot\"][lent, :, :] = ds_REF_T[\"sozoiwot\"][lent-1, :, :].data\n",
    "        ds_REF_T[\"sozoowot\"][lent, :, :] = ds_REF_T[\"sozoowot\"][lent-1, :, :].data\n",
    "        ds_REF_T[\"sometwot\"][lent, :, :] = ds_REF_T[\"sometwot\"][lent-1, :, :].data\n",
    "        ds_REF_T[\"someiwot\"][lent, :, :] = ds_REF_T[\"someiwot\"][lent-1, :, :].data\n",
    "        ds_REF_T[\"someowot\"][lent, :, :] = ds_REF_T[\"someowot\"][lent-1, :, :].data\n",
    "    else:    \n",
    "        ds_REF_T[\"sozotwot\"] = ((\"time_counter\", \"y\", \"x\"), calc_work(UREF.sozotaux, \n",
    "                                                              UREF.vozocrtx.isel(depthu=0), uvt=\"u\"))\n",
    "        ds_REF_T[\"sozoiwot\"] = ((\"time_counter\", \"y\", \"x\"), calc_work(UREF.utau_iceoce * IREF.siconc, \n",
    "                                                              UREF.vozocrtx.isel(depthu=0), uvt=\"u\"))\n",
    "        ds_REF_T[\"sozoowot\"] = ((\"time_counter\", \"y\", \"x\"), calc_work(UREF.utau_atmoce * (1 - IREF.siconc), \n",
    "                                                              UREF.vozocrtx.isel(depthu=0), uvt=\"u\"))\n",
    "        ds_REF_T[\"sometwot\"] = ((\"time_counter\", \"y\", \"x\"), calc_work(VREF.sometauy, \n",
    "                                                              VREF.vomecrty.isel(depthv=0), uvt=\"v\"))\n",
    "        ds_REF_T[\"someiwot\"] = ((\"time_counter\", \"y\", \"x\"), calc_work(VREF.vtau_iceoce * IREF.siconc, \n",
    "                                                              VREF.vomecrty.isel(depthv=0), uvt=\"v\"))\n",
    "        ds_REF_T[\"someowot\"] = ((\"time_counter\", \"y\", \"x\"), calc_work(VREF.vtau_atmoce * (1 - IREF.siconc), \n",
    "                                                              VREF.vomecrty.isel(depthv=0), uvt=\"v\"))       \n",
    "    ds_REF_T.to_netcdf(\"/data0/project/drakkar/USERS/jrieck/CREG12.L75-REF08-windwork/\"\n",
    "                       + \"CREG12.L75-REF08_y\" + str(y) + \".5d_windwork.nc\")"
   ]
  },
  {
   "cell_type": "code",
   "execution_count": null,
   "id": "01cc63c7-b835-4030-8fc2-6854c5a3a2b9",
   "metadata": {},
   "outputs": [],
   "source": [
    "for y in np.arange(2051, 2071):\n",
    "    print(y)\n",
    "    gridU_data_filesFUT = sorted(glob(\"/data0/project/drakkar/USERS/jrieck/CREG12.L75-FUT08/\" + str(y) + \"/\"\n",
    "                                     + \"CREG12.L75-FUT08_*.5d_gridU.nc\"))\n",
    "    gridV_data_filesFUT = sorted(glob(\"/data0/project/drakkar/USERS/jrieck/CREG12.L75-FUT08/\" + str(y) + \"/\"\n",
    "                                     + \"CREG12.L75-FUT08_*.5d_gridV.nc\"))\n",
    "    gridT_data_filesFUT = sorted(glob(\"/data0/project/drakkar/USERS/jrieck/CREG12.L75-FUT08/\" + str(y) + \"/\"\n",
    "                                     + \"CREG12.L75-FUT08_*.5d_gridT.nc\"))\n",
    "    icemod_data_filesFUT = sorted(glob(\"/data0/project/drakkar/USERS/jrieck/CREG12.L75-FUT08/\" + str(y) + \"/\"\n",
    "                                     + \"CREG12.L75-FUT08_*.5d_icemod.nc\"))\n",
    "    UFUT = xr.open_mfdataset(gridU_data_filesFUT, parallel=True, preprocess=prepro)\n",
    "    VFUT = xr.open_mfdataset(gridV_data_filesFUT, parallel=True, preprocess=prepro)\n",
    "    TFUT = xr.open_mfdataset(gridT_data_filesFUT, parallel=True, preprocess=prepro)\n",
    "    IFUT = xr.open_mfdataset(icemod_data_filesFUT, parallel=True, preprocess=prepro)\n",
    "    lent = len(TFUT.time_counter)\n",
    "    if lent == 72:\n",
    "        t = xr.cftime_range(start=TFUT.time_counter.data[0], periods=73, freq=\"5D\", calendar=\"noleap\")\n",
    "        time = xr.DataArray(t, coords={\"time_counter\": t})\n",
    "        time.attrs = TFUT.time_counter.attrs\n",
    "    else:\n",
    "        time = TFUT.time_counter\n",
    "    ds_FUT_T = xr.Dataset(coords={\"time_counter\": time, \n",
    "                                  \"nav_lat\": TFUT.nav_lat,\"nav_lon\": TFUT.nav_lon})\n",
    "    if lent == 72:\n",
    "        dummy = ((\"time_counter\", \"y\", \"x\"), np.zeros((len(time), len(TFUT.y), len(TFUT.x))))\n",
    "        ds_FUT_T[\"sozotwot\"] = dummy\n",
    "        ds_FUT_T[\"sozoiwot\"] = dummy\n",
    "        ds_FUT_T[\"sozoowot\"] = dummy\n",
    "        ds_FUT_T[\"sometwot\"] = dummy\n",
    "        ds_FUT_T[\"someiwot\"] = dummy\n",
    "        ds_FUT_T[\"someowot\"] = dummy\n",
    "        ds_FUT_T[\"sozotwot\"][0:lent, :, :] = calc_work(UFUT.sozotaux, \n",
    "                                                 UFUT.vozocrtx.isel(depthu=0), uvt=\"u\")\n",
    "        ds_FUT_T[\"sozoiwot\"][0:lent, :, :] = calc_work(UFUT.utau_iceoce * IFUT.siconc, \n",
    "                                                 UFUT.vozocrtx.isel(depthu=0), uvt=\"u\")\n",
    "        ds_FUT_T[\"sozoowot\"][0:lent, :, :] = calc_work(UFUT.utau_atmoce * (1 - IFUT.siconc), \n",
    "                                                 UFUT.vozocrtx.isel(depthu=0), uvt=\"u\")\n",
    "        ds_FUT_T[\"sometwot\"][0:lent, :, :] = calc_work(VFUT.sometauy, \n",
    "                                                 VFUT.vomecrty.isel(depthv=0), uvt=\"v\")\n",
    "        ds_FUT_T[\"someiwot\"][0:lent, :, :] = calc_work(VFUT.vtau_iceoce * IFUT.siconc, \n",
    "                                                 VFUT.vomecrty.isel(depthv=0), uvt=\"v\")\n",
    "        ds_FUT_T[\"someowot\"][0:lent, :, :] = calc_work(VFUT.vtau_atmoce * (1 - IFUT.siconc), \n",
    "                                                 VFUT.vomecrty.isel(depthv=0), uvt=\"v\")\n",
    "        ds_FUT_T[\"sozotwot\"][lent, :, :] = ds_FUT_T[\"sozotwot\"][lent-1, :, :].data\n",
    "        ds_FUT_T[\"sozoiwot\"][lent, :, :] = ds_FUT_T[\"sozoiwot\"][lent-1, :, :].data\n",
    "        ds_FUT_T[\"sozoowot\"][lent, :, :] = ds_FUT_T[\"sozoowot\"][lent-1, :, :].data\n",
    "        ds_FUT_T[\"sometwot\"][lent, :, :] = ds_FUT_T[\"sometwot\"][lent-1, :, :].data\n",
    "        ds_FUT_T[\"someiwot\"][lent, :, :] = ds_FUT_T[\"someiwot\"][lent-1, :, :].data\n",
    "        ds_FUT_T[\"someowot\"][lent, :, :] = ds_FUT_T[\"someowot\"][lent-1, :, :].data\n",
    "    else:    \n",
    "        ds_FUT_T[\"sozotwot\"] = ((\"time_counter\", \"y\", \"x\"), calc_work(UFUT.sozotaux, \n",
    "                                                              UFUT.vozocrtx.isel(depthu=0), uvt=\"u\"))\n",
    "        ds_FUT_T[\"sozoiwot\"] = ((\"time_counter\", \"y\", \"x\"), calc_work(UFUT.utau_iceoce * IFUT.siconc, \n",
    "                                                              UFUT.vozocrtx.isel(depthu=0), uvt=\"u\"))\n",
    "        ds_FUT_T[\"sozoowot\"] = ((\"time_counter\", \"y\", \"x\"), calc_work(UFUT.utau_atmoce * (1 - IFUT.siconc), \n",
    "                                                              UFUT.vozocrtx.isel(depthu=0), uvt=\"u\"))\n",
    "        ds_FUT_T[\"sometwot\"] = ((\"time_counter\", \"y\", \"x\"), calc_work(VFUT.sometauy, \n",
    "                                                              VFUT.vomecrty.isel(depthv=0), uvt=\"v\"))\n",
    "        ds_FUT_T[\"someiwot\"] = ((\"time_counter\", \"y\", \"x\"), calc_work(VFUT.vtau_iceoce * IFUT.siconc, \n",
    "                                                              VFUT.vomecrty.isel(depthv=0), uvt=\"v\"))\n",
    "        ds_FUT_T[\"someowot\"] = ((\"time_counter\", \"y\", \"x\"), calc_work(VFUT.vtau_atmoce * (1 - IFUT.siconc), \n",
    "                                                              VFUT.vomecrty.isel(depthv=0), uvt=\"v\"))\n",
    "    ds_FUT_T.to_netcdf(\"/data0/project/drakkar/USERS/jrieck/CREG12.L75-FUT08-windwork/\"\n",
    "                       + \"CREG12.L75-FUT08_y\" + str(y) + \".5d_windwork.nc\")"
   ]
  },
  {
   "cell_type": "markdown",
   "id": "58584324-de64-463b-8a8e-0a6cbcf77aca",
   "metadata": {},
   "source": [
    "### Compute climatological seasonal cycle"
   ]
  },
  {
   "cell_type": "code",
   "execution_count": 24,
   "id": "fec4411c-b743-4b27-902b-7a0dc8ef9e19",
   "metadata": {},
   "outputs": [],
   "source": [
    "def pre(ds):\n",
    "    try:\n",
    "        ds = ds.drop(\"time_centered\")\n",
    "    except:\n",
    "        ds = ds\n",
    "    return ds"
   ]
  },
  {
   "cell_type": "code",
   "execution_count": 25,
   "id": "2a361407-2314-466f-8205-0127ae2402ee",
   "metadata": {},
   "outputs": [],
   "source": [
    "REFww = xr.open_mfdataset(\"/data0/project/drakkar/USERS/jrieck/CREG12.L75-REF08-windwork/\"\n",
    "                          + \"CREG12.L75-REF08_y????.5d_windwork.nc\", preprocess=pre)\n",
    "FUTww = xr.open_mfdataset(\"/data0/project/drakkar/USERS/jrieck/CREG12.L75-FUT08-windwork/\"\n",
    "                          + \"CREG12.L75-FUT08_y????.5d_windwork.nc\", preprocess=pre)"
   ]
  },
  {
   "cell_type": "code",
   "execution_count": 26,
   "id": "9903c884-2338-4913-9542-e6c78bcdc045",
   "metadata": {},
   "outputs": [],
   "source": [
    "REFsc = REFww.groupby(\"time_counter.dayofyear\").mean(\"time_counter\")\n",
    "FUTsc = FUTww.groupby(\"time_counter.dayofyear\").mean(\"time_counter\")"
   ]
  },
  {
   "cell_type": "code",
   "execution_count": 27,
   "id": "4bdafdf7-7d00-4430-addc-51b6ebbefcef",
   "metadata": {},
   "outputs": [],
   "source": [
    "icemod_data_filesREF = sorted(glob(\"/data0/project/drakkar/USERS/jrieck/CREG12.L75-REF08/2006/\"\n",
    "                                 + \"CREG12.L75-REF08_*.5d_icemod.nc\"))\n",
    "IREF = xr.open_mfdataset(icemod_data_filesREF, parallel=True, preprocess=prepro)\n",
    "tREF = xr.cftime_range(start=\"0001-01-03\", periods=73, freq=\"5D\", calendar=\"noleap\")\n",
    "timeREF = xr.DataArray(tREF, coords={\"time_counter\": tREF})\n",
    "timeREF.attrs = IREF.time_counter.attrs"
   ]
  },
  {
   "cell_type": "code",
   "execution_count": 28,
   "id": "16129701-7b40-45e6-a4ab-d1390b9c1e49",
   "metadata": {},
   "outputs": [],
   "source": [
    "tFUT = xr.cftime_range(start=\"0001-01-03\", periods=73, freq=\"5D\", calendar=\"noleap\")\n",
    "timeFUT = xr.DataArray(tFUT, coords={\"time_counter\": tFUT})\n",
    "timeFUT.attrs = IREF.time_counter.attrs"
   ]
  },
  {
   "cell_type": "code",
   "execution_count": 29,
   "id": "b741b3da-6d4f-4f95-a5f1-99799a059905",
   "metadata": {},
   "outputs": [],
   "source": [
    "REFsc = REFsc.rename({\"dayofyear\": \"time_counter\"})\n",
    "REFsc[\"time_counter\"] = timeREF\n",
    "FUTsc = FUTsc.rename({\"dayofyear\": \"time_counter\"})\n",
    "FUTsc[\"time_counter\"] = timeFUT"
   ]
  },
  {
   "cell_type": "code",
   "execution_count": 30,
   "id": "bfade630-de38-4488-b1c3-017ca448c660",
   "metadata": {},
   "outputs": [],
   "source": [
    "REFsc.to_netcdf(\"/data0/project/drakkar/USERS/jrieck/CREG12.L75-REF08-windwork/\"\n",
    "                + \"CREG12.L75-REF08_clim.5d_windwork.nc\")\n",
    "FUTsc.to_netcdf(\"/data0/project/drakkar/USERS/jrieck/CREG12.L75-FUT08-windwork/\"\n",
    "                + \"CREG12.L75-FUT08_clim.5d_windwork.nc\")"
   ]
  },
  {
   "cell_type": "code",
   "execution_count": null,
   "id": "ae0b6243-9df1-4885-bea8-7c581bec5687",
   "metadata": {},
   "outputs": [],
   "source": []
  }
 ],
 "metadata": {
  "kernelspec": {
   "display_name": "phyocean-2022.05",
   "language": "python",
   "name": "phyocean-2022.05"
  },
  "language_info": {
   "codemirror_mode": {
    "name": "ipython",
    "version": 3
   },
   "file_extension": ".py",
   "mimetype": "text/x-python",
   "name": "python",
   "nbconvert_exporter": "python",
   "pygments_lexer": "ipython3",
   "version": "3.8.13"
  }
 },
 "nbformat": 4,
 "nbformat_minor": 5
}
